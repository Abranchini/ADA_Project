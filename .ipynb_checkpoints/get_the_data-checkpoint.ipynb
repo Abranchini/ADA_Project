{
 "cells": [
  {
   "cell_type": "code",
   "execution_count": 1,
   "metadata": {},
   "outputs": [],
   "source": [
    "import numpy as np\n",
    "import pyspark\n",
    "import os\n",
    "import scipy as sp\n",
    "from pyspark.sql import *\n",
    "from pyspark.sql.functions import to_timestamp\n",
    "from pyspark.sql.types import *\n",
    "\n",
    "%matplotlib inline\n",
    "\n",
    "spark = SparkSession.builder.getOrCreate()\n",
    "\n"
   ]
  },
  {
   "cell_type": "code",
   "execution_count": 4,
   "metadata": {},
   "outputs": [],
   "source": [
    "GKG_SCHEMA = StructType([\n",
    "        StructField(\"GKGRECORDID\",StringType(),True),\n",
    "        StructField(\"DATE\",StringType(),True),\n",
    "        StructField(\"SourceCollectionIdentifier\",StringType(),True),\n",
    "        StructField(\"SourceCommonName\",StringType(),True),\n",
    "        StructField(\"DocumentIdentifier\",StringType(),True),\n",
    "        StructField(\"Counts\",StringType(),True),\n",
    "        StructField(\"V2Counts\",StringType(),True),\n",
    "        StructField(\"Themes\",StringType(),True),\n",
    "        StructField(\"V2Themes\",StringType(),True),\n",
    "        StructField(\"Locations\",StringType(),True),\n",
    "        StructField(\"V2Locations\",StringType(),True),\n",
    "        StructField(\"Persons\",StringType(),True),\n",
    "        StructField(\"V2Persons\",StringType(),True),\n",
    "        StructField(\"Organizations\",StringType(),True),\n",
    "        StructField(\"V2Organizations\",StringType(),True),\n",
    "        StructField(\"V2Tone\",StringType(),True),\n",
    "        StructField(\"Dates\",StringType(),True),\n",
    "        StructField(\"GCAM\",StringType(),True),\n",
    "        StructField(\"SharingImage\",StringType(),True),\n",
    "        StructField(\"RelatedImages\",StringType(),True),\n",
    "        StructField(\"SocialImageEmbeds\",StringType(),True),\n",
    "        StructField(\"SocialVideoEmbeds\",StringType(),True),\n",
    "        StructField(\"Quotations\",StringType(),True),\n",
    "        StructField(\"AllNames\",StringType(),True),\n",
    "        StructField(\"Amounts\",StringType(),True),\n",
    "        StructField(\"TranslationInfo\",StringType(),True),\n",
    "        StructField(\"Extras\",StringType(),True)\n",
    "        ])\n",
    "\n",
    "EVENTS_SCHEMA = StructType([\n",
    "    StructField(\"GLOBALEVENTID\",LongType(),True),\n",
    "    StructField(\"Day_DATE\",StringType(),True),\n",
    "    StructField(\"MonthYear_Date\",StringType(),True),\n",
    "    StructField(\"Year_Date\",StringType(),True),\n",
    "    StructField(\"FractionDate\",FloatType(),True),\n",
    "    StructField(\"Actor1Code\",StringType(),True),\n",
    "    StructField(\"Actor1Name\",StringType(),True),\n",
    "    StructField(\"Actor1CountryCode\",StringType(),True),\n",
    "    StructField(\"Actor1KnownGroupCode\",StringType(),True),\n",
    "    StructField(\"Actor1EthnicCode\",StringType(),True),\n",
    "    StructField(\"Actor1Religion1Code\",StringType(),True),\n",
    "    StructField(\"Actor1Religion2Code\",StringType(),True),\n",
    "    StructField(\"Actor1Type1Code\",StringType(),True),\n",
    "    StructField(\"Actor1Type2Code\",StringType(),True),\n",
    "    StructField(\"Actor1Type3Code\",StringType(),True),\n",
    "    StructField(\"Actor2Code\",StringType(),True),\n",
    "    StructField(\"Actor2Name\",StringType(),True),\n",
    "    StructField(\"Actor2CountryCode\",StringType(),True),\n",
    "    StructField(\"Actor2KnownGroupCode\",StringType(),True),\n",
    "    StructField(\"Actor2EthnicCode\",StringType(),True),\n",
    "    StructField(\"Actor2Religion1Code\",StringType(),True),\n",
    "    StructField(\"Actor2Religion2Code\",StringType(),True),\n",
    "    StructField(\"Actor2Type1Code\",StringType(),True),\n",
    "    StructField(\"Actor2Type2Code\",StringType(),True),\n",
    "    StructField(\"Actor2Type3Code\",StringType(),True),\n",
    "    StructField(\"IsRootEvent\",LongType(),True),\n",
    "    StructField(\"EventCode\",StringType(),True),\n",
    "    StructField(\"EventBaseCode\",StringType(),True),\n",
    "    StructField(\"EventRootCode\",StringType(),True),\n",
    "    StructField(\"QuadClass\",LongType(),True),\n",
    "    StructField(\"GoldsteinScale\",FloatType(),True),\n",
    "    StructField(\"NumMentions\",LongType(),True),\n",
    "    StructField(\"NumSources\",LongType(),True),\n",
    "    StructField(\"NumArticles\",LongType(),True),\n",
    "    StructField(\"AvgTone\",FloatType(),True),\n",
    "    StructField(\"Actor1Geo_Type\",LongType(),True),\n",
    "    StructField(\"Actor1Geo_FullName\",StringType(),True),\n",
    "    StructField(\"Actor1Geo_CountryCode\",StringType(),True),\n",
    "    StructField(\"Actor1Geo_ADM1Code\",StringType(),True),\n",
    "    StructField(\"Actor1Geo_ADM2Code\",StringType(),True),\n",
    "    StructField(\"Actor1Geo_Lat\",FloatType(),True),\n",
    "    StructField(\"Actor1Geo_Long\",FloatType(),True),\n",
    "    StructField(\"Actor1Geo_FeatureID\",StringType(),True),\n",
    "    StructField(\"Actor2Geo_Type\",LongType(),True),\n",
    "    StructField(\"Actor2Geo_FullName\",StringType(),True),\n",
    "    StructField(\"Actor2Geo_CountryCode\",StringType(),True),\n",
    "    StructField(\"Actor2Geo_ADM1Code\",StringType(),True),\n",
    "    StructField(\"Actor2Geo_ADM2Code\",StringType(),True),\n",
    "    StructField(\"Actor2Geo_Lat\",FloatType(),True),\n",
    "    StructField(\"Actor2Geo_Long\",FloatType(),True),\n",
    "    StructField(\"Actor2Geo_FeatureID\",StringType(),True),\n",
    "    StructField(\"ActionGeo_Type\",LongType(),True),\n",
    "    StructField(\"ActionGeo_FullName\",StringType(),True),\n",
    "    StructField(\"ActionGeo_CountryCode\",StringType(),True),\n",
    "    StructField(\"ActionGeo_ADM1Code\",StringType(),True),\n",
    "    StructField(\"ActionGeo_ADM2Code\",StringType(),True),\n",
    "    StructField(\"ActionGeo_Lat\",FloatType(),True),\n",
    "    StructField(\"ActionGeo_Long\",FloatType(),True),\n",
    "    StructField(\"ActionGeo_FeatureID\",StringType(),True),\n",
    "    StructField(\"DATEADDED\",LongType(),True),\n",
    "    StructField(\"SOURCEURL\",StringType(),True)\n",
    "    ])\n",
    "\n",
    "MENTIONS_SCHEMA = StructType([\n",
    "    StructField(\"GLOBALEVENTID\",LongType(),True),\n",
    "    StructField(\"EventTimeDate\",LongType(),True),\n",
    "    StructField(\"MentionTimeDate\",LongType(),True),\n",
    "    StructField(\"MentionType\",LongType(),True),\n",
    "    StructField(\"MentionSourceName\",StringType(),True),\n",
    "    StructField(\"MentionIdentifier\",StringType(),True),\n",
    "    StructField(\"SentenceID\",LongType(),True),\n",
    "    StructField(\"Actor1CharOffset\",LongType(),True),\n",
    "    StructField(\"Actor2CharOffset\",LongType(),True),\n",
    "    StructField(\"ActionCharOffset\",LongType(),True),\n",
    "    StructField(\"InRawText\",LongType(),True),\n",
    "    StructField(\"Confidence\",LongType(),True),\n",
    "    StructField(\"MentionDocLen\",LongType(),True),\n",
    "    StructField(\"MentionDocTone\",FloatType(),True),\n",
    "    StructField(\"MentionDocTranslationInfo\",StringType(),True),\n",
    "    StructField(\"Extras\",StringType(),True)\n",
    "    ])"
   ]
  },
  {
   "cell_type": "code",
   "execution_count": 39,
   "metadata": {},
   "outputs": [],
   "source": [
    "## Change this in the cluster\n",
    "\n",
    "#DATA_DIR = 'hdfs:///datasets/gdeltv2'\n",
    "DATA_DIR = '../data/'\n",
    "\n",
    "# directory for local files (ex.: UrlToCountry)\n",
    "DATA_LOCAL = '../data/'"
   ]
  },
  {
   "cell_type": "code",
   "execution_count": 12,
   "metadata": {},
   "outputs": [],
   "source": [
    "events_df = spark.read.option(\"sep\", \"\\t\").csv(os.path.join(DATA_DIR, \"*.export.CSV\"),schema=EVENTS_SCHEMA)\n",
    "gkg_df = spark.read.option(\"sep\", \"\\t\").csv(os.path.join(DATA_DIR, \"*.gkg.csv\"),schema=GKG_SCHEMA)"
   ]
  },
  {
   "cell_type": "code",
   "execution_count": 13,
   "metadata": {},
   "outputs": [
    {
     "name": "stdout",
     "output_type": "stream",
     "text": [
      "+-----------------+--------------+--------------------------+--------------------+--------------------+--------------------+--------------------+--------------------+--------------------+--------------------+--------------------+--------------------+--------------------+--------------------+--------------------+--------------------+--------------------+--------------------+--------------------+--------------------+--------------------+--------------------+--------------------+--------------------+--------------------+---------------+--------------------+\n",
      "|      GKGRECORDID|          DATE|SourceCollectionIdentifier|    SourceCommonName|  DocumentIdentifier|              Counts|            V2Counts|              Themes|            V2Themes|           Locations|         V2Locations|             Persons|           V2Persons|       Organizations|     V2Organizations|              V2Tone|               Dates|                GCAM|        SharingImage|       RelatedImages|   SocialImageEmbeds|   SocialVideoEmbeds|          Quotations|            AllNames|             Amounts|TranslationInfo|              Extras|\n",
      "+-----------------+--------------+--------------------------+--------------------+--------------------+--------------------+--------------------+--------------------+--------------------+--------------------+--------------------+--------------------+--------------------+--------------------+--------------------+--------------------+--------------------+--------------------+--------------------+--------------------+--------------------+--------------------+--------------------+--------------------+--------------------+---------------+--------------------+\n",
      "| 20171123080000-0|20171123080000|                         1|             msn.com|http://www.msn.co...|AFFECT#2000000##4...|AFFECT#2000000##4...|TAX_ETHNICITY;TAX...|WB_2433_CONFLICT_...|1#Serbia#RI#RI#44...|1#America#US#US##...|christian europe;...|Christian Europe,...|eotvos karoly pol...|Eotvos Karoly Pol...|-3.61351139041634...|     1#0#0#2013#4116|wc:1129,c12.1:74,...|                null|http://img-s-msn-...|                null|                null|310|43||Don''t le...|George Soros,256;...|7,of Orban statem...|           null|<PAGE_LINKS>http:...|\n",
      "| 20171123080000-1|20171123080000|                         1|business-standard...|http://www.busine...|                null|                null|WB_137_WATER;WB_1...|TAX_ETHNICITY_TIB...|4#Mangkam, Xizang...|1#India#IN#IN##20...|     yarlung tsangpo| Yarlung Tsangpo,685|              xinhua|         Xinhua,2410|-1.78217821782178...|     1#0#0#2014#1211|wc:471,c1.2:3,c1....|http://bsmedia.bu...|                null|                null|https://youtube.c...|                null|Arunachal Pradesh...|6000000,cubic met...|           null|<PAGE_AUTHORS>Pre...|\n",
      "| 20171123080000-2|20171123080000|                         1|            scmp.com|http://www.scmp.c...|ARREST#2019##1#Ho...|ARREST#2019##1#Ho...|MEDIA_MSM;TAX_FNC...|TRAFFIC,1506;GENE...|4#Mong Kok, Hong ...|1#Hong Kong#HK#HK...|                null|                null|          high court|      High Court,825|-10.1754385964912...|3#11#25#2014#762;...|wc:243,c12.1:18,c...|https://cdn2.i-sc...|https://cdn4.i-sc...|                null|                null|                null|Hong Kong,29;Hong...|8000000,on Novemb...|           null|<PAGE_LINKS>http:...|\n",
      "| 20171123080000-3|20171123080000|                         1|    hamiltonnews.com|https://www.hamil...|                null|                null|                null|                null|1#Saudi Arabia#SA...|1#Russia#RS#RS##6...|dellen millard;jo...|Dellen Millard,49...|more stories in y...|More Stories In Y...|0.398803589232303...|4#11#22#0#4515;4#...|wc:847,c1.1:1,c1....|https://www.hamil...|                null|                null|                null|3946|187||If you'...|Sam Merulla,189;F...|4,councillor will...|           null|<PAGE_LINKS>https...|\n",
      "| 20171123080000-4|20171123080000|                         1|       eureporter.co|https://www.eurep...|                null|                null|ARMEDCONFLICT;EPU...|BAN,566;EPU_POLIC...|4#Kyiv, Kyyiv, Mi...|4#Kyiv, Kyyiv, Mi...|november meps;erp...|                null|agriculture commi...|Agriculture Commi...|1.02827763496144,...|       4#6#28#0#1133|wc:351,c1.2:1,c12...|https://www.eurep...|                null|                null|https://youtube.c...|                null|Agriculture Commi...|      29,votes,1035;|           null|<PAGE_LINKS>;http...|\n",
      "| 20171123080000-5|20171123080000|                         1|          iheart.com|https://wgiram.ih...|                null|                null|TAX_ETHNICITY;TAX...|TAX_ETHNICITY_IND...|                null|                null|                null|                null|indian army captu...|Indian Army Captu...|-1.38888888888889...|                null|wc:129,c1.3:1,c12...|https://i.iheart....|                null|                null|                null|                null|Indian Army Captu...|58,men riding a s...|           null|<PAGE_LINKS>https...|\n",
      "| 20171123080000-6|20171123080000|                         1|            metro.us|https://www.metro...|                null|                null|TAX_FNCACT;TAX_FN...|EPU_ECONOMY_HISTO...|1#Hong Kong#HK#HK...|1#Singapore#SN#SN...|kim coghill;chris...|Kim Coghill,2152;...|cathay pacific ai...|Cathay Pacific Ai...|-1.31233595800525...|                null|wc:358,c12.1:20,c...|https://www.metro...|https://www.metro...|                null|                null|1180|40||reasonab...|Cathay Pacific,17...|64,dollars ,594;3...|           null|<PAGE_PRECISEPUBT...|\n",
      "| 20171123080000-7|20171123080000|                         1|            kltv.com|http://www.kltv.c...|                null|                null|MOVEMENT_GENERAL;...|TAX_FNCACT_WOMAN,...|                null|                null|crockett bostonje...|Crockett Bostonje...|             twitter|         Twitter,880|3.7037037037037,4...|      1#0#0#1941#289|wc:244,c1.1:2,c12...|http://kltv.image...|http://kltv.image...|http://pic.twitte...|                null|                null|Carol Sims,58;Mar...|                null|           null|<PAGE_LINKS>http:...|\n",
      "| 20171123080000-8|20171123080000|                         1|       justjared.com|http://www.justja...|                null|                null|                null|                null|1#United States#U...|1#America#US#US##...|david arquette;le...|David Arquette,15...|                null|                null|6.97674418604651,...|                null|wc:39,c12.1:2,c12...|http://cdn01.cdn....|http://cdn01.cdn....|                null|                null|                null|Leighton Meester,...|                null|           null|<PAGE_LINKS>http:...|\n",
      "| 20171123080000-9|20171123080000|                         1|         reuters.com|https://www.reute...|KILL#800#civilian...|KILL#800#civilian...|LEADER;TAX_FNCACT...|TAX_FNCACT_SENATO...|1#Qatar#QA#QA#25....|1#Saudis#SA#SA##2...|bob corker;donald...|Bob Corker,2354;D...|u s congress;sena...|Senate Foreign Re...|-2.78184480234261...|                null|wc:623,c1.3:1,c12...|https://s3.reuter...|https://s3.reuter...|                null|https://youtube.c...|                null|Saudi Arabia,15;P...|7000000000,dollar...|           null|<PAGE_AUTHORS>Yar...|\n",
      "|20171123080000-10|20171123080000|                         1|   theregister.co.uk|http://www.thereg...|                null|                null|TAX_WORLDMAMMALS;...|TAX_FNCACT_PROFES...|1#Germany#GM#GM#5...|1#Antarctica#AY#A...|                null|                null|university of wis...|University Of Wis...|0.21321961620469,...|     1#0#0#2010#1521|wc:434,c12.1:17,c...|https://regmedia....|                null|                null|https://youtube.c...|1497|78||consiste...|Standard Model,64...|100000000000000,p...|           null|<PAGE_LINKS>https...|\n",
      "|20171123080000-11|20171123080000|                         1|          people.com|http://people.com...|                null|                null|TAX_ETHNICITY;TAX...|TAX_WORLDMAMMALS_...|                null|                null|santa bey;shinin ...|Santa Bey,394;Shi...|                null|                null|3.16091954022989,...|                null|wc:292,c1.1:7,c12...|https://peopledot...|https://peopledot...|                null|https://youtube.c...|1112|31||Shinin' ...|Wishes You,38;Wit...|40,dollars ,454;4...|           null|<PAGE_LINKS>http:...|\n",
      "|20171123080000-12|20171123080000|                         1|      thebiglead.com|http://thebiglead...|                null|                null|                null|                null|3#Los Angeles, Ca...|3#Los Angeles, Ca...|      kendall jenner|Kendall Jenner,42...|instagram;los ang...|Instagram,892;New...|0.595238095238095...|                null|wc:149,c12.1:18,c...|https://usatthebi...|https://usatthebi...|http://instagram....|                null|                null|Blake Griffin,17;...|      21,points,189;|           null|<PAGE_LINKS>http:...|\n",
      "|20171123080000-13|20171123080000|                         1|            goal.com|http://www.goal.c...|                null|                null|                null|                null|1#Nigeria#NI#NI#1...|1#Nigeria#NI#NI##...|alex iwobi alex i...|Alex Iwobi Alex I...|english premier l...|English Premier L...|3.55029585798817,...|                null|wc:315,c12.1:40,c...|https://images.pe...|https://images.pe...|                null|                null|                null|Alex Iwobi,77;Ars...|6,English Premier...|           null|<PAGE_AUTHORS>{;S...|\n",
      "|20171123080000-14|20171123080000|                         1|       ibtimes.co.in|http://www.ibtime...|                null|                null|RETIREMENT;TAX_FN...|ECON_STOCKMARKET,...|1#India#IN#IN#20#...|1#India#IN#IN##20...|    virjesh upadhyay|Virjesh Upadhyay,...|supreme court;cen...|Supreme Court,423...|0.202429149797571...|       4#11#23#0#219|wc:465,c1.2:1,c1....|http://data1.ibti...|http://data1.ibti...|                null|                null|                null|Employee Providen...|                null|           null|<PAGE_AUTHORS>Van...|\n",
      "|20171123080000-15|20171123080000|                         1|business-standard...|http://www.busine...|                null|                null|ECON_STOCKMARKET;...|EPU_POLICY_REGULA...|1#China#CH#CH#35#...|4#Calcutta, West ...|vijay agarwal;sor...|Vijay Agarwal,142...|jai corp;kolte-pa...|Jai Corp,64;Jai C...|1.29310344827586,...|                null|wc:423,c1.2:2,c12...|http://bsmedia.bu...|                null|                null|https://youtube.c...|                null|Kolte-Patil Devel...|12,stocks,2;12,st...|           null|<PAGE_LINKS>http:...|\n",
      "|20171123080000-16|20171123080000|                         1|    eldoradonews.com|http://www.eldora...|                null|                null|                null|                null|2#Arkansas, Unite...|2#Arkansas, Unite...|canon morgan;zack...|Canon Morgan,5237...|bank trust tourna...|Bank Trust Tourna...|-0.07262164124909...|     1#0#0#2013#3477|wc:1252,c12.1:118...|http://media.arka...|                null|                null|                null|                null|Parkers Chapel,29...|10,offseason guys...|           null|                null|\n",
      "|20171123080000-17|20171123080000|                         1|   worldbulletin.net|http://www.worldb...|                null|                null|CRISISLEX_CRISISL...|TERROR,1097;WB_24...|1#Saudi Arabia#SA...|1#Bahrain#BA#BA##...|                null|                null|                null|                null|-6.28019323671498...|                null|wc:184,c12.1:9,c1...|http://media.worl...|http://media.worl...|                null|                null|                null|Worldbulletin New...|                null|           null|<PAGE_LINKS>http:...|\n",
      "|20171123080000-18|20171123080000|                         1|      denverpost.com|http://www.denver...|                null|                null|RETIREMENTS;UNGP_...|ECON_WORLDCURRENC...|3#Lincoln Creek, ...|3#Ridge View, Cal...|cardel villa;mike...|Cardel Villa,7402...|denver tech cente...|Adult Community,1...|1.86839967506093,...|                null|wc:2160,c1.1:5,c1...|http://www.denver...|https://i0.wp.com...|                null|                null|765|87||help Amer...|United States Tod...|12,destinations o...|           null|<PAGE_AUTHORS>Mar...|\n",
      "|20171123080000-19|20171123080000|                         1|   edenmagnet.com.au|http://www.edenma...|                null|                null|GENERAL_GOVERNMEN...|GENERAL_GOVERNMEN...|4#Merimbula, New ...|4#Pambula, New So...|ryan hayden;linda...|Ryan Hayden,12;Li...|bega valley shire...|Bega Valley Shire...|1.84331797235023,...|                null|wc:209,c1.4:1,c12...|http://nnimgt-a.a...|                null|                null|                null|                null|Bega Valley Shire...|11,Eden Marine Hi...|           null|<PAGE_PRECISEPUBT...|\n",
      "+-----------------+--------------+--------------------------+--------------------+--------------------+--------------------+--------------------+--------------------+--------------------+--------------------+--------------------+--------------------+--------------------+--------------------+--------------------+--------------------+--------------------+--------------------+--------------------+--------------------+--------------------+--------------------+--------------------+--------------------+--------------------+---------------+--------------------+\n",
      "only showing top 20 rows\n",
      "\n"
     ]
    }
   ],
   "source": [
    "gkg_df.show()"
   ]
  },
  {
   "cell_type": "code",
   "execution_count": 80,
   "metadata": {},
   "outputs": [
    {
     "name": "stdout",
     "output_type": "stream",
     "text": [
      "+-----------------------------------------------------------------------------------------------------------------------------------------------------------------------------+\n",
      "|SOURCEURL                                                                                                                                                                    |\n",
      "+-----------------------------------------------------------------------------------------------------------------------------------------------------------------------------+\n",
      "|http://www.wsws.org/en/articles/2017/11/23/gree-n23.html                                                                                                                     |\n",
      "|http://www.gdnonline.com/Details/295252/Man-who-raped,-killed-eight-year-old-Jordanian-boy-executed                                                                          |\n",
      "|http://www.wsws.org/en/articles/2017/11/23/gree-n23.html                                                                                                                     |\n",
      "|http://www.wsws.org/en/articles/2017/11/23/gree-n23.html                                                                                                                     |\n",
      "|https://www.thenational.ae/uae/america-s-black-friday-shopping-craze-spills-over-into-the-uae-1.677941                                                                       |\n",
      "|http://www.arkansasonline.com/news/2017/nov/23/northwest-arkansas-marshallese-work-to-/                                                                                      |\n",
      "|http://www.arkansasonline.com/news/2017/nov/23/northwest-arkansas-marshallese-work-to-/                                                                                      |\n",
      "|http://www.thesierraleonetelegraph.com/reasons-why-the-ruling-apc-of-sierra-leone-must-be-replaced-in-march-2018/                                                            |\n",
      "|http://www.gdnonline.com/Details/295252/Man-who-raped,-killed-eight-year-old-Jordanian-boy-executed                                                                          |\n",
      "|http://www.gdnonline.com/Details/295252/Man-who-raped,-killed-eight-year-old-Jordanian-boy-executed                                                                          |\n",
      "|http://www.gdnonline.com/Details/295252/Man-who-raped,-killed-eight-year-old-Jordanian-boy-executed                                                                          |\n",
      "|http://www.gdnonline.com/Details/295252/Man-who-raped,-killed-eight-year-old-Jordanian-boy-executed                                                                          |\n",
      "|http://www.koreaherald.com/view.php?ud=20171123000668                                                                                                                        |\n",
      "|http://www.gdnonline.com/Details/295252/Man-who-raped,-killed-eight-year-old-Jordanian-boy-executed                                                                          |\n",
      "|https://www.thenational.ae/uae/america-s-black-friday-shopping-craze-spills-over-into-the-uae-1.677941                                                                       |\n",
      "|http://www.hexham-courant.co.uk/news/national/article/Celtic-boss-says-side-will-be-ready-for-Betfred-Cup-final-despite-PSG-thrashing-de8d5be9-33b8-4f88-ade8-f405d29035ac-ds|\n",
      "|http://world.kbs.co.kr/english/news/news_In_detail.htm?No=131887                                                                                                             |\n",
      "|http://world.kbs.co.kr/english/news/news_In_detail.htm?No=131887                                                                                                             |\n",
      "|http://world.kbs.co.kr/english/news/news_In_detail.htm?No=131887                                                                                                             |\n",
      "|http://world.kbs.co.kr/english/news/news_In_detail.htm?No=131887                                                                                                             |\n",
      "+-----------------------------------------------------------------------------------------------------------------------------------------------------------------------------+\n",
      "only showing top 20 rows\n",
      "\n"
     ]
    }
   ],
   "source": [
    "events_df.select(\"SOURCEURL\").show(20,False)"
   ]
  },
  {
   "cell_type": "code",
   "execution_count": 15,
   "metadata": {},
   "outputs": [
    {
     "name": "stdout",
     "output_type": "stream",
     "text": [
      "4169 3639\n"
     ]
    }
   ],
   "source": [
    "print(gkg_df.count(), events_df.count())"
   ]
  },
  {
   "cell_type": "code",
   "execution_count": 22,
   "metadata": {},
   "outputs": [],
   "source": [
    "# save the DF as a Parquet file\n",
    "events_df.write.parquet(DATA_DIR + 'events.parquet')\n",
    "gkg_df.write.parquet(DATA_DIR + 'gkg.parquet')"
   ]
  },
  {
   "cell_type": "code",
   "execution_count": 24,
   "metadata": {},
   "outputs": [],
   "source": [
    "# load the data from Parquet file\n",
    "events_df = spark.read.parquet(DATA_DIR + 'events.parquet')\n",
    "gkg_df = spark.read.parquet(DATA_DIR + 'gkg.parquet')"
   ]
  },
  {
   "cell_type": "code",
   "execution_count": 29,
   "metadata": {},
   "outputs": [
    {
     "name": "stdout",
     "output_type": "stream",
     "text": [
      "+----------------+--------------+--------------------------+----------------+---------------------------------------------------------------------------------------------------+\n",
      "|GKGRECORDID     |DATE          |SourceCollectionIdentifier|SourceCommonName|Locations                                                                                          |\n",
      "+----------------+--------------+--------------------------+----------------+---------------------------------------------------------------------------------------------------+\n",
      "|20171123073000-0|20171123073000|1                         |nrl.com         |null                                                                                               |\n",
      "|20171123073000-1|20171123073000|1                         |360nobs.com     |1#United States#US#US#39.828175#-98.5795#US;1#Nigeria#NI#NI#10#8#NI;1#United Kingdom#UK#UK#54#-4#UK|\n",
      "+----------------+--------------+--------------------------+----------------+---------------------------------------------------------------------------------------------------+\n",
      "only showing top 2 rows\n",
      "\n"
     ]
    }
   ],
   "source": [
    "gkg_df.select(\"GKGRECORDID\", \"DATE\", \"SourceCollectionIdentifier\", \"SourceCommonName\", \"Locations\") \\\n",
    "                .filter(gkg_df[\"SourceCollectionIdentifier\"] == '1').show(2,False)"
   ]
  },
  {
   "cell_type": "code",
   "execution_count": 31,
   "metadata": {},
   "outputs": [],
   "source": [
    "# select the gkg data for Q1\n",
    "gkg_Q1 = gkg_df.select(\"GKGRECORDID\", \"DATE\", \"SourceCollectionIdentifier\", \"SourceCommonName\", \"Locations\") \\\n",
    "                .filter(gkg_df[\"SourceCollectionIdentifier\"] == '1')"
   ]
  },
  {
   "cell_type": "code",
   "execution_count": 45,
   "metadata": {},
   "outputs": [],
   "source": [
    "# open the file url to country\n",
    "UrlToCountry = spark.read.format(\"csv\").option(\"header\", \"true\").load(DATA_LOCAL + \"UrlToCountry.csv\")"
   ]
  },
  {
   "cell_type": "code",
   "execution_count": 46,
   "metadata": {},
   "outputs": [
    {
     "name": "stdout",
     "output_type": "stream",
     "text": [
      "+--------------+-----------------+\n",
      "|country_source|              url|\n",
      "+--------------+-----------------+\n",
      "|   Afghanistan|       1tvnews.af|\n",
      "|   Afghanistan|       1tvnews.af|\n",
      "|   Afghanistan|       1tvnews.af|\n",
      "|   Afghanistan|    ariananews.af|\n",
      "|   Afghanistan|    ariananews.af|\n",
      "|   Afghanistan|    ariananews.af|\n",
      "|   Afghanistan|da.azadiradio.com|\n",
      "|   Afghanistan|pa.azadiradio.com|\n",
      "|   Afghanistan|          bbc.com|\n",
      "|   Afghanistan|          bbc.com|\n",
      "|   Afghanistan|           dw.com|\n",
      "|   Afghanistan|           dw.com|\n",
      "|   Afghanistan|     dari.irib.ir|\n",
      "|   Afghanistan|   pashto.irib.ir|\n",
      "|   Afghanistan|        negaah.tv|\n",
      "|   Afghanistan|        nooraf.tv|\n",
      "|   Afghanistan|        rferl.org|\n",
      "|   Afghanistan|           tkg.af|\n",
      "|   Afghanistan|           tkg.af|\n",
      "|   Afghanistan|           tkg.af|\n",
      "+--------------+-----------------+\n",
      "only showing top 20 rows\n",
      "\n"
     ]
    }
   ],
   "source": [
    "# select and rename columns of interest\n",
    "UrlToCountry = UrlToCountry.select(UrlToCountry['Country name'].alias('country_source'), UrlToCountry['Clean URL'].alias('url')) \n",
    "UrlToCountry.show()"
   ]
  },
  {
   "cell_type": "code",
   "execution_count": 47,
   "metadata": {
    "scrolled": true
   },
   "outputs": [
    {
     "name": "stdout",
     "output_type": "stream",
     "text": [
      "+-----------------+--------------+--------------------------+--------------------+--------------------+--------------+--------------------+\n",
      "|      GKGRECORDID|          DATE|SourceCollectionIdentifier|    SourceCommonName|           Locations|country_source|                 url|\n",
      "+-----------------+--------------+--------------------------+--------------------+--------------------+--------------+--------------------+\n",
      "| 20171123073000-0|20171123073000|                         1|             nrl.com|                null|          null|                null|\n",
      "| 20171123073000-1|20171123073000|                         1|         360nobs.com|1#United States#U...|          null|                null|\n",
      "| 20171123073000-2|20171123073000|                         1|            ann7.com|4#Durban, Kwazulu...|  South Africa|            ann7.com|\n",
      "| 20171123073000-3|20171123073000|                         1|          openpr.com|1#Japan#JA#JA#36#...|          null|                null|\n",
      "| 20171123073000-4|20171123073000|                         1|      mcxcontrol.com|                null|          null|                null|\n",
      "| 20171123073000-5|20171123073000|                         1|      thetimes.co.uk|1#Ireland#EI#EI#5...|United Kingdom|      thetimes.co.uk|\n",
      "| 20171123073000-6|20171123073000|                         1|    moneycontrol.com|1#United States#U...|         India|    moneycontrol.com|\n",
      "| 20171123073000-7|20171123073000|                         1|            ketv.com|2#New York, Unite...| United States|            ketv.com|\n",
      "| 20171123073000-8|20171123073000|                         1|  weeklyregister.com|1#Chile#CI#CI#-30...|          null|                null|\n",
      "| 20171123073000-9|20171123073000|                         1|  heraldscotland.com|2#Florida, United...|United Kingdom|  heraldscotland.com|\n",
      "|20171123073000-10|20171123073000|                         1|thenorthernecho.c...|4#Northallerton, ...|United Kingdom|thenorthernecho.c...|\n",
      "|20171123073000-11|20171123073000|                         1|    itnewsafrica.com|4#Nairobi, Nairob...|          null|                null|\n",
      "|20171123073000-12|20171123073000|                         1|    lompocrecord.com|1#China#CH#CH#35#...| United States|    lompocrecord.com|\n",
      "|20171123073000-13|20171123073000|                         1|  dailypolitical.com|1#United States#U...|          null|                null|\n",
      "|20171123073000-14|20171123073000|                         1|       wallpaper.com|1#Portugal#PO#PO#...|          null|                null|\n",
      "|20171123073000-15|20171123073000|                         1|   meltontimes.co.uk|4#Haverhill, Suff...|United Kingdom|   meltontimes.co.uk|\n",
      "|20171123073000-16|20171123073000|                         1|     statesville.com|2#New York, Unite...|          null|                null|\n",
      "|20171123073000-17|20171123073000|                         1|          siasat.com|1#Iraq#IZ#IZ#33#4...|         India|          siasat.com|\n",
      "|20171123073000-17|20171123073000|                         1|          siasat.com|1#Iraq#IZ#IZ#33#4...|         India|          siasat.com|\n",
      "|20171123073000-17|20171123073000|                         1|          siasat.com|1#Iraq#IZ#IZ#33#4...|         India|          siasat.com|\n",
      "+-----------------+--------------+--------------------------+--------------------+--------------------+--------------+--------------------+\n",
      "only showing top 20 rows\n",
      "\n"
     ]
    }
   ],
   "source": [
    "# merge the two dataframes to get the country of the source \n",
    "gkg_Q1_country = gkg_Q1.join(UrlToCountry, UrlToCountry['url'] == gkg_Q1['SourceCommonName'], \"left_outer\") \n",
    "gkg_Q1_country.show()"
   ]
  },
  {
   "cell_type": "code",
   "execution_count": 75,
   "metadata": {},
   "outputs": [],
   "source": [
    "# extract and save urls that have no country \n",
    "unknown_urls = gkg_Q1_country.filter(\"country_source is null\")\\\n",
    "                             .select('SourceCommonName').distinct()\n",
    "unknown_urls.coalesce(1).write.csv(DATA_LOCAL+ \"unknown_urls\")"
   ]
  },
  {
   "cell_type": "code",
   "execution_count": 73,
   "metadata": {},
   "outputs": [],
   "source": [
    "# filter out countries with unknown url\n",
    "gkg_Q1_country_clean = gkg_Q1_country.filter(gkg_Q1_country.country_source.isNotNull())"
   ]
  },
  {
   "cell_type": "code",
   "execution_count": 74,
   "metadata": {},
   "outputs": [
    {
     "name": "stdout",
     "output_type": "stream",
     "text": [
      "unknown urls  438\n",
      "known urls 80\n"
     ]
    }
   ],
   "source": [
    "print('unknown urls ', unknown_urls.count())\n",
    "print('known urls', gkg_Q1_country_clean.select('country_source').distinct().count())"
   ]
  },
  {
   "cell_type": "code",
   "execution_count": 77,
   "metadata": {
    "scrolled": true
   },
   "outputs": [
    {
     "name": "stdout",
     "output_type": "stream",
     "text": [
      "+---------------------------------------------------------------------------------------------------------------------------+\n",
      "|Locations                                                                                                                  |\n",
      "+---------------------------------------------------------------------------------------------------------------------------+\n",
      "|null                                                                                                                       |\n",
      "|1#United States#US#US#39.828175#-98.5795#US;1#Nigeria#NI#NI#10#8#NI;1#United Kingdom#UK#UK#54#-4#UK                        |\n",
      "|4#Durban, Kwazulu-Natal, South Africa#SF#SF02#-29.85#31.0167#-1224926                                                      |\n",
      "|1#Japan#JA#JA#36#138#JA;1#United States#US#US#39.828175#-98.5795#US;1#Netherlands#NL#NL#52.5#5.75#NL;1#Spain#SP#SP#40#-4#SP|\n",
      "|null                                                                                                                       |\n",
      "+---------------------------------------------------------------------------------------------------------------------------+\n",
      "only showing top 5 rows\n",
      "\n"
     ]
    }
   ],
   "source": [
    "# get location of event\n",
    "gkg_df.select(\"Locations\").show(5,False)"
   ]
  },
  {
   "cell_type": "markdown",
   "metadata": {},
   "source": [
    "### Are we emotionally biased? \n",
    "**Do the number of conflicts or their distance from our home define our emotions? Is there an underlying trend of a more positive or negative news perception over time?**\n",
    "\n",
    "Fetch the following:\n",
    "\n",
    "- get the time of the event\n",
    "- get the country of the source (\"SourceCollectionIdentifier\" = 1 (only web), \"SourceCommonName\", GKG)\n",
    "- get the country of the event ('Locations', GKG -> longitude & latitude)\n",
    "- get the average tone of the event (\"AvgTone\", EXPORT)\n",
    "- get the ethnicity ('Actor1EthnicCode', Actor1Religion1Code, Actor1Religion2Code, Actor2EthnicCode', Actor2Religion1Code, Actor2Religion2Code, EXPORT) \n",
    "- Goldstein scale (GoldsteinScale, EXPORT)\n",
    "\n",
    "Analysis:\n",
    "\n",
    "- calculate the distance between the source and the country (get longitude & latitude of every country of the source -> compute euclidean distance)\n",
    "- dependence of average tone and distance\n",
    "- aggregate per country and average over average tone -> dependence between events per country and average tone\n",
    "- aggregate per religion/ethnicity and average over average tone (and/ or Goldstein) -> look at dependence\n",
    "- repeat the analysis in time bins\n",
    "\n",
    "Visualization:\n",
    "\n",
    "Discussion Thursday:\n",
    "- open all the files within 1 hour/ 1 day\n",
    "- count number of mentions an event gets and compare it to the number of mentions given\n",
    "- get the country from the url in mentions\n",
    "- calculate distance between country_source (from capital of country) and event_country (\"ActionGeo_Lat, and Long from EVENTS)\n",
    "- aggregate mentions over countries_source and event_country\n",
    "- MentionDocTone for each source might/will allow to get the emotion of the source country\n"
   ]
  },
  {
   "cell_type": "markdown",
   "metadata": {},
   "source": [
    "### Are some countries ignored in the news? \n",
    "**Is the number of conflicts taking place in a country in relation with the number of mentions in the media depending on where the conflict has happened?**\n",
    "\n",
    "Fetch the following:\n",
    "\n",
    "- country of the event (see above)\n",
    "- number of mentions (NumMentions, NumSources, NumArticles, EXPORT)\n",
    "\n",
    "Analysis:\n",
    "\n",
    "- aggregate per country and average over the number of mentions (which one?, or maybe all and then see) -> dependence between country and number of records"
   ]
  },
  {
   "cell_type": "markdown",
   "metadata": {},
   "source": [
    "### Are we emotionally predictable? \n",
    "**Can we observe patterns of emotions with respect to a country, religion or an ethnical group? Can we derive a model predicting emotions in case of a new conflict based on its specific features?**\n",
    "\n",
    "Fetch the following:\n",
    "\n",
    "- "
   ]
  },
  {
   "cell_type": "markdown",
   "metadata": {},
   "source": [
    "- group events by location, religion, ethnicity\n",
    "- average over average tone for this group"
   ]
  },
  {
   "cell_type": "code",
   "execution_count": null,
   "metadata": {},
   "outputs": [],
   "source": []
  }
 ],
 "metadata": {
  "kernelspec": {
   "display_name": "Python 3",
   "language": "python",
   "name": "python3"
  },
  "language_info": {
   "codemirror_mode": {
    "name": "ipython",
    "version": 3
   },
   "file_extension": ".py",
   "mimetype": "text/x-python",
   "name": "python",
   "nbconvert_exporter": "python",
   "pygments_lexer": "ipython3",
   "version": "3.6.6"
  }
 },
 "nbformat": 4,
 "nbformat_minor": 2
}
