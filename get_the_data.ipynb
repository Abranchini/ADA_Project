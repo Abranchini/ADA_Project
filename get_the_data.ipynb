{
 "cells": [
  {
   "cell_type": "code",
   "execution_count": 2,
   "metadata": {},
   "outputs": [],
   "source": [
    "import numpy as np\n",
    "import pyspark\n",
    "import os\n",
    "import scipy as sp\n",
    "from pyspark.sql import *\n",
    "from pyspark.sql.functions import to_timestamp\n",
    "from pyspark.sql.types import *\n",
    "\n",
    "%matplotlib inline\n",
    "\n",
    "spark = SparkSession.builder.getOrCreate()\n",
    "\n"
   ]
  },
  {
   "cell_type": "code",
   "execution_count": 7,
   "metadata": {},
   "outputs": [],
   "source": [
    "GKG_SCHEMA = StructType([\n",
    "        StructField(\"GKGRECORDID\",StringType(),True),\n",
    "        StructField(\"DATE\",StringType(),True),\n",
    "        StructField(\"SourceCollectionIdentifier\",StringType(),True),\n",
    "        StructField(\"SourceCommonName\",StringType(),True),\n",
    "        StructField(\"DocumentIdentifier\",StringType(),True),\n",
    "        StructField(\"Counts\",StringType(),True),\n",
    "        StructField(\"V2Counts\",StringType(),True),\n",
    "        StructField(\"Themes\",StringType(),True),\n",
    "        StructField(\"V2Themes\",StringType(),True),\n",
    "        StructField(\"Locations\",StringType(),True),\n",
    "        StructField(\"V2Locations\",StringType(),True),\n",
    "        StructField(\"Persons\",StringType(),True),\n",
    "        StructField(\"V2Persons\",StringType(),True),\n",
    "        StructField(\"Organizations\",StringType(),True),\n",
    "        StructField(\"V2Organizations\",StringType(),True),\n",
    "        StructField(\"V2Tone\",StringType(),True),\n",
    "        StructField(\"Dates\",StringType(),True),\n",
    "        StructField(\"GCAM\",StringType(),True),\n",
    "        StructField(\"SharingImage\",StringType(),True),\n",
    "        StructField(\"RelatedImages\",StringType(),True),\n",
    "        StructField(\"SocialImageEmbeds\",StringType(),True),\n",
    "        StructField(\"SocialVideoEmbeds\",StringType(),True),\n",
    "        StructField(\"Quotations\",StringType(),True),\n",
    "        StructField(\"AllNames\",StringType(),True),\n",
    "        StructField(\"Amounts\",StringType(),True),\n",
    "        StructField(\"TranslationInfo\",StringType(),True),\n",
    "        StructField(\"Extras\",StringType(),True)\n",
    "        ])\n",
    "\n",
    "EVENTS_SCHEMA = StructType([\n",
    "    StructField(\"GLOBALEVENTID\",LongType(),True),\n",
    "    StructField(\"Day_DATE\",StringType(),True),\n",
    "    StructField(\"MonthYear_Date\",StringType(),True),\n",
    "    StructField(\"Year_Date\",StringType(),True),\n",
    "    StructField(\"FractionDate\",FloatType(),True),\n",
    "    StructField(\"Actor1Code\",StringType(),True),\n",
    "    StructField(\"Actor1Name\",StringType(),True),\n",
    "    StructField(\"Actor1CountryCode\",StringType(),True),\n",
    "    StructField(\"Actor1KnownGroupCode\",StringType(),True),\n",
    "    StructField(\"Actor1EthnicCode\",StringType(),True),\n",
    "    StructField(\"Actor1Religion1Code\",StringType(),True),\n",
    "    StructField(\"Actor1Religion2Code\",StringType(),True),\n",
    "    StructField(\"Actor1Type1Code\",StringType(),True),\n",
    "    StructField(\"Actor1Type2Code\",StringType(),True),\n",
    "    StructField(\"Actor1Type3Code\",StringType(),True),\n",
    "    StructField(\"Actor2Code\",StringType(),True),\n",
    "    StructField(\"Actor2Name\",StringType(),True),\n",
    "    StructField(\"Actor2CountryCode\",StringType(),True),\n",
    "    StructField(\"Actor2KnownGroupCode\",StringType(),True),\n",
    "    StructField(\"Actor2EthnicCode\",StringType(),True),\n",
    "    StructField(\"Actor2Religion1Code\",StringType(),True),\n",
    "    StructField(\"Actor2Religion2Code\",StringType(),True),\n",
    "    StructField(\"Actor2Type1Code\",StringType(),True),\n",
    "    StructField(\"Actor2Type2Code\",StringType(),True),\n",
    "    StructField(\"Actor2Type3Code\",StringType(),True),\n",
    "    StructField(\"IsRootEvent\",LongType(),True),\n",
    "    StructField(\"EventCode\",StringType(),True),\n",
    "    StructField(\"EventBaseCode\",StringType(),True),\n",
    "    StructField(\"EventRootCode\",StringType(),True),\n",
    "    StructField(\"QuadClass\",LongType(),True),\n",
    "    StructField(\"GoldsteinScale\",FloatType(),True),\n",
    "    StructField(\"NumMentions\",LongType(),True),\n",
    "    StructField(\"NumSources\",LongType(),True),\n",
    "    StructField(\"NumArticles\",LongType(),True),\n",
    "    StructField(\"AvgTone\",FloatType(),True),\n",
    "    StructField(\"Actor1Geo_Type\",LongType(),True),\n",
    "    StructField(\"Actor1Geo_FullName\",StringType(),True),\n",
    "    StructField(\"Actor1Geo_CountryCode\",StringType(),True),\n",
    "    StructField(\"Actor1Geo_ADM1Code\",StringType(),True),\n",
    "    StructField(\"Actor1Geo_ADM2Code\",StringType(),True),\n",
    "    StructField(\"Actor1Geo_Lat\",FloatType(),True),\n",
    "    StructField(\"Actor1Geo_Long\",FloatType(),True),\n",
    "    StructField(\"Actor1Geo_FeatureID\",StringType(),True),\n",
    "    StructField(\"Actor2Geo_Type\",LongType(),True),\n",
    "    StructField(\"Actor2Geo_FullName\",StringType(),True),\n",
    "    StructField(\"Actor2Geo_CountryCode\",StringType(),True),\n",
    "    StructField(\"Actor2Geo_ADM1Code\",StringType(),True),\n",
    "    StructField(\"Actor2Geo_ADM2Code\",StringType(),True),\n",
    "    StructField(\"Actor2Geo_Lat\",FloatType(),True),\n",
    "    StructField(\"Actor2Geo_Long\",FloatType(),True),\n",
    "    StructField(\"Actor2Geo_FeatureID\",StringType(),True),\n",
    "    StructField(\"ActionGeo_Type\",LongType(),True),\n",
    "    StructField(\"ActionGeo_FullName\",StringType(),True),\n",
    "    StructField(\"ActionGeo_CountryCode\",StringType(),True),\n",
    "    StructField(\"ActionGeo_ADM1Code\",StringType(),True),\n",
    "    StructField(\"ActionGeo_ADM2Code\",StringType(),True),\n",
    "    StructField(\"ActionGeo_Lat\",FloatType(),True),\n",
    "    StructField(\"ActionGeo_Long\",FloatType(),True),\n",
    "    StructField(\"ActionGeo_FeatureID\",StringType(),True),\n",
    "    StructField(\"DATEADDED\",LongType(),True),\n",
    "    StructField(\"SOURCEURL\",StringType(),True)\n",
    "    ])\n",
    "\n",
    "MENTIONS_SCHEMA = StructType([\n",
    "    StructField(\"GLOBALEVENTID\",LongType(),True),\n",
    "    StructField(\"EventTimeDate\",LongType(),True),\n",
    "    StructField(\"MentionTimeDate\",LongType(),True),\n",
    "    StructField(\"MentionType\",LongType(),True),\n",
    "    StructField(\"MentionSourceName\",StringType(),True),\n",
    "    StructField(\"MentionIdentifier\",StringType(),True),\n",
    "    StructField(\"SentenceID\",LongType(),True),\n",
    "    StructField(\"Actor1CharOffset\",LongType(),True),\n",
    "    StructField(\"Actor2CharOffset\",LongType(),True),\n",
    "    StructField(\"ActionCharOffset\",LongType(),True),\n",
    "    StructField(\"InRawText\",LongType(),True),\n",
    "    StructField(\"Confidence\",LongType(),True),\n",
    "    StructField(\"MentionDocLen\",LongType(),True),\n",
    "    StructField(\"MentionDocTone\",FloatType(),True),\n",
    "    StructField(\"MentionDocTranslationInfo\",StringType(),True),\n",
    "    StructField(\"Extras\",StringType(),True)\n",
    "    ])"
   ]
  },
  {
   "cell_type": "code",
   "execution_count": 13,
   "metadata": {},
   "outputs": [],
   "source": [
    "## Change this in the cluster\n",
    "\n",
    "#DATA_DIR = 'hdfs:///datasets/gdeltv2'\n",
    "DATA_DIR = 'data/'\n",
    "\n",
    "# directory for local files (ex.: UrlToCountry)\n",
    "DATA_LOCAL = 'data/'"
   ]
  },
  {
   "cell_type": "code",
   "execution_count": 11,
   "metadata": {},
   "outputs": [],
   "source": [
    "# open GDELT data\n",
    "gkg_df = spark.read.option(\"sep\", \"\\t\").csv(os.path.join(DATA_DIR, \"*.gkg.csv\"),schema=GKG_SCHEMA)\n",
    "events_df = spark.read.option(\"sep\", \"\\t\").csv(os.path.join(DATA_DIR, \"*.export.CSV\"),schema=EVENTS_SCHEMA)\n",
    "mentions_df = spark.read.option(\"sep\", \"\\t\").csv(os.path.join(DATA_DIR, \"*.mentions.CSV\"),schema=MENTIONS_SCHEMA)"
   ]
  },
  {
   "cell_type": "code",
   "execution_count": 14,
   "metadata": {},
   "outputs": [],
   "source": [
    "# open helper datasets\n",
    "UrlToCountry = spark.read.format(\"csv\").option(\"header\", \"true\").load(DATA_LOCAL + \"UrlToCountry.csv\")\n",
    "CountryToCapital = spark.read.format(\"csv\").option(\"header\", \"true\").load(DATA_LOCAL + \"country-capitals.csv\")"
   ]
  },
  {
   "cell_type": "code",
   "execution_count": 15,
   "metadata": {},
   "outputs": [
    {
     "name": "stdout",
     "output_type": "stream",
     "text": [
      "number of unknown urls:  128\n",
      "number of known urls:  60\n"
     ]
    }
   ],
   "source": [
    "# select the required data from Mentions Dataset\n",
    "mentions_q1_df = mentions_df.select(\"GLOBALEVENTID\", \"EventTimeDate\", \"MentionType\", \"MentionSourceName\") \\\n",
    "                .filter(mentions_df[\"MentionType\"] == '1')\n",
    "\n",
    "# join the dataframe url to country\n",
    "UrlToCountry = UrlToCountry.select(UrlToCountry['Country name'].alias('country_source'), UrlToCountry['Clean URL'].alias('url')) \n",
    "mentions_q1_country = mentions_q1_df.join(UrlToCountry, UrlToCountry['url'] == mentions_q1_df['MentionSourceName'], \"left_outer\") \n",
    "\n",
    "# print the number of urls that have no country\n",
    "print('number of unknown urls: ', mentions_q1_country.filter(\"country_source is null\").select('MentionSourceName').distinct().count())\n",
    "\n",
    "# filter out urls that are unknown\n",
    "mentions_filter_df = mentions_q1_country.filter(mentions_q1_country.country_source.isNotNull())\n",
    "\n",
    "# print the number of urls associated to a country\n",
    "print('number of known urls: ', mentions_filter_df.select('country_source').distinct().count())"
   ]
  },
  {
   "cell_type": "code",
   "execution_count": 16,
   "metadata": {},
   "outputs": [
    {
     "name": "stdout",
     "output_type": "stream",
     "text": [
      "Total number of countries:  5938\n",
      "Number of countries with no coordinates:  323\n"
     ]
    }
   ],
   "source": [
    "# join the file with the countries and capitals\n",
    "mentions_coord_df = mentions_filter_df.join(CountryToCapital, CountryToCapital['CountryName'] == mentions_filter_df['country_source'], \"left_outer\") \n",
    "print('Total number of countries: ', mentions_coord_df.count())\n",
    "print('Number of countries with no coordinates: ', mentions_coord_df.filter(\"CapitalLatitude is null\").count())\n",
    "\n",
    "# filter out rows with no geographic coordinates\n",
    "mentions_filter_coord_df = mentions_coord_df.filter(mentions_coord_df.CapitalLatitude.isNotNull())\n",
    "\n",
    "# select relevant columns \n",
    "mentions_clean_df = mentions_filter_coord_df.select('GLOBALEVENTID', 'EventTimeDate','CountryCode', 'CountryName', mentions_filter_coord_df['CapitalLatitude'].alias('Source_Lat'),\n",
    "                                                   mentions_filter_coord_df['CapitalLongitude'].alias('Source_Long'))"
   ]
  },
  {
   "cell_type": "code",
   "execution_count": 17,
   "metadata": {},
   "outputs": [
    {
     "name": "stdout",
     "output_type": "stream",
     "text": [
      "Total number of events:  3639\n",
      "Number of events with geographic coordinates:  3527\n"
     ]
    }
   ],
   "source": [
    "# select Data from Events Dataset\n",
    "events_q1_df= events_df.select(\"GLOBALEVENTID\", \"ActionGeo_Lat\", \"ActionGeo_Long\", \"NumMentions\",\"NumSources\",\"NumArticles\",\"AvgTone\")\n",
    "\n",
    "# filter out events that have no geographic coordinates\n",
    "print('Total number of events: ', events_q1_df.count())\n",
    "events_clean_df = events_q1_df.filter(events_q1_df.ActionGeo_Lat.isNotNull())\n",
    "print('Number of events with geographic coordinates: ', events_clean_df.count())\n",
    "\n",
    "# merge the clean events and mentions dfs\n",
    "event_mentions_df = events_clean_df.join(mentions_clean_df, 'GLOBALEVENTID') "
   ]
  },
  {
   "cell_type": "code",
   "execution_count": 80,
   "metadata": {},
   "outputs": [
    {
     "name": "stdout",
     "output_type": "stream",
     "text": [
      "+-----------------------------------------------------------------------------------------------------------------------------------------------------------------------------+\n",
      "|SOURCEURL                                                                                                                                                                    |\n",
      "+-----------------------------------------------------------------------------------------------------------------------------------------------------------------------------+\n",
      "|http://www.wsws.org/en/articles/2017/11/23/gree-n23.html                                                                                                                     |\n",
      "|http://www.gdnonline.com/Details/295252/Man-who-raped,-killed-eight-year-old-Jordanian-boy-executed                                                                          |\n",
      "|http://www.wsws.org/en/articles/2017/11/23/gree-n23.html                                                                                                                     |\n",
      "|http://www.wsws.org/en/articles/2017/11/23/gree-n23.html                                                                                                                     |\n",
      "|https://www.thenational.ae/uae/america-s-black-friday-shopping-craze-spills-over-into-the-uae-1.677941                                                                       |\n",
      "|http://www.arkansasonline.com/news/2017/nov/23/northwest-arkansas-marshallese-work-to-/                                                                                      |\n",
      "|http://www.arkansasonline.com/news/2017/nov/23/northwest-arkansas-marshallese-work-to-/                                                                                      |\n",
      "|http://www.thesierraleonetelegraph.com/reasons-why-the-ruling-apc-of-sierra-leone-must-be-replaced-in-march-2018/                                                            |\n",
      "|http://www.gdnonline.com/Details/295252/Man-who-raped,-killed-eight-year-old-Jordanian-boy-executed                                                                          |\n",
      "|http://www.gdnonline.com/Details/295252/Man-who-raped,-killed-eight-year-old-Jordanian-boy-executed                                                                          |\n",
      "|http://www.gdnonline.com/Details/295252/Man-who-raped,-killed-eight-year-old-Jordanian-boy-executed                                                                          |\n",
      "|http://www.gdnonline.com/Details/295252/Man-who-raped,-killed-eight-year-old-Jordanian-boy-executed                                                                          |\n",
      "|http://www.koreaherald.com/view.php?ud=20171123000668                                                                                                                        |\n",
      "|http://www.gdnonline.com/Details/295252/Man-who-raped,-killed-eight-year-old-Jordanian-boy-executed                                                                          |\n",
      "|https://www.thenational.ae/uae/america-s-black-friday-shopping-craze-spills-over-into-the-uae-1.677941                                                                       |\n",
      "|http://www.hexham-courant.co.uk/news/national/article/Celtic-boss-says-side-will-be-ready-for-Betfred-Cup-final-despite-PSG-thrashing-de8d5be9-33b8-4f88-ade8-f405d29035ac-ds|\n",
      "|http://world.kbs.co.kr/english/news/news_In_detail.htm?No=131887                                                                                                             |\n",
      "|http://world.kbs.co.kr/english/news/news_In_detail.htm?No=131887                                                                                                             |\n",
      "|http://world.kbs.co.kr/english/news/news_In_detail.htm?No=131887                                                                                                             |\n",
      "|http://world.kbs.co.kr/english/news/news_In_detail.htm?No=131887                                                                                                             |\n",
      "+-----------------------------------------------------------------------------------------------------------------------------------------------------------------------------+\n",
      "only showing top 20 rows\n",
      "\n"
     ]
    }
   ],
   "source": [
    "events_df.select(\"SOURCEURL\").show(20,False)"
   ]
  },
  {
   "cell_type": "code",
   "execution_count": 15,
   "metadata": {},
   "outputs": [
    {
     "name": "stdout",
     "output_type": "stream",
     "text": [
      "4169 3639\n"
     ]
    }
   ],
   "source": [
    "print(gkg_df.count(), events_df.count())"
   ]
  },
  {
   "cell_type": "code",
   "execution_count": 22,
   "metadata": {},
   "outputs": [],
   "source": [
    "# save the DF as a Parquet file\n",
    "events_df.write.parquet(DATA_DIR + 'events.parquet')\n",
    "gkg_df.write.parquet(DATA_DIR + 'gkg.parquet')"
   ]
  },
  {
   "cell_type": "code",
   "execution_count": 24,
   "metadata": {},
   "outputs": [],
   "source": [
    "# load the data from Parquet file\n",
    "events_df = spark.read.parquet(DATA_DIR + 'events.parquet')\n",
    "gkg_df = spark.read.parquet(DATA_DIR + 'gkg.parquet')"
   ]
  },
  {
   "cell_type": "code",
   "execution_count": 29,
   "metadata": {},
   "outputs": [
    {
     "name": "stdout",
     "output_type": "stream",
     "text": [
      "+----------------+--------------+--------------------------+----------------+---------------------------------------------------------------------------------------------------+\n",
      "|GKGRECORDID     |DATE          |SourceCollectionIdentifier|SourceCommonName|Locations                                                                                          |\n",
      "+----------------+--------------+--------------------------+----------------+---------------------------------------------------------------------------------------------------+\n",
      "|20171123073000-0|20171123073000|1                         |nrl.com         |null                                                                                               |\n",
      "|20171123073000-1|20171123073000|1                         |360nobs.com     |1#United States#US#US#39.828175#-98.5795#US;1#Nigeria#NI#NI#10#8#NI;1#United Kingdom#UK#UK#54#-4#UK|\n",
      "+----------------+--------------+--------------------------+----------------+---------------------------------------------------------------------------------------------------+\n",
      "only showing top 2 rows\n",
      "\n"
     ]
    }
   ],
   "source": [
    "gkg_df.select(\"GKGRECORDID\", \"DATE\", \"SourceCollectionIdentifier\", \"SourceCommonName\", \"Locations\") \\\n",
    "                .filter(gkg_df[\"SourceCollectionIdentifier\"] == '1').show(2,False)"
   ]
  },
  {
   "cell_type": "code",
   "execution_count": 31,
   "metadata": {},
   "outputs": [],
   "source": [
    "# select the gkg data for Q1\n",
    "gkg_Q1 = gkg_df.select(\"GKGRECORDID\", \"DATE\", \"SourceCollectionIdentifier\", \"SourceCommonName\", \"Locations\") \\\n",
    "                .filter(gkg_df[\"SourceCollectionIdentifier\"] == '1')"
   ]
  },
  {
   "cell_type": "code",
   "execution_count": 45,
   "metadata": {},
   "outputs": [],
   "source": [
    "# open the file url to country\n",
    "UrlToCountry = spark.read.format(\"csv\").option(\"header\", \"true\").load(DATA_LOCAL + \"UrlToCountry.csv\")"
   ]
  },
  {
   "cell_type": "code",
   "execution_count": 46,
   "metadata": {},
   "outputs": [
    {
     "name": "stdout",
     "output_type": "stream",
     "text": [
      "+--------------+-----------------+\n",
      "|country_source|              url|\n",
      "+--------------+-----------------+\n",
      "|   Afghanistan|       1tvnews.af|\n",
      "|   Afghanistan|       1tvnews.af|\n",
      "|   Afghanistan|       1tvnews.af|\n",
      "|   Afghanistan|    ariananews.af|\n",
      "|   Afghanistan|    ariananews.af|\n",
      "|   Afghanistan|    ariananews.af|\n",
      "|   Afghanistan|da.azadiradio.com|\n",
      "|   Afghanistan|pa.azadiradio.com|\n",
      "|   Afghanistan|          bbc.com|\n",
      "|   Afghanistan|          bbc.com|\n",
      "|   Afghanistan|           dw.com|\n",
      "|   Afghanistan|           dw.com|\n",
      "|   Afghanistan|     dari.irib.ir|\n",
      "|   Afghanistan|   pashto.irib.ir|\n",
      "|   Afghanistan|        negaah.tv|\n",
      "|   Afghanistan|        nooraf.tv|\n",
      "|   Afghanistan|        rferl.org|\n",
      "|   Afghanistan|           tkg.af|\n",
      "|   Afghanistan|           tkg.af|\n",
      "|   Afghanistan|           tkg.af|\n",
      "+--------------+-----------------+\n",
      "only showing top 20 rows\n",
      "\n"
     ]
    }
   ],
   "source": [
    "# select and rename columns of interest\n",
    "UrlToCountry = UrlToCountry.select(UrlToCountry['Country name'].alias('country_source'), UrlToCountry['Clean URL'].alias('url')) \n",
    "UrlToCountry.show()"
   ]
  },
  {
   "cell_type": "code",
   "execution_count": 47,
   "metadata": {
    "scrolled": true
   },
   "outputs": [
    {
     "name": "stdout",
     "output_type": "stream",
     "text": [
      "+-----------------+--------------+--------------------------+--------------------+--------------------+--------------+--------------------+\n",
      "|      GKGRECORDID|          DATE|SourceCollectionIdentifier|    SourceCommonName|           Locations|country_source|                 url|\n",
      "+-----------------+--------------+--------------------------+--------------------+--------------------+--------------+--------------------+\n",
      "| 20171123073000-0|20171123073000|                         1|             nrl.com|                null|          null|                null|\n",
      "| 20171123073000-1|20171123073000|                         1|         360nobs.com|1#United States#U...|          null|                null|\n",
      "| 20171123073000-2|20171123073000|                         1|            ann7.com|4#Durban, Kwazulu...|  South Africa|            ann7.com|\n",
      "| 20171123073000-3|20171123073000|                         1|          openpr.com|1#Japan#JA#JA#36#...|          null|                null|\n",
      "| 20171123073000-4|20171123073000|                         1|      mcxcontrol.com|                null|          null|                null|\n",
      "| 20171123073000-5|20171123073000|                         1|      thetimes.co.uk|1#Ireland#EI#EI#5...|United Kingdom|      thetimes.co.uk|\n",
      "| 20171123073000-6|20171123073000|                         1|    moneycontrol.com|1#United States#U...|         India|    moneycontrol.com|\n",
      "| 20171123073000-7|20171123073000|                         1|            ketv.com|2#New York, Unite...| United States|            ketv.com|\n",
      "| 20171123073000-8|20171123073000|                         1|  weeklyregister.com|1#Chile#CI#CI#-30...|          null|                null|\n",
      "| 20171123073000-9|20171123073000|                         1|  heraldscotland.com|2#Florida, United...|United Kingdom|  heraldscotland.com|\n",
      "|20171123073000-10|20171123073000|                         1|thenorthernecho.c...|4#Northallerton, ...|United Kingdom|thenorthernecho.c...|\n",
      "|20171123073000-11|20171123073000|                         1|    itnewsafrica.com|4#Nairobi, Nairob...|          null|                null|\n",
      "|20171123073000-12|20171123073000|                         1|    lompocrecord.com|1#China#CH#CH#35#...| United States|    lompocrecord.com|\n",
      "|20171123073000-13|20171123073000|                         1|  dailypolitical.com|1#United States#U...|          null|                null|\n",
      "|20171123073000-14|20171123073000|                         1|       wallpaper.com|1#Portugal#PO#PO#...|          null|                null|\n",
      "|20171123073000-15|20171123073000|                         1|   meltontimes.co.uk|4#Haverhill, Suff...|United Kingdom|   meltontimes.co.uk|\n",
      "|20171123073000-16|20171123073000|                         1|     statesville.com|2#New York, Unite...|          null|                null|\n",
      "|20171123073000-17|20171123073000|                         1|          siasat.com|1#Iraq#IZ#IZ#33#4...|         India|          siasat.com|\n",
      "|20171123073000-17|20171123073000|                         1|          siasat.com|1#Iraq#IZ#IZ#33#4...|         India|          siasat.com|\n",
      "|20171123073000-17|20171123073000|                         1|          siasat.com|1#Iraq#IZ#IZ#33#4...|         India|          siasat.com|\n",
      "+-----------------+--------------+--------------------------+--------------------+--------------------+--------------+--------------------+\n",
      "only showing top 20 rows\n",
      "\n"
     ]
    }
   ],
   "source": [
    "# merge the two dataframes to get the country of the source \n",
    "gkg_Q1_country = gkg_Q1.join(UrlToCountry, UrlToCountry['url'] == gkg_Q1['SourceCommonName'], \"left_outer\") \n",
    "gkg_Q1_country.show()"
   ]
  },
  {
   "cell_type": "code",
   "execution_count": 75,
   "metadata": {},
   "outputs": [],
   "source": [
    "# extract and save urls that have no country \n",
    "unknown_urls = gkg_Q1_country.filter(\"country_source is null\")\\\n",
    "                             .select('SourceCommonName').distinct()\n",
    "unknown_urls.coalesce(1).write.csv(DATA_LOCAL+ \"unknown_urls\")"
   ]
  },
  {
   "cell_type": "code",
   "execution_count": 73,
   "metadata": {},
   "outputs": [],
   "source": [
    "# filter out countries with unknown url\n",
    "gkg_Q1_country_clean = gkg_Q1_country.filter(gkg_Q1_country.country_source.isNotNull())"
   ]
  },
  {
   "cell_type": "code",
   "execution_count": 74,
   "metadata": {},
   "outputs": [
    {
     "name": "stdout",
     "output_type": "stream",
     "text": [
      "unknown urls  438\n",
      "known urls 80\n"
     ]
    }
   ],
   "source": [
    "print('unknown urls ', unknown_urls.count())\n",
    "print('known urls', gkg_Q1_country_clean.select('country_source').distinct().count())"
   ]
  },
  {
   "cell_type": "code",
   "execution_count": 77,
   "metadata": {
    "scrolled": true
   },
   "outputs": [
    {
     "name": "stdout",
     "output_type": "stream",
     "text": [
      "+---------------------------------------------------------------------------------------------------------------------------+\n",
      "|Locations                                                                                                                  |\n",
      "+---------------------------------------------------------------------------------------------------------------------------+\n",
      "|null                                                                                                                       |\n",
      "|1#United States#US#US#39.828175#-98.5795#US;1#Nigeria#NI#NI#10#8#NI;1#United Kingdom#UK#UK#54#-4#UK                        |\n",
      "|4#Durban, Kwazulu-Natal, South Africa#SF#SF02#-29.85#31.0167#-1224926                                                      |\n",
      "|1#Japan#JA#JA#36#138#JA;1#United States#US#US#39.828175#-98.5795#US;1#Netherlands#NL#NL#52.5#5.75#NL;1#Spain#SP#SP#40#-4#SP|\n",
      "|null                                                                                                                       |\n",
      "+---------------------------------------------------------------------------------------------------------------------------+\n",
      "only showing top 5 rows\n",
      "\n"
     ]
    }
   ],
   "source": [
    "# get location of event\n",
    "gkg_df.select(\"Locations\").show(5,False)"
   ]
  },
  {
   "cell_type": "markdown",
   "metadata": {},
   "source": [
    "### Are we emotionally biased? \n",
    "**Do the number of conflicts or their distance from our home define our emotions? Is there an underlying trend of a more positive or negative news perception over time?**\n",
    "\n",
    "Fetch the following:\n",
    "\n",
    "- get the time of the event\n",
    "- get the country of the source (\"SourceCollectionIdentifier\" = 1 (only web), \"SourceCommonName\", GKG)\n",
    "- get the country of the event ('Locations', GKG -> longitude & latitude)\n",
    "- get the average tone of the event (\"AvgTone\", EXPORT)\n",
    "- get the ethnicity ('Actor1EthnicCode', Actor1Religion1Code, Actor1Religion2Code, Actor2EthnicCode', Actor2Religion1Code, Actor2Religion2Code, EXPORT) \n",
    "- Goldstein scale (GoldsteinScale, EXPORT)\n",
    "\n",
    "Analysis:\n",
    "\n",
    "- calculate the distance between the source and the country (get longitude & latitude of every country of the source -> compute euclidean distance)\n",
    "- dependence of average tone and distance\n",
    "- aggregate per country and average over average tone -> dependence between events per country and average tone\n",
    "- aggregate per religion/ethnicity and average over average tone (and/ or Goldstein) -> look at dependence\n",
    "- repeat the analysis in time bins\n",
    "\n",
    "Visualization:\n",
    "\n",
    "Discussion Thursday:\n",
    "- open all the files within 1 hour/ 1 day\n",
    "- count number of mentions an event gets and compare it to the number of mentions given\n",
    "- get the country from the url in mentions\n",
    "- calculate distance between country_source (from capital of country) and event_country (\"ActionGeo_Lat, and Long from EVENTS)\n",
    "- aggregate mentions over countries_source and event_country\n",
    "- MentionDocTone for each source might/will allow to get the emotion of the source country\n"
   ]
  },
  {
   "cell_type": "markdown",
   "metadata": {},
   "source": [
    "### Are some countries ignored in the news? \n",
    "**Is the number of conflicts taking place in a country in relation with the number of mentions in the media depending on where the conflict has happened?**\n",
    "\n",
    "Fetch the following:\n",
    "\n",
    "- country of the event (see above)\n",
    "- number of mentions (NumMentions, NumSources, NumArticles, EXPORT)\n",
    "\n",
    "Analysis:\n",
    "\n",
    "- aggregate per country and average over the number of mentions (which one?, or maybe all and then see) -> dependence between country and number of records"
   ]
  },
  {
   "cell_type": "markdown",
   "metadata": {},
   "source": [
    "### Are we emotionally predictable? \n",
    "**Can we observe patterns of emotions with respect to a country, religion or an ethnical group? Can we derive a model predicting emotions in case of a new conflict based on its specific features?**\n",
    "\n",
    "Fetch the following:\n",
    "\n",
    "- "
   ]
  },
  {
   "cell_type": "markdown",
   "metadata": {},
   "source": [
    "- group events by location, religion, ethnicity\n",
    "- average over average tone for this group"
   ]
  },
  {
   "cell_type": "code",
   "execution_count": null,
   "metadata": {},
   "outputs": [],
   "source": []
  }
 ],
 "metadata": {
  "kernelspec": {
   "display_name": "Python 3",
   "language": "python",
   "name": "python3"
  },
  "language_info": {
   "codemirror_mode": {
    "name": "ipython",
    "version": 3
   },
   "file_extension": ".py",
   "mimetype": "text/x-python",
   "name": "python",
   "nbconvert_exporter": "python",
   "pygments_lexer": "ipython3",
   "version": "3.6.6"
  }
 },
 "nbformat": 4,
 "nbformat_minor": 2
}
