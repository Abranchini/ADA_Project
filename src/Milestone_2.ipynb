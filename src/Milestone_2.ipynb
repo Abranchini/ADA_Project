{
 "cells": [
  {
   "cell_type": "markdown",
   "metadata": {},
   "source": [
    "# Milestone 2: Data Collection and Description\n",
    "\n",
    "In this notebook we present our pipeline to answer the research questions that we raised in Milestone 1. In the first part, we show our step-step strategy on how we proceed to answer the individual questions. In the second part, the code we used to fetch the data and to do the preliminary analysis is provided. In the third part we present our preliminary statistical analysis, as well as some visualizations of our exploratory data analysis."
   ]
  },
  {
   "cell_type": "markdown",
   "metadata": {},
   "source": [
    "## Part 1\n",
    "\n",
    "### Pursued strategy to answer the research questions:"
   ]
  },
  {
   "cell_type": "markdown",
   "metadata": {},
   "source": [
    "### Question 1\n",
    "\n",
    "**Are we emotionally biased?** Do the number of conflicts or their distance from our home define our emotions? \n",
    "\n",
    "#### Fetching & Processing the data \n",
    "\n",
    " From the GDELT dataset we fetch the following information from the \"Mentions\" and \"Events\" sets:\n",
    "\n",
    "- Time of the event (fetch the data in a defined time interval)\n",
    "- Url of the article mentioning the source \n",
    "- Average Tone \n",
    "- Location of the event (latitudinal and longitudinal coordinates)\n",
    "- Number of times the event is mentioned in the news (NumMentions, NumSources, NumArticles) \n",
    "- Calculation of the distance between the source article and the event: \n",
    "    1. Get the country from the url using **XXX**\n",
    "    2. Get the geographic coordinates of the capital of the source country using the csv file provided by [this website](http://techslides.com/list-of-countries-and-capitals)\n",
    "    3. Calculate the geographic distance between the source article and the event with the [Great-Circle distance formula](https://en.wikipedia.org/wiki/Great-circle_distance)\n",
    "\n",
    "#### Analysis\n",
    "\n",
    "- Evaluation of the dependency between the emotions and the distance: \n",
    "    1. Plot the emotion metrics against the distance \n",
    "    2. Evaluate the statistical significance of the regression coefficient/ correlation coefficient\n",
    "\n",
    "- Evaluation of the dependency between the emotions and the importance of the conflict:\n",
    "    1. Evaluation whether there is a dependency of the emotion metrics and the importance of the conflict using one of the 3 \"importance of an event\" metrics provided by GDELT (NumMentions, NumSources, NumArticles)"
   ]
  },
  {
   "cell_type": "markdown",
   "metadata": {},
   "source": [
    "### Question 2\n",
    "\n",
    "**Are some countries ignored in the news?**  Is the number of conflicts taking place in a country in relation with the number of mentions in the media depending on where the conflict has happened? \n",
    "\n",
    "#### Fetching the data \n",
    "\n",
    "We use the same dataset than in Question 1\n",
    "\n",
    "#### Analysis\n",
    "\n",
    "- Group by the event country and sum up the number of conflicts and the number of mentions \n",
    "- Evaluate whether there is a correlation between the number of conlficts and mentions or not\n",
    "- Identify countries with a high number of conflicts, but a comparewise low number of mentions\n"
   ]
  },
  {
   "cell_type": "markdown",
   "metadata": {},
   "source": [
    "### Question 3\n",
    "\n",
    "**Are we emotionally predictable?** Can we observe patterns of emotions with respect to a country, religion or an ethnical group? Can we derive a model predicting emotions in case of a new conflict based on its specific features?\n",
    "\n",
    "#### Fetching the data \n",
    "\n",
    "\n",
    "\n",
    "#### Analysis\n"
   ]
  },
  {
   "cell_type": "markdown",
   "metadata": {},
   "source": [
    "### Question 4\n",
    "\n",
    "**Do we have a saturation limit?** Does increasing number of conflicts make people feel worse and worse or is there some limit? Do we get used to a conflict with time and become less sentimental?\n",
    "\n",
    "\n",
    "#### Fetching the data \n",
    "\n",
    "From the GDELT dataset we fetch the following information from the \"GKG\":\n",
    "\n",
    "  - Url of the article mentioning the source \n",
    "  - Average Tone \n",
    "  - GCAM \n",
    "\n",
    "#### Analysis\n",
    "\n",
    "1. Addressing the subquestion: Does increasing number of conflicts make people feel worse and worse or is there some limit?\n",
    "\n",
    "      - Calculation the increasing number of conflicts: \n",
    "          1. Get the country from the url \n",
    "          2. Parse through the gkg files (in the time interval we wish) and get the events referent to a country.\n",
    "\n",
    "      - Possible limit of the emotions: \n",
    "          1. Get the average tone and the GCAM feelings referent to the events\n",
    "          2. Evaluate the emotions that we have for each of this event, observing how the media shows the events and if there are some insensibility or not after a threshold number of events.\n",
    "  \n",
    "\n",
    "\n",
    "\n"
   ]
  },
  {
   "cell_type": "markdown",
   "metadata": {},
   "source": [
    "### Question 5\n",
    "\n",
    "**Who is more emotional?** Do we see sensitivity differences between some countries? Do we see a trend towards more negative emotions over the years?\n",
    "\n"
   ]
  },
  {
   "cell_type": "markdown",
   "metadata": {},
   "source": [
    "## Part 2"
   ]
  },
  {
   "cell_type": "code",
   "execution_count": 12,
   "metadata": {
    "scrolled": true
   },
   "outputs": [
    {
     "name": "stdout",
     "output_type": "stream",
     "text": [
      "The autoreload extension is already loaded. To reload it, use:\n",
      "  %reload_ext autoreload\n"
     ]
    }
   ],
   "source": [
    "# regular imports\n",
    "import os\n",
    "import numpy as np\n",
    "import pandas as pd\n",
    "\n",
    "# function imports\n",
    "from Q4_helper_functions import *\n",
    "from Schema import *\n",
    "\n",
    "import warnings\n",
    "warnings.filterwarnings('ignore')\n",
    "\n",
    "import findspark\n",
    "findspark.init('C:\\opt\\spark')\n",
    "\n",
    "from pyspark.sql import *\n",
    "from pyspark.sql.functions import to_timestamp,desc, asc, udf, window, explode, unix_timestamp\n",
    "\n",
    "%matplotlib inline\n",
    "spark = SparkSession.builder.getOrCreate()\n",
    "\n",
    "# update when changing functions\n",
    "%load_ext autoreload\n",
    "%autoreload 2"
   ]
  },
  {
   "cell_type": "code",
   "execution_count": 13,
   "metadata": {},
   "outputs": [],
   "source": [
    "## Change this in the cluster\n",
    "\n",
    "#DATA_DIR = 'hdfs:///datasets/gdeltv2'\n",
    "DATA_DIR = '../data/'\n",
    "\n",
    "# directory for local files (ex.: UrlToCountry)\n",
    "DATA_LOCAL = '../data/'"
   ]
  },
  {
   "cell_type": "code",
   "execution_count": 14,
   "metadata": {},
   "outputs": [],
   "source": [
    "# open GDELT data\n",
    "gkg_df = spark.read.option(\"sep\", \"\\t\").csv(os.path.join(DATA_DIR, \"*.gkg.csv\"),schema=GKG_SCHEMA)\n",
    "events_df = spark.read.option(\"sep\", \"\\t\").csv(os.path.join(DATA_DIR, \"*.export.CSV\"),schema=EVENTS_SCHEMA)\n",
    "mentions_df = spark.read.option(\"sep\", \"\\t\").csv(os.path.join(DATA_DIR, \"*.mentions.CSV\"),schema=MENTIONS_SCHEMA)"
   ]
  },
  {
   "cell_type": "code",
   "execution_count": null,
   "metadata": {},
   "outputs": [],
   "source": [
    "# open helper datasets\n",
    "UrlToCountry = spark.read.format(\"csv\").option(\"header\", \"true\").load(DATA_LOCAL + \"UrlToCountry.csv\")\n",
    "CountryToCapital = spark.read.format(\"csv\").option(\"header\", \"true\").load(DATA_LOCAL + \"country-capitals.csv\")"
   ]
  },
  {
   "cell_type": "markdown",
   "metadata": {},
   "source": [
    "1. **Are we emotionally biased?**"
   ]
  },
  {
   "cell_type": "markdown",
   "metadata": {},
   "source": [
    "#### Q1. Fetching & preprocessing of the data (Code which is executed inside the cluster)"
   ]
  },
  {
   "cell_type": "code",
   "execution_count": null,
   "metadata": {},
   "outputs": [],
   "source": [
    "# select the required data from Mentions Dataset\n",
    "mentions_q1_df = mentions_df.select(\"GLOBALEVENTID\", \"EventTimeDate\", \"MentionType\", \"MentionSourceName\") \\\n",
    "                .filter(mentions_df[\"MentionType\"] == '1')\n",
    "\n",
    "# join the dataframe url to country\n",
    "UrlToCountry = UrlToCountry.select(UrlToCountry['Country name'].alias('country_source'), UrlToCountry['Clean URL'].alias('url')) \n",
    "mentions_q1_country = mentions_q1_df.join(UrlToCountry, UrlToCountry['url'] == mentions_q1_df['MentionSourceName'], \"left_outer\") \n",
    "\n",
    "# print the number of urls that have no country\n",
    "print('number of unknown urls: ', mentions_q1_country.filter(\"country_source is null\").select('MentionSourceName').distinct().count())\n",
    "\n",
    "# filter out urls that are unknown\n",
    "mentions_filter_df = mentions_q1_country.filter(mentions_q1_country.country_source.isNotNull())\n",
    "\n",
    "# print the number of urls associated to a country\n",
    "print('number of known urls: ', mentions_filter_df.select('country_source').distinct().count())"
   ]
  },
  {
   "cell_type": "code",
   "execution_count": null,
   "metadata": {},
   "outputs": [],
   "source": [
    "# join the file with the countries and capitals\n",
    "mentions_coord_df = mentions_filter_df.join(CountryToCapital, CountryToCapital['CountryName'] == mentions_filter_df['country_source'], \"left_outer\") \n",
    "print('Total number of countries: ', mentions_coord_df.count())\n",
    "print('Number of countries with no coordinates: ', mentions_coord_df.filter(\"CapitalLatitude is null\").count())\n",
    "\n",
    "# filter out rows with no geographic coordinates\n",
    "mentions_filter_coord_df = mentions_coord_df.filter(mentions_coord_df.CapitalLatitude.isNotNull())\n",
    "\n",
    "# select relevant columns \n",
    "mentions_clean_df = mentions_filter_coord_df.select('GLOBALEVENTID', 'EventTimeDate','CountryCode', 'CountryName', mentions_filter_coord_df['CapitalLatitude'].alias('Source_Lat'),\n",
    "                                                   mentions_filter_coord_df['CapitalLongitude'].alias('Source_Long'))"
   ]
  },
  {
   "cell_type": "code",
   "execution_count": null,
   "metadata": {},
   "outputs": [],
   "source": [
    "# select Data from Events Dataset\n",
    "events_q1_df= events_df.select(\"GLOBALEVENTID\", \"ActionGeo_Lat\", \"ActionGeo_Long\", \"NumMentions\",\"NumSources\",\"NumArticles\",\"AvgTone\")\n",
    "\n",
    "# filter out events that have no geographic coordinates\n",
    "print('Total number of events: ', events_q1_df.count())\n",
    "events_clean_df = events_q1_df.filter(events_q1_df.ActionGeo_Lat.isNotNull())\n",
    "print('Number of events with geographic coordinates: ', events_clean_df.count())\n",
    "\n",
    "# merge the clean events and mentions dfs\n",
    "event_mentions_df = events_clean_df.join(mentions_clean_df, 'GLOBALEVENTID') "
   ]
  },
  {
   "cell_type": "markdown",
   "metadata": {},
   "source": [
    "#### Q2. Processing outside the cluster"
   ]
  },
  {
   "cell_type": "code",
   "execution_count": null,
   "metadata": {},
   "outputs": [],
   "source": [
    "def geo_distance(r):\n",
    "    '''Extracts the geographic coordinates and calls the geo_dist_calc function to compute the geographic distance'''\n",
    "    lat1 = r['ActionGeo_Lat']\n",
    "    lon1 = radians('ActionGeo_Long')\n",
    "    lat2 = radians('Source_Lat')\n",
    "    lon2 = radians('Source_Long')\n",
    "    return geo_dist_calc(lat1, lon1, lat2, lon2)\n",
    "\n",
    "# append a column with the geographic distance\n",
    "event_mentions_df['distance'] = event_mentions_df.rdd.map(lambda r: geo_distance(Row(r)))"
   ]
  },
  {
   "cell_type": "markdown",
   "metadata": {},
   "source": [
    "2. **Are some countries ignored in the news?**"
   ]
  },
  {
   "cell_type": "code",
   "execution_count": null,
   "metadata": {},
   "outputs": [],
   "source": []
  },
  {
   "cell_type": "markdown",
   "metadata": {},
   "source": [
    "3. **Are we emotionally predictable?**"
   ]
  },
  {
   "cell_type": "code",
   "execution_count": null,
   "metadata": {},
   "outputs": [],
   "source": []
  },
  {
   "cell_type": "markdown",
   "metadata": {},
   "source": [
    "4. **Do we have a saturation limit?** / 5. **Who is more emotional?**\n",
    "##### 1. GCAM Emotions data\n",
    "> We will select the ID and the emotions so we can attribute to an event the emotion behind it"
   ]
  },
  {
   "cell_type": "code",
   "execution_count": 15,
   "metadata": {},
   "outputs": [],
   "source": [
    "ID_GCAM = gkg_df.select(\"GKGRECORDID\",\"GCAM\")"
   ]
  },
  {
   "cell_type": "code",
   "execution_count": 16,
   "metadata": {},
   "outputs": [
    {
     "data": {
      "text/html": [
       "<div>\n",
       "<style scoped>\n",
       "    .dataframe tbody tr th:only-of-type {\n",
       "        vertical-align: middle;\n",
       "    }\n",
       "\n",
       "    .dataframe tbody tr th {\n",
       "        vertical-align: top;\n",
       "    }\n",
       "\n",
       "    .dataframe thead th {\n",
       "        text-align: right;\n",
       "    }\n",
       "</style>\n",
       "<table border=\"1\" class=\"dataframe\">\n",
       "  <thead>\n",
       "    <tr style=\"text-align: right;\">\n",
       "      <th></th>\n",
       "      <th>GKGRECORDID</th>\n",
       "      <th>GCAM</th>\n",
       "    </tr>\n",
       "  </thead>\n",
       "  <tbody>\n",
       "    <tr>\n",
       "      <th>0</th>\n",
       "      <td>20171123073000-0</td>\n",
       "      <td>wc:122,c12.1:10,c12.10:7,c12.12:3,c12.13:1,c12...</td>\n",
       "    </tr>\n",
       "    <tr>\n",
       "      <th>1</th>\n",
       "      <td>20171123073000-1</td>\n",
       "      <td>wc:154,c1.2:1,c12.1:14,c12.10:10,c12.12:1,c12....</td>\n",
       "    </tr>\n",
       "    <tr>\n",
       "      <th>2</th>\n",
       "      <td>20171123073000-2</td>\n",
       "      <td>wc:499,c12.1:23,c12.10:37,c12.12:6,c12.13:18,c...</td>\n",
       "    </tr>\n",
       "    <tr>\n",
       "      <th>3</th>\n",
       "      <td>20171123073000-3</td>\n",
       "      <td>wc:797,c1.1:1,c1.2:1,c12.1:26,c12.10:65,c12.11...</td>\n",
       "    </tr>\n",
       "    <tr>\n",
       "      <th>4</th>\n",
       "      <td>20171123073000-4</td>\n",
       "      <td>wc:200,c1.2:3,c12.1:1,c12.10:10,c12.12:4,c12.1...</td>\n",
       "    </tr>\n",
       "  </tbody>\n",
       "</table>\n",
       "</div>"
      ],
      "text/plain": [
       "        GKGRECORDID                                               GCAM\n",
       "0  20171123073000-0  wc:122,c12.1:10,c12.10:7,c12.12:3,c12.13:1,c12...\n",
       "1  20171123073000-1  wc:154,c1.2:1,c12.1:14,c12.10:10,c12.12:1,c12....\n",
       "2  20171123073000-2  wc:499,c12.1:23,c12.10:37,c12.12:6,c12.13:18,c...\n",
       "3  20171123073000-3  wc:797,c1.1:1,c1.2:1,c12.1:26,c12.10:65,c12.11...\n",
       "4  20171123073000-4  wc:200,c1.2:3,c12.1:1,c12.10:10,c12.12:4,c12.1..."
      ]
     },
     "execution_count": 16,
     "metadata": {},
     "output_type": "execute_result"
    }
   ],
   "source": [
    "df_ID_GCAM = ID_GCAM.toPandas()\n",
    "df_ID_GCAM.head()"
   ]
  },
  {
   "cell_type": "markdown",
   "metadata": {},
   "source": [
    "> lets make sure we only have 1 ID per row (which is expected)"
   ]
  },
  {
   "cell_type": "code",
   "execution_count": 17,
   "metadata": {},
   "outputs": [
    {
     "name": "stdout",
     "output_type": "stream",
     "text": [
      "\n",
      " Length of all dataframe : 4169 \n",
      " Length of unique IDs    : 4169\n"
     ]
    }
   ],
   "source": [
    "print('\\n', 'Length of all dataframe :' ,len(df_ID_GCAM), '\\n', \n",
    "            'Length of unique IDs    :' ,len(df_ID_GCAM['GKGRECORDID'].unique()))"
   ]
  },
  {
   "cell_type": "markdown",
   "metadata": {},
   "source": [
    "> we also need to split the emotions so then we can better attribute each event the correspondent feel as there are several dictionaries with different collection of words. For a more clear vision you can check [GCAM](https://blog.gdeltproject.org/introducing-the-global-content-analysis-measures-gcam/)"
   ]
  },
  {
   "cell_type": "code",
   "execution_count": 18,
   "metadata": {},
   "outputs": [
    {
     "data": {
      "text/html": [
       "<div>\n",
       "<style scoped>\n",
       "    .dataframe tbody tr th:only-of-type {\n",
       "        vertical-align: middle;\n",
       "    }\n",
       "\n",
       "    .dataframe tbody tr th {\n",
       "        vertical-align: top;\n",
       "    }\n",
       "\n",
       "    .dataframe thead th {\n",
       "        text-align: right;\n",
       "    }\n",
       "</style>\n",
       "<table border=\"1\" class=\"dataframe\">\n",
       "  <thead>\n",
       "    <tr style=\"text-align: right;\">\n",
       "      <th></th>\n",
       "      <th>GKGRECORDID</th>\n",
       "      <th>0</th>\n",
       "      <th>1</th>\n",
       "      <th>2</th>\n",
       "      <th>3</th>\n",
       "      <th>4</th>\n",
       "      <th>5</th>\n",
       "      <th>6</th>\n",
       "      <th>7</th>\n",
       "      <th>8</th>\n",
       "      <th>...</th>\n",
       "      <th>1969</th>\n",
       "      <th>1970</th>\n",
       "      <th>1971</th>\n",
       "      <th>1972</th>\n",
       "      <th>1973</th>\n",
       "      <th>1974</th>\n",
       "      <th>1975</th>\n",
       "      <th>1976</th>\n",
       "      <th>1977</th>\n",
       "      <th>1978</th>\n",
       "    </tr>\n",
       "  </thead>\n",
       "  <tbody>\n",
       "    <tr>\n",
       "      <th>0</th>\n",
       "      <td>20171123073000-0</td>\n",
       "      <td>wc:122</td>\n",
       "      <td>c12.1:10</td>\n",
       "      <td>c12.10:7</td>\n",
       "      <td>c12.12:3</td>\n",
       "      <td>c12.13:1</td>\n",
       "      <td>c12.14:3</td>\n",
       "      <td>c12.3:2</td>\n",
       "      <td>c12.4:2</td>\n",
       "      <td>c12.5:9</td>\n",
       "      <td>...</td>\n",
       "      <td>None</td>\n",
       "      <td>None</td>\n",
       "      <td>None</td>\n",
       "      <td>None</td>\n",
       "      <td>None</td>\n",
       "      <td>None</td>\n",
       "      <td>None</td>\n",
       "      <td>None</td>\n",
       "      <td>None</td>\n",
       "      <td>None</td>\n",
       "    </tr>\n",
       "    <tr>\n",
       "      <th>1</th>\n",
       "      <td>20171123073000-1</td>\n",
       "      <td>wc:154</td>\n",
       "      <td>c1.2:1</td>\n",
       "      <td>c12.1:14</td>\n",
       "      <td>c12.10:10</td>\n",
       "      <td>c12.12:1</td>\n",
       "      <td>c12.13:4</td>\n",
       "      <td>c12.14:5</td>\n",
       "      <td>c12.3:4</td>\n",
       "      <td>c12.4:2</td>\n",
       "      <td>...</td>\n",
       "      <td>None</td>\n",
       "      <td>None</td>\n",
       "      <td>None</td>\n",
       "      <td>None</td>\n",
       "      <td>None</td>\n",
       "      <td>None</td>\n",
       "      <td>None</td>\n",
       "      <td>None</td>\n",
       "      <td>None</td>\n",
       "      <td>None</td>\n",
       "    </tr>\n",
       "    <tr>\n",
       "      <th>2</th>\n",
       "      <td>20171123073000-2</td>\n",
       "      <td>wc:499</td>\n",
       "      <td>c12.1:23</td>\n",
       "      <td>c12.10:37</td>\n",
       "      <td>c12.12:6</td>\n",
       "      <td>c12.13:18</td>\n",
       "      <td>c12.14:14</td>\n",
       "      <td>c12.3:15</td>\n",
       "      <td>c12.4:5</td>\n",
       "      <td>c12.5:5</td>\n",
       "      <td>...</td>\n",
       "      <td>None</td>\n",
       "      <td>None</td>\n",
       "      <td>None</td>\n",
       "      <td>None</td>\n",
       "      <td>None</td>\n",
       "      <td>None</td>\n",
       "      <td>None</td>\n",
       "      <td>None</td>\n",
       "      <td>None</td>\n",
       "      <td>None</td>\n",
       "    </tr>\n",
       "    <tr>\n",
       "      <th>3</th>\n",
       "      <td>20171123073000-3</td>\n",
       "      <td>wc:797</td>\n",
       "      <td>c1.1:1</td>\n",
       "      <td>c1.2:1</td>\n",
       "      <td>c12.1:26</td>\n",
       "      <td>c12.10:65</td>\n",
       "      <td>c12.11:1</td>\n",
       "      <td>c12.12:8</td>\n",
       "      <td>c12.13:22</td>\n",
       "      <td>c12.14:38</td>\n",
       "      <td>...</td>\n",
       "      <td>None</td>\n",
       "      <td>None</td>\n",
       "      <td>None</td>\n",
       "      <td>None</td>\n",
       "      <td>None</td>\n",
       "      <td>None</td>\n",
       "      <td>None</td>\n",
       "      <td>None</td>\n",
       "      <td>None</td>\n",
       "      <td>None</td>\n",
       "    </tr>\n",
       "    <tr>\n",
       "      <th>4</th>\n",
       "      <td>20171123073000-4</td>\n",
       "      <td>wc:200</td>\n",
       "      <td>c1.2:3</td>\n",
       "      <td>c12.1:1</td>\n",
       "      <td>c12.10:10</td>\n",
       "      <td>c12.12:4</td>\n",
       "      <td>c12.13:4</td>\n",
       "      <td>c12.14:10</td>\n",
       "      <td>c12.5:1</td>\n",
       "      <td>c12.7:4</td>\n",
       "      <td>...</td>\n",
       "      <td>None</td>\n",
       "      <td>None</td>\n",
       "      <td>None</td>\n",
       "      <td>None</td>\n",
       "      <td>None</td>\n",
       "      <td>None</td>\n",
       "      <td>None</td>\n",
       "      <td>None</td>\n",
       "      <td>None</td>\n",
       "      <td>None</td>\n",
       "    </tr>\n",
       "  </tbody>\n",
       "</table>\n",
       "<p>5 rows × 1980 columns</p>\n",
       "</div>"
      ],
      "text/plain": [
       "        GKGRECORDID       0         1          2          3          4  \\\n",
       "0  20171123073000-0  wc:122  c12.1:10   c12.10:7   c12.12:3   c12.13:1   \n",
       "1  20171123073000-1  wc:154    c1.2:1   c12.1:14  c12.10:10   c12.12:1   \n",
       "2  20171123073000-2  wc:499  c12.1:23  c12.10:37   c12.12:6  c12.13:18   \n",
       "3  20171123073000-3  wc:797    c1.1:1     c1.2:1   c12.1:26  c12.10:65   \n",
       "4  20171123073000-4  wc:200    c1.2:3    c12.1:1  c12.10:10   c12.12:4   \n",
       "\n",
       "           5          6          7          8  ...   1969  1970  1971  1972  \\\n",
       "0   c12.14:3    c12.3:2    c12.4:2    c12.5:9  ...   None  None  None  None   \n",
       "1   c12.13:4   c12.14:5    c12.3:4    c12.4:2  ...   None  None  None  None   \n",
       "2  c12.14:14   c12.3:15    c12.4:5    c12.5:5  ...   None  None  None  None   \n",
       "3   c12.11:1   c12.12:8  c12.13:22  c12.14:38  ...   None  None  None  None   \n",
       "4   c12.13:4  c12.14:10    c12.5:1    c12.7:4  ...   None  None  None  None   \n",
       "\n",
       "   1973  1974  1975  1976  1977  1978  \n",
       "0  None  None  None  None  None  None  \n",
       "1  None  None  None  None  None  None  \n",
       "2  None  None  None  None  None  None  \n",
       "3  None  None  None  None  None  None  \n",
       "4  None  None  None  None  None  None  \n",
       "\n",
       "[5 rows x 1980 columns]"
      ]
     },
     "execution_count": 18,
     "metadata": {},
     "output_type": "execute_result"
    }
   ],
   "source": [
    "# split the GCAM column\n",
    "df_ID_Emotions = df_ID_GCAM['GCAM'].str.split(',',expand=True)\n",
    "# insert the correspondent ID\n",
    "df_ID_Emotions.insert(loc=0, column='GKGRECORDID', value=df_ID_GCAM['GKGRECORDID'])\n",
    "df_ID_Emotions.head()"
   ]
  },
  {
   "cell_type": "markdown",
   "metadata": {},
   "source": [
    "#### 1.1 Building emotions dictionary"
   ]
  },
  {
   "cell_type": "code",
   "execution_count": 23,
   "metadata": {},
   "outputs": [],
   "source": [
    "# function to build emotion dictionary\n",
    "Emotions_dictionary = get_emotion_dictionary(DATA_LOCAL, 'GCAM-MASTER-CODEBOOK.txt')"
   ]
  },
  {
   "cell_type": "code",
   "execution_count": 25,
   "metadata": {},
   "outputs": [
    {
     "data": {
      "text/html": [
       "<div>\n",
       "<style scoped>\n",
       "    .dataframe tbody tr th:only-of-type {\n",
       "        vertical-align: middle;\n",
       "    }\n",
       "\n",
       "    .dataframe tbody tr th {\n",
       "        vertical-align: top;\n",
       "    }\n",
       "\n",
       "    .dataframe thead th {\n",
       "        text-align: right;\n",
       "    }\n",
       "</style>\n",
       "<table border=\"1\" class=\"dataframe\">\n",
       "  <thead>\n",
       "    <tr style=\"text-align: right;\">\n",
       "      <th></th>\n",
       "      <th>Variable</th>\n",
       "      <th>DimensionHumanName</th>\n",
       "    </tr>\n",
       "  </thead>\n",
       "  <tbody>\n",
       "    <tr>\n",
       "      <th>2973</th>\n",
       "      <td>c37.33</td>\n",
       "      <td>Power</td>\n",
       "    </tr>\n",
       "    <tr>\n",
       "      <th>2974</th>\n",
       "      <td>c38.1</td>\n",
       "      <td>ImageryValence</td>\n",
       "    </tr>\n",
       "    <tr>\n",
       "      <th>2975</th>\n",
       "      <td>c41.1</td>\n",
       "      <td>POSITIVE</td>\n",
       "    </tr>\n",
       "    <tr>\n",
       "      <th>2976</th>\n",
       "      <td>c41.2</td>\n",
       "      <td>NEGATIVE</td>\n",
       "    </tr>\n",
       "    <tr>\n",
       "      <th>2977</th>\n",
       "      <td>c41.3</td>\n",
       "      <td>NEUTRAL</td>\n",
       "    </tr>\n",
       "  </tbody>\n",
       "</table>\n",
       "</div>"
      ],
      "text/plain": [
       "     Variable DimensionHumanName\n",
       "2973   c37.33              Power\n",
       "2974    c38.1     ImageryValence\n",
       "2975    c41.1           POSITIVE\n",
       "2976    c41.2           NEGATIVE\n",
       "2977    c41.3            NEUTRAL"
      ]
     },
     "execution_count": 25,
     "metadata": {},
     "output_type": "execute_result"
    }
   ],
   "source": [
    "# lets have a look at it\n",
    "Emotions_dictionary.tail()"
   ]
  },
  {
   "cell_type": "markdown",
   "metadata": {},
   "source": [
    "> We see that different variables refer to different feelings"
   ]
  },
  {
   "cell_type": "markdown",
   "metadata": {},
   "source": [
    "# Part 3"
   ]
  },
  {
   "cell_type": "markdown",
   "metadata": {},
   "source": [
    "1. **Are we emotionally biased?**"
   ]
  },
  {
   "cell_type": "code",
   "execution_count": null,
   "metadata": {},
   "outputs": [],
   "source": [
    "# Evaluation of the dependency between the emotions and the importance of the conflict:\n",
    "\n",
    "def emotion_importance(df, Importance_metrics):\n",
    "    '''Computes descriptive statistics and exploratory plots.\n",
    "    Importance_metrics can take the following values: NumMentions, NumSources, NumArticles'''\n",
    "    emotions_Number = df.select(Importance_metrics, 'AvgTone').toPandas()\n",
    "    print(emotions_Number.describe())\n",
    "    # Pearson correlation coefficient between the 2 variables\n",
    "    print('Pearson Correlation: ', emotions_Number[Importance_metrics].corr(emotions_Number['AvgTone']))\n",
    "    emotions_Number.plot(x=Importance_metrics, y='AvgTone', style='o')\n",
    "    return "
   ]
  },
  {
   "cell_type": "code",
   "execution_count": null,
   "metadata": {},
   "outputs": [],
   "source": [
    "emotion_importance(event_mentions_df,'NumSources')"
   ]
  },
  {
   "cell_type": "code",
   "execution_count": null,
   "metadata": {},
   "outputs": [],
   "source": [
    "emotion_importance(event_mentions_df,'NumMentions')"
   ]
  },
  {
   "cell_type": "code",
   "execution_count": null,
   "metadata": {},
   "outputs": [],
   "source": [
    "emotion_importance(event_mentions_df,'NumArticles')"
   ]
  }
 ],
 "metadata": {
  "kernelspec": {
   "display_name": "Python 3",
   "language": "python",
   "name": "python3"
  },
  "language_info": {
   "codemirror_mode": {
    "name": "ipython",
    "version": 3
   },
   "file_extension": ".py",
   "mimetype": "text/x-python",
   "name": "python",
   "nbconvert_exporter": "python",
   "pygments_lexer": "ipython3",
   "version": "3.6.6"
  }
 },
 "nbformat": 4,
 "nbformat_minor": 2
}
