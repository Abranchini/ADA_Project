{
 "cells": [
  {
   "cell_type": "code",
   "execution_count": null,
   "metadata": {},
   "outputs": [],
   "source": [
    "import numpy as np\n",
    "import pyspark\n",
    "import os"
   ]
  },
  {
   "cell_type": "code",
   "execution_count": null,
   "metadata": {},
   "outputs": [],
   "source": [
    "from pyspark.sql.types import *\n",
    "\n",
    "GKG_SCHEMA = StructType([\n",
    "        StructField(\"GKGRECORDID\",StringType(),True),\n",
    "        StructField(\"DATE\",StringType(),True),\n",
    "        StructField(\"SourceCollectionIdentifier\",StringType(),True),\n",
    "        StructField(\"SourceCommonName\",StringType(),True),\n",
    "        StructField(\"DocumentIdentifier\",StringType(),True),\n",
    "        StructField(\"Counts\",StringType(),True),\n",
    "        StructField(\"V2Counts\",StringType(),True),\n",
    "        StructField(\"Themes\",StringType(),True),\n",
    "        StructField(\"V2Themes\",StringType(),True),\n",
    "        StructField(\"Locations\",StringType(),True),\n",
    "        StructField(\"V2Locations\",StringType(),True),\n",
    "        StructField(\"Persons\",StringType(),True),\n",
    "        StructField(\"V2Persons\",StringType(),True),\n",
    "        StructField(\"Organizations\",StringType(),True),\n",
    "        StructField(\"V2Organizations\",StringType(),True),\n",
    "        StructField(\"V2Tone\",StringType(),True),\n",
    "        StructField(\"Dates\",StringType(),True),\n",
    "        StructField(\"GCAM\",StringType(),True),\n",
    "        StructField(\"SharingImage\",StringType(),True),\n",
    "        StructField(\"RelatedImages\",StringType(),True),\n",
    "        StructField(\"SocialImageEmbeds\",StringType(),True),\n",
    "        StructField(\"SocialVideoEmbeds\",StringType(),True),\n",
    "        StructField(\"Quotations\",StringType(),True),\n",
    "        StructField(\"AllNames\",StringType(),True),\n",
    "        StructField(\"Amounts\",StringType(),True),\n",
    "        StructField(\"TranslationInfo\",StringType(),True),\n",
    "        StructField(\"Extras\",StringType(),True)\n",
    "        ])\n",
    "\n",
    "EVENTS_SCHEMA = StructType([\n",
    "    StructField(\"GLOBALEVENTID\",LongType(),True),\n",
    "    StructField(\"Day_DATE\",StringType(),True),\n",
    "    StructField(\"MonthYear_Date\",StringType(),True),\n",
    "    StructField(\"Year_Date\",StringType(),True),\n",
    "    StructField(\"FractionDate\",FloatType(),True),\n",
    "    StructField(\"Actor1Code\",StringType(),True),\n",
    "    StructField(\"Actor1Name\",StringType(),True),\n",
    "    StructField(\"Actor1CountryCode\",StringType(),True),\n",
    "    StructField(\"Actor1KnownGroupCode\",StringType(),True),\n",
    "    StructField(\"Actor1EthnicCode\",StringType(),True),\n",
    "    StructField(\"Actor1Religion1Code\",StringType(),True),\n",
    "    StructField(\"Actor1Religion2Code\",StringType(),True),\n",
    "    StructField(\"Actor1Type1Code\",StringType(),True),\n",
    "    StructField(\"Actor1Type2Code\",StringType(),True),\n",
    "    StructField(\"Actor1Type3Code\",StringType(),True),\n",
    "    StructField(\"Actor2Code\",StringType(),True),\n",
    "    StructField(\"Actor2Name\",StringType(),True),\n",
    "    StructField(\"Actor2CountryCode\",StringType(),True),\n",
    "    StructField(\"Actor2KnownGroupCode\",StringType(),True),\n",
    "    StructField(\"Actor2EthnicCode\",StringType(),True),\n",
    "    StructField(\"Actor2Religion1Code\",StringType(),True),\n",
    "    StructField(\"Actor2Religion2Code\",StringType(),True),\n",
    "    StructField(\"Actor2Type1Code\",StringType(),True),\n",
    "    StructField(\"Actor2Type2Code\",StringType(),True),\n",
    "    StructField(\"Actor2Type3Code\",StringType(),True),\n",
    "    StructField(\"IsRootEvent\",LongType(),True),\n",
    "    StructField(\"EventCode\",StringType(),True),\n",
    "    StructField(\"EventBaseCode\",StringType(),True),\n",
    "    StructField(\"EventRootCode\",StringType(),True),\n",
    "    StructField(\"QuadClass\",LongType(),True),\n",
    "    StructField(\"GoldsteinScale\",FloatType(),True),\n",
    "    StructField(\"NumMentions\",LongType(),True),\n",
    "    StructField(\"NumSources\",LongType(),True),\n",
    "    StructField(\"NumArticles\",LongType(),True),\n",
    "    StructField(\"AvgTone\",FloatType(),True),\n",
    "    StructField(\"Actor1Geo_Type\",LongType(),True),\n",
    "    StructField(\"Actor1Geo_FullName\",StringType(),True),\n",
    "    StructField(\"Actor1Geo_CountryCode\",StringType(),True),\n",
    "    StructField(\"Actor1Geo_ADM1Code\",StringType(),True),\n",
    "    StructField(\"Actor1Geo_ADM2Code\",StringType(),True),\n",
    "    StructField(\"Actor1Geo_Lat\",FloatType(),True),\n",
    "    StructField(\"Actor1Geo_Long\",FloatType(),True),\n",
    "    StructField(\"Actor1Geo_FeatureID\",StringType(),True),\n",
    "    StructField(\"Actor2Geo_Type\",LongType(),True),\n",
    "    StructField(\"Actor2Geo_FullName\",StringType(),True),\n",
    "    StructField(\"Actor2Geo_CountryCode\",StringType(),True),\n",
    "    StructField(\"Actor2Geo_ADM1Code\",StringType(),True),\n",
    "    StructField(\"Actor2Geo_ADM2Code\",StringType(),True),\n",
    "    StructField(\"Actor2Geo_Lat\",FloatType(),True),\n",
    "    StructField(\"Actor2Geo_Long\",FloatType(),True),\n",
    "    StructField(\"Actor2Geo_FeatureID\",StringType(),True),\n",
    "    StructField(\"ActionGeo_Type\",LongType(),True),\n",
    "    StructField(\"ActionGeo_FullName\",StringType(),True),\n",
    "    StructField(\"ActionGeo_CountryCode\",StringType(),True),\n",
    "    StructField(\"ActionGeo_ADM1Code\",StringType(),True),\n",
    "    StructField(\"ActionGeo_ADM2Code\",StringType(),True),\n",
    "    StructField(\"ActionGeo_Lat\",FloatType(),True),\n",
    "    StructField(\"ActionGeo_Long\",FloatType(),True),\n",
    "    StructField(\"ActionGeo_FeatureID\",StringType(),True),\n",
    "    StructField(\"DATEADDED\",LongType(),True),\n",
    "    StructField(\"SOURCEURL\",StringType(),True)\n",
    "    ])\n",
    "\n",
    "MENTIONS_SCHEMA = StructType([\n",
    "    StructField(\"GLOBALEVENTID\",LongType(),True),\n",
    "    StructField(\"EventTimeDate\",LongType(),True),\n",
    "    StructField(\"MentionTimeDate\",LongType(),True),\n",
    "    StructField(\"MentionType\",LongType(),True),\n",
    "    StructField(\"MentionSourceName\",StringType(),True),\n",
    "    StructField(\"MentionIdentifier\",StringType(),True),\n",
    "    StructField(\"SentenceID\",LongType(),True),\n",
    "    StructField(\"Actor1CharOffset\",LongType(),True),\n",
    "    StructField(\"Actor2CharOffset\",LongType(),True),\n",
    "    StructField(\"ActionCharOffset\",LongType(),True),\n",
    "    StructField(\"InRawText\",LongType(),True),\n",
    "    StructField(\"Confidence\",LongType(),True),\n",
    "    StructField(\"MentionDocLen\",LongType(),True),\n",
    "    StructField(\"MentionDocTone\",FloatType(),True),\n",
    "    StructField(\"MentionDocTranslationInfo\",StringType(),True),\n",
    "    StructField(\"Extras\",StringType(),True)\n",
    "    ])"
   ]
  },
  {
   "cell_type": "code",
   "execution_count": null,
   "metadata": {},
   "outputs": [],
   "source": [
    "#DATA_DIR = 'hdfs:///datasets/gdeltv2'\n",
    "DATA_DIR = '../data'"
   ]
  },
  {
   "cell_type": "code",
   "execution_count": null,
   "metadata": {},
   "outputs": [],
   "source": [
    "events_df = spark.read.option(\"sep\", \"\\t\").csv(os.path.join(DATA_DIR, \"*.export.CSV\"),schema=EVENTS_SCHEMA)\n",
    "gkg_df = spark.read.option(\"sep\", \"\\t\").csv(os.path.join(DATA_DIR, \"*.export.CSV\"),schema=GKG_SCHEMA)"
   ]
  },
  {
   "cell_type": "code",
   "execution_count": null,
   "metadata": {},
   "outputs": [],
   "source": [
    "UrlToCountry.csv"
   ]
  },
  {
   "cell_type": "code",
   "execution_count": null,
   "metadata": {},
   "outputs": [],
   "source": [
    "query = \"\"\"\n",
    "SELECT \"GKGRECORDID\", \"DATE\", \"SourceCollectionIdentifier\", \"SourceCommonName\", \"Locations\", \n",
    "FROM gkg_df WHERE \"SourceCollectionIdentifier\" = '1'"
   ]
  },
  {
   "cell_type": "code",
   "execution_count": null,
   "metadata": {},
   "outputs": [],
   "source": [
    "query = \"\"\"\n",
    "SELECT SourceCollectionIdentifier, count(*) as MissionsCount\n",
    "FROM Bombing_Operations\n",
    "GROUP BY ContryFlyingMission\n",
    "ORDER BY MissionsCount DESC\n",
    "\"\"\"\n",
    "\n",
    "missions_counts = spark.sql(query)\n",
    "missions_counts.show()"
   ]
  },
  {
   "cell_type": "code",
   "execution_count": null,
   "metadata": {},
   "outputs": [],
   "source": [
    "missions_counts = Bombing_Operations.groupBy(\"ContryFlyingMission\")\\\n",
    "                                    .agg(count(\"*\").alias(\"MissionsCount\"))\\\n",
    "                                    .sort(desc(\"MissionsCount\"))"
   ]
  },
  {
   "cell_type": "markdown",
   "metadata": {},
   "source": [
    "### Are we emotionally biased? \n",
    "**Do the number of conflicts or their distance from our home define our emotions? Is there an underlying trend of a more positive or negative news perception over time?**\n",
    "\n",
    "Fetch the following:\n",
    "\n",
    "- get the time of the event\n",
    "- get the country of the source (\"SourceCollectionIdentifier\" = 1 (only web), \"SourceCommonName\", GKG)\n",
    "- get the country of the event ('Locations', GKG -> longitude & latitude)\n",
    "- get the average tone of the event (\"AvgTone\", EXPORT)\n",
    "- get the ethnicity ('Actor1EthnicCode', Actor1Religion1Code, Actor1Religion2Code, Actor2EthnicCode', Actor2Religion1Code, Actor2Religion2Code, EXPORT) \n",
    "- Goldstein scale (GoldsteinScale, EXPORT)\n",
    "\n",
    "Analysis:\n",
    "\n",
    "- calculate the distance between the source and the country (get longitude & latitude of every country of the source -> compute euclidean distance)\n",
    "- dependence of average tone and distance\n",
    "- aggregate per country and average over average tone -> dependence between events per country and average tone\n",
    "- aggregate per religion/ethnicity and average over average tone (and/ or Goldstein) -> look at dependence\n",
    "- repeat the analysis in time bins\n",
    "\n",
    "Visualization:\n"
   ]
  },
  {
   "cell_type": "markdown",
   "metadata": {},
   "source": [
    "### Are some countries ignored in the news? \n",
    "**Is the number of conflicts taking place in a country in relation with the number of mentions in the media depending on where the conflict has happened?**\n",
    "\n",
    "Fetch the following:\n",
    "\n",
    "- country of the event (see above)\n",
    "- number of mentions (NumMentions, NumSources, NumArticles, EXPORT)\n",
    "\n",
    "Analysis:\n",
    "\n",
    "- aggregate per country and average over the number of mentions (which one?, or maybe all and then see) -> dependence between country and number of records"
   ]
  },
  {
   "cell_type": "markdown",
   "metadata": {},
   "source": [
    "### Are we emotionally predictable? \n",
    "**Can we observe patterns of emotions with respect to a country, religion or an ethnical group? Can we derive a model predicting emotions in case of a new conflict based on its specific features?**\n",
    "\n",
    "Fetch the following:\n",
    "\n",
    "- "
   ]
  },
  {
   "cell_type": "code",
   "execution_count": null,
   "metadata": {},
   "outputs": [],
   "source": []
  }
 ],
 "metadata": {
  "kernelspec": {
   "display_name": "Python 3",
   "language": "python",
   "name": "python3"
  },
  "language_info": {
   "codemirror_mode": {
    "name": "ipython",
    "version": 3
   },
   "file_extension": ".py",
   "mimetype": "text/x-python",
   "name": "python",
   "nbconvert_exporter": "python",
   "pygments_lexer": "ipython3",
   "version": "3.6.4"
  }
 },
 "nbformat": 4,
 "nbformat_minor": 2
}
