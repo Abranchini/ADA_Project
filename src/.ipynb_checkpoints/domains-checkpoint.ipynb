{
 "cells": [
  {
   "cell_type": "code",
   "execution_count": 1,
   "metadata": {},
   "outputs": [],
   "source": [
    "import pandas as pd\n",
    "import pyspark\n",
    "import os\n",
    "\n",
    "from pyspark.sql import *\n",
    "from pyspark.sql.functions import to_timestamp\n",
    "from pyspark.sql.types import *"
   ]
  },
  {
   "cell_type": "code",
   "execution_count": 2,
   "metadata": {},
   "outputs": [],
   "source": [
    "spark = SparkSession.builder.getOrCreate()\n",
    "sc = spark.sparkContext"
   ]
  },
  {
   "cell_type": "code",
   "execution_count": 5,
   "metadata": {},
   "outputs": [],
   "source": [
    "txt_file = sc.textFile('../data/GdeltDomainsByCountry-May18.txt')"
   ]
  },
  {
   "cell_type": "code",
   "execution_count": 6,
   "metadata": {},
   "outputs": [
    {
     "name": "stdout",
     "output_type": "stream",
     "text": [
      "+-----------------+----+--------------+\n",
      "|              web|code|       country|\n",
      "+-----------------+----+--------------+\n",
      "|         0-100.it|  IT|         Italy|\n",
      "|          0-50.ru|  RS|        Russia|\n",
      "|      0-60mag.com|  US| United States|\n",
      "|       0-debt.com|  US| United States|\n",
      "|       000fff.org|  US| United States|\n",
      "|     000space.com|  UK|United Kingdom|\n",
      "|       00221.info|  SG|       Senegal|\n",
      "|           005.fi|  FI|       Finland|\n",
      "|     00news.co.kr|  KS|   South Korea|\n",
      "|      010info.com|  CH|         China|\n",
      "|        010seo.tk|  TL|       Tokelau|\n",
      "|          0123.cn|  CH|         China|\n",
      "|       013info.rs|  RI|        Serbia|\n",
      "|      01737.co.uk|  UK|United Kingdom|\n",
      "|        01809.com|  UP|       Ukraine|\n",
      "|01informatique.fr|  FR|        France|\n",
      "|        01net.com|  FR|        France|\n",
      "|         01net.it|  IT|         Italy|\n",
      "|      02051935.nl|  NL|   Netherlands|\n",
      "|           021.rs|  RI|        Serbia|\n",
      "+-----------------+----+--------------+\n",
      "only showing top 20 rows\n",
      "\n"
     ]
    }
   ],
   "source": [
    "rdd = txt_file.map(lambda x: x.split(\"\\t\"))\n",
    "df = rdd.toDF(['web', 'code', 'country'])\n",
    "df.show()"
   ]
  },
  {
   "cell_type": "code",
   "execution_count": 15,
   "metadata": {},
   "outputs": [
    {
     "name": "stdout",
     "output_type": "stream",
     "text": [
      "+--------------------+----+-------+\n",
      "|                 web|code|country|\n",
      "+--------------------+----+-------+\n",
      "|   balkaninsight.com|  RB|       |\n",
      "|       balkanist.net|  RB|       |\n",
      "|      balkanrock.com|  RB|       |\n",
      "|      glassrpske.com|  RB|       |\n",
      "|learnserbianblog.com|  RB|       |\n",
      "|       mcraeblog.com|  RB|       |\n",
      "|       nezavisne.com|  RB|       |\n",
      "|radiokontaktplus.org|  RB|       |\n",
      "|             rtrs.tv|  RB|       |\n",
      "|           rtvbn.com|  RB|       |\n",
      "| stillinbelgrade.com|  RB|       |\n",
      "|    streetart360.net|  RB|       |\n",
      "|        svetplus.com|  RB|       |\n",
      "|        urbanbug.net|  RB|       |\n",
      "|       vukajlija.com|  RB|       |\n",
      "+--------------------+----+-------+\n",
      "\n"
     ]
    }
   ],
   "source": [
    "df.filter(df['code']=='RB').show()"
   ]
  },
  {
   "cell_type": "code",
   "execution_count": 72,
   "metadata": {},
   "outputs": [
    {
     "name": "stdout",
     "output_type": "stream",
     "text": [
      "189545\n"
     ]
    }
   ],
   "source": [
    "print(df.count())"
   ]
  },
  {
   "cell_type": "code",
   "execution_count": 71,
   "metadata": {},
   "outputs": [
    {
     "name": "stdout",
     "output_type": "stream",
     "text": [
      "+----+-----+\n",
      "|code|count|\n",
      "+----+-----+\n",
      "|  US|56160|\n",
      "|  UK|14892|\n",
      "|  RS| 8216|\n",
      "|  IT| 7672|\n",
      "|  CA| 7331|\n",
      "|  GM| 6085|\n",
      "|  AS| 6022|\n",
      "|  IN| 4453|\n",
      "|  FR| 4138|\n",
      "|  BR| 3814|\n",
      "|  NL| 3525|\n",
      "|  CH| 3476|\n",
      "|  PL| 3360|\n",
      "|  NZ| 2960|\n",
      "|  SP| 2727|\n",
      "|  TU| 2116|\n",
      "|  SW| 1963|\n",
      "|  SF| 1942|\n",
      "|  RO| 1912|\n",
      "|  UP| 1862|\n",
      "+----+-----+\n",
      "only showing top 20 rows\n",
      "\n"
     ]
    }
   ],
   "source": [
    "code_sum = df.groupBy('code').count()\n",
    "code_sum.sort(['count'], ascending=False).show()"
   ]
  }
 ],
 "metadata": {
  "kernelspec": {
   "display_name": "Python 3",
   "language": "python",
   "name": "python3"
  },
  "language_info": {
   "codemirror_mode": {
    "name": "ipython",
    "version": 3
   },
   "file_extension": ".py",
   "mimetype": "text/x-python",
   "name": "python",
   "nbconvert_exporter": "python",
   "pygments_lexer": "ipython3",
   "version": "3.6.4"
  }
 },
 "nbformat": 4,
 "nbformat_minor": 2
}
