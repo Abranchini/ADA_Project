{
 "cells": [
  {
   "cell_type": "markdown",
   "metadata": {},
   "source": [
    "# Milestone 2: Data Collection and Description\n",
    "\n",
    "In this notebook we present our pipeline to answer the research questions that we raised in Milestone 1. In the first part, we show our step-step strategy on how we proceed to answer the individual questions. In the second part, the code we used to fetch the data and to do the preliminary analysis is provided. In the third part we present our preliminary statistical analysis, as well as some visualizations of our exploratory data analysis.\n",
    "\n",
    "In this notebook, the code in Part 2 has been executed locally on a sample of six datafiles fetched from the cluster (2 for each of the 3 schemas (gkg, mentions, export)) and the exploratory analysis is only shown for this sample. \n",
    "\n",
    "Questions 1 to 3 are based on the same dataset and the core code to extract the required data from the cluster is shown in Part 2. The approach to answer the individual questions is presented in Part 1, however the actual code has not yet been implemented for each of the different steps.\n",
    "\n"
   ]
  },
  {
   "cell_type": "markdown",
   "metadata": {},
   "source": [
    "- [Part 1](#Part1): Strategy to answer our research questions\n",
    "    - [Question 1](#Part1_Q1): Are we emotionally biased? \n",
    "    - [Question 2](#Part1_Q2): Are some countries ignored in the news?\n",
    "    - [Question 3](#Part1_Q3): Are we emotionally predictable?\n",
    "    - [Question 4](#Part1_Q4): Do we have a saturation limit?\n",
    "    - [Question 5](#Part1_Q5): Who is more emotional?\n",
    "    \n",
    "    \n",
    "- [Part 2](#Part2): Code\n",
    "    - [Question 1](#Part2_Q1a): Fetching & preprocessing of the data (Cluster Code)   \n",
    "    - [Question 1](#Part2_Q1b): Processing outside the cluster \n",
    "    - [Question 2](#Part2_Q2): Aggregating \n",
    "    - [Question 3](#Part2_Q3a): Fetching & preprocessing of the data (Cluster Code)\n",
    "    - [Question 3](#Part2_Q3b): Decision tree building (learning & validating) \n",
    "    - [Question 4 & 5](#Part2_Q4a): GCAM Emotions data\n",
    "    - [Question 4 & 5](#Part2_Q4b): Emotions dictionary\n",
    "    \n",
    "    \n",
    "- [Part 3](#Part3): Descriptive statistics\n",
    "    - [Question 1](#Part3_Q1): Dependency evaluation\n",
    "    - [Question 2](#Part3_Q2): Dependency evaluation\n",
    "    - [Question 4 & 5](#Part3_Q4): Most common emotions\n",
    "    \n",
    "    \n",
    "- [Part 4](#Part4): Visualizations"
   ]
  },
  {
   "cell_type": "markdown",
   "metadata": {},
   "source": [
    "## Part 1 <a id='Part1'></a>\n",
    "\n",
    "### Pursued strategy to answer the research questions:"
   ]
  },
  {
   "cell_type": "markdown",
   "metadata": {},
   "source": [
    "### Question 1 <a id='Part1_Q1'></a>\n",
    "\n",
    "**Are we emotionally biased?** Do the number of conflicts or their distance from our home define our emotions? \n",
    "\n",
    "#### Fetching & Processing the data \n",
    "\n",
    " From the GDELT dataset we fetch the following information from the \"Mentions\" and \"Events\" sets:\n",
    "\n",
    "- Time of the event (fetch the data in a defined time interval)\n",
    "- Url of the article mentioning the source \n",
    "- Average Tone \n",
    "- Location of the event (latitudinal and longitudinal coordinates)\n",
    "- Number of times the event is mentioned in the news (NumMentions, NumSources, NumArticles) \n",
    "- Calculation of the distance between the source article and the event: \n",
    "    1. Get the country from the url of the article using the [GDELT Geographic Source Lookup](https://blog.gdeltproject.org/mapping-the-media-a-geographic-lookup-of-gdelts-sources/)\n",
    "    2. Get the geographic coordinates of the capital of the source country using the csv file provided by [this website](http://techslides.com/list-of-countries-and-capitals)\n",
    "    3. Calculate the geographic distance between the source article and the event with the [Great-Circle distance formula](https://en.wikipedia.org/wiki/Great-circle_distance)\n",
    "\n",
    "#### Analysis\n",
    "\n",
    "- Evaluation of the dependency between the emotions and the distance: \n",
    "    1. Plot the emotion metrics against the distance \n",
    "    2. Evaluate the statistical significance of the regression coefficient/ correlation coefficient\n",
    "\n",
    "- Evaluation of the dependency between the emotions and the importance of the conflict:\n",
    "    1. Evaluation whether there is a dependency of the emotion metrics and the importance of the conflict using one of the 3 \"importance of an event\" metrics provided by GDELT (NumMentions, NumSources, NumArticles)"
   ]
  },
  {
   "cell_type": "markdown",
   "metadata": {},
   "source": [
    "### Question 2 <a id='Part1_Q2'></a>\n",
    "\n",
    "**Are some countries ignored in the news?**  Is the number of conflicts taking place in a country in relation with the number of mentions in the media depending on where the conflict has happened? \n",
    "\n",
    "#### Fetching the data \n",
    "\n",
    "We use the same dataset than in Question 1\n",
    "\n",
    "#### Analysis\n",
    "\n",
    "- Group by the event country and sum up the number of conflicts and the number of mentions \n",
    "- Evaluate whether there is a correlation between the number of conflicts and mentions or not\n",
    "- Identify countries with a high number of conflicts, but a comparewise low number of mentions\n"
   ]
  },
  {
   "cell_type": "markdown",
   "metadata": {},
   "source": [
    "### Question 3 <a id='Part1_Q3'></a>\n",
    "\n",
    "**Are we emotionally predictable?** Can we observe patterns of emotions with respect to a country, religion or an ethnical group? Can we derive a model predicting emotions in case of a new conflict based on its specific features?\n",
    "\n",
    "#### Rational:\n",
    "\n",
    "To observe patterns of emotions with respect to a country, religion and ethnicity, we will derive a model with the features being the country where the event happened (a selection of max. 10 countries), the religion (around 3), and the ethnicity (around 3) (categorical features), and the response variable being an emotion metrics (average tone, or an emotion from our emotion dictionary). We will then learn this model for each source country (country reporting the event) and validate our approach on an event not included in the training set. Below is an example to illustrate:\n",
    "\n",
    "For every country in the world an “emotion” model is trained on events that happened in Syria, with the actors being of islamic and christianic religion (in the “Events” set we have access to the religion and ethnicity of Actor 1 and Actor 2). Now, if a new conflict with these same features happens, we can predict how e.g. Switzerland or the US (as well as every other country in the world) might react. \n",
    "\n",
    "A further step in observing patterns is then to cluster countries together that having similar emotional responses (with a K-means algorithm). A clustering might give insight about which countries are culturally close to each other. \n",
    "\n",
    "#### Fetching:\n",
    "\n",
    "In addition to the data fetched in Question 1 we select from the “Events” set ethnicity related data (‘Actor1EthnicCode', Actor1Religion1Code, Actor1Religion2Code, Actor2EthnicCode', Actor2Religion1Code, Actor2Religion2Code).\n"
   ]
  },
  {
   "cell_type": "markdown",
   "metadata": {},
   "source": [
    "### Question 4 <a id='Part1_Q4'></a>\n",
    "\n",
    "**Do we have a saturation limit?** Does increasing number of conflicts make people feel worse and worse or is there some limit?\n",
    "\n",
    "#### Fetching the data \n",
    "\n",
    "From the GDELT dataset we fetch the following information from the \"GKG\":\n",
    "\n",
    "  - Locations \n",
    "  - V2Tone \n",
    "  - GCAM \n",
    "\n",
    "#### Analysis\n",
    "\n",
    "  - Calculation the increasing number of conflicts: \n",
    "      1. Get the location of the country\n",
    "      2. Parse through the gkg files (in the time interval we wish) and get the events referent to a country.\n",
    "      3. Associate quantity of conflicts with emotions passed\n",
    "\n",
    "  - Possible limit of the emotions: \n",
    "      1. Get the V2Tone and the GCAM feelings referent to the events\n",
    "      2. Evaluate the emotions that we have for each of this event, observing how the media shows the events and if there are some insensibility (measured by lower V2Tone scores and more neutral GCAM feelings) or not after a threshold number of events.\n",
    "\n",
    "\n",
    "\n",
    "\n"
   ]
  },
  {
   "cell_type": "markdown",
   "metadata": {},
   "source": [
    "### Question 5 <a id='Part1_Q5'></a>\n",
    "\n",
    "**Who is more emotional?** Do we see sensitivity differences between some countries or actors? \n",
    "\n",
    "#### Fetching the data \n",
    "\n",
    "From the GDELT dataset we fetch the following information from the \"GKG\" and \"Events\":\n",
    "\n",
    "  - People\n",
    "  - Locations \n",
    "  - V2Tone \n",
    "  - GCAM \n",
    "\n",
    "#### Analysis\n",
    "\n",
    "\n",
    "  - Relation between country and emotion: \n",
    "      1. Similar to question 4\n",
    "      2. Associate specific countries to the emotions. Specifically associate actors (people) to emotions concerning the events related to them.\n"
   ]
  },
  {
   "cell_type": "markdown",
   "metadata": {},
   "source": [
    "## Part 2"
   ]
  },
  {
   "cell_type": "code",
   "execution_count": 72,
   "metadata": {
    "scrolled": true
   },
   "outputs": [
    {
     "name": "stdout",
     "output_type": "stream",
     "text": [
      "The autoreload extension is already loaded. To reload it, use:\n",
      "  %reload_ext autoreload\n"
     ]
    }
   ],
   "source": [
    "# regular imports\n",
    "import os\n",
    "import numpy as np\n",
    "import pandas as pd\n",
    "\n",
    "from math import radians, sqrt, sin, cos, atan2\n",
    "\n",
    "# function imports\n",
    "from helper_functions import *\n",
    "from Schema import *\n",
    "\n",
    "import warnings\n",
    "warnings.filterwarnings('ignore')\n",
    "\n",
    "#import findspark\n",
    "#findspark.init('C:\\opt\\spark')\n",
    "\n",
    "from pyspark.sql import *\n",
    "from pyspark.sql.functions import to_timestamp,desc, col, count, sum, min, max, asc, coalesce, udf, when, window, explode, unix_timestamp, lit\n",
    "from pyspark.sql.types import FloatType\n",
    "\n",
    "# scikit learn imports\n",
    "from sklearn.model_selection import train_test_split\n",
    "from sklearn.tree import DecisionTreeClassifier\n",
    "from sklearn.metrics import accuracy_score\n",
    "from sklearn.preprocessing import LabelEncoder\n",
    "\n",
    "%matplotlib inline\n",
    "spark = SparkSession.builder.getOrCreate()\n",
    "#sc = spark.sparkContext\n",
    "\n",
    "# update when changing functions\n",
    "%load_ext autoreload\n",
    "%autoreload 2"
   ]
  },
  {
   "cell_type": "code",
   "execution_count": 26,
   "metadata": {},
   "outputs": [],
   "source": [
    "## Change this in the cluster\n",
    "\n",
    "#DATA_DIR = 'hdfs:///datasets/gdeltv2'\n",
    "DATA_DIR = '../data/'\n",
    "\n",
    "# directory for local files \n",
    "DATA_LOCAL = '../data/'"
   ]
  },
  {
   "cell_type": "code",
   "execution_count": 66,
   "metadata": {},
   "outputs": [],
   "source": [
    "# open GDELT data\n",
    "gkg_df = spark.read.option(\"sep\", \"\\t\").csv(os.path.join(DATA_DIR, \"*.gkg.csv\"),schema=GKG_SCHEMA)\n",
    "events_df = spark.read.option(\"sep\", \"\\t\").csv(os.path.join(DATA_DIR, \"*.export.CSV\"),schema=EVENTS_SCHEMA)\n",
    "mentions_df = spark.read.option(\"sep\", \"\\t\").csv(os.path.join(DATA_DIR, \"*.mentions.CSV\"),schema=MENTIONS_SCHEMA)"
   ]
  },
  {
   "cell_type": "code",
   "execution_count": 42,
   "metadata": {},
   "outputs": [],
   "source": [
    "# open helper datasets\n",
    "#UrlToCountry = spark.read.format(\"csv\").option(\"header\", \"true\").load(DATA_LOCAL + \"UrlToCountry.csv\")\n",
    "CountryToCapital = spark.read.format(\"csv\").option(\"header\", \"true\").load(DATA_LOCAL + \"country-capitals.csv\")\n",
    "\n",
    "#Domains_txt = sc.textFile(DATA_LOCAL + 'GdeltDomainsByCountry-May18.txt')\n",
    "#Domains_rdd = Domains_txt.map(lambda x: x.split(\"\\t\"))\n",
    "#Domains = Domains_rdd.toDF(['url', 'code', 'country_source'])\n",
    "Domains = spark.read.format(\"csv\").option(\"header\", \"true\").load(DATA_LOCAL + \"urls.csv\")\n",
    "Domains = Domains.select(Domains['alpha-2'].alias('code') ,Domains['name'].alias('country_source'), 'region', Domains['web'].alias('url'))"
   ]
  },
  {
   "cell_type": "code",
   "execution_count": 43,
   "metadata": {},
   "outputs": [
    {
     "name": "stdout",
     "output_type": "stream",
     "text": [
      "+----+--------------+------+-----------------+\n",
      "|code|country_source|region|              url|\n",
      "+----+--------------+------+-----------------+\n",
      "|  AF|   Afghanistan|  Asia| 108worldnews.com|\n",
      "|  AF|   Afghanistan|  Asia|           1tv.af|\n",
      "|  AF|   Afghanistan|  Asia|       1tvnews.af|\n",
      "|  AF|   Afghanistan|  Asia|       aff.org.af|\n",
      "|  AF|   Afghanistan|  Asia|afghan-review.com|\n",
      "+----+--------------+------+-----------------+\n",
      "only showing top 5 rows\n",
      "\n"
     ]
    }
   ],
   "source": [
    "Domains.show(5)"
   ]
  },
  {
   "cell_type": "markdown",
   "metadata": {},
   "source": [
    "#### Q1.  Exploratory Data Fetching <a id='Part2_Q0'></a>"
   ]
  },
  {
   "cell_type": "code",
   "execution_count": 87,
   "metadata": {},
   "outputs": [],
   "source": [
    "# min and max date a reported event happened in the analysed period\n",
    "events_1 = events_df.select('Day_DATE')\n",
    "\n",
    "minmax_event_happened = events_1.agg(min(\"Day_DATE\"), max(\"Day_DATE\"))\n",
    "\n",
    "# min and max date an event was reported\n",
    "mentions_1 = mentions_df.select('MentionTimeDate')\n",
    "minmax_date_reported = mentions_1.agg(min(\"MentionTimeDate\"), max(\"MentionTimeDate\"))"
   ]
  },
  {
   "cell_type": "code",
   "execution_count": 52,
   "metadata": {},
   "outputs": [
    {
     "name": "stdout",
     "output_type": "stream",
     "text": [
      "+---------------------+-----+\n",
      "|ActionGeo_CountryCode|count|\n",
      "+---------------------+-----+\n",
      "|                   CI|   15|\n",
      "|                   FI|    1|\n",
      "|                   IC|    1|\n",
      "|                   RO|    9|\n",
      "|                   SL|    7|\n",
      "|                   NL|   64|\n",
      "|                   AM|   23|\n",
      "|                   PL|   33|\n",
      "|                   MX|    8|\n",
      "|                   YI|    1|\n",
      "|                   BP|   10|\n",
      "|                   SW|    4|\n",
      "|                   AV|    4|\n",
      "|                   BU|    7|\n",
      "|                   HR|    9|\n",
      "|                   LI|    6|\n",
      "|                   WE|    2|\n",
      "|                   BX|    1|\n",
      "|                   NP|    1|\n",
      "|                   TU|   19|\n",
      "+---------------------+-----+\n",
      "only showing top 20 rows\n",
      "\n"
     ]
    }
   ],
   "source": [
    "# get the number of events grouped by the country they occurred\n",
    "events_1 = events_df.select('ActionGeo_CountryCode').filter(events_df.ActionGeo_CountryCode.isNotNull())\n",
    "CountryEvent_number = events_1.groupBy('ActionGeo_CountryCode').count()\n",
    "CountryEvent_number.show()"
   ]
  },
  {
   "cell_type": "code",
   "execution_count": 58,
   "metadata": {},
   "outputs": [
    {
     "name": "stdout",
     "output_type": "stream",
     "text": [
      "+-------------------+-----+\n",
      "|     country_source|count|\n",
      "+-------------------+-----+\n",
      "|Korea (Republic of)|   36|\n",
      "|        Philippines|  166|\n",
      "|           Malaysia|  151|\n",
      "|               Fiji|    5|\n",
      "|             Turkey|   40|\n",
      "|             Malawi|   28|\n",
      "|            Germany|   18|\n",
      "|        Afghanistan|    7|\n",
      "|           Cambodia|    7|\n",
      "|           Maldives|    4|\n",
      "|              Sudan|   43|\n",
      "|             Greece|    4|\n",
      "|          Sri Lanka|    9|\n",
      "|             Angola|    9|\n",
      "|            Belgium|    2|\n",
      "|              Qatar|   41|\n",
      "|              Ghana|   29|\n",
      "|            Myanmar|    7|\n",
      "|       Sierra Leone|   12|\n",
      "|              China|  115|\n",
      "+-------------------+-----+\n",
      "only showing top 20 rows\n",
      "\n"
     ]
    }
   ],
   "source": [
    "# get the number of events grouped by the country reporting\n",
    "\n",
    "\n",
    "# url to country dataset\n",
    "Domains = spark.read.format(\"csv\").option(\"header\", \"true\").load(DATA_LOCAL + \"urls.csv\")\n",
    "Domains = Domains.select(Domains['alpha-2'].alias('code') ,Domains['name'].alias('country_source'), 'region', Domains['web'].alias('url'))\n",
    "\n",
    "\n",
    "# select the required data from Mentions Dataset\n",
    "mentions_1 = mentions_df.select(\"GLOBALEVENTID\", \"MentionType\", \"MentionSourceName\") \\\n",
    "                .filter(mentions_df[\"MentionType\"] == '1')\n",
    "\n",
    "# join the domain df with the country corresponding to the source\n",
    "mentions_2 = mentions_1.join(Domains, Domains['url'] == mentions_1['MentionSourceName'], \"left_outer\")\n",
    "\n",
    "# filter out urls that are unknown\n",
    "mentions_3 = mentions_2.filter(mentions_2.country_source.isNotNull())\n",
    "\n",
    "events_1 = events_df.select('GLOBALEVENTID')\n",
    "\n",
    "\n",
    "mention_event = events_1.join(mentions_3, 'GLOBALEVENTID')\n",
    "CountrySource_number = mention_event.groupBy('country_source').count()\n",
    "CountrySource_number.show()"
   ]
  },
  {
   "cell_type": "markdown",
   "metadata": {},
   "source": [
    "#### Q1.  a) Fetching & preprocessing of the data (Code which is executed inside the cluster) <a id='Part2_Q1a'></a>"
   ]
  },
  {
   "cell_type": "code",
   "execution_count": 35,
   "metadata": {},
   "outputs": [
    {
     "name": "stdout",
     "output_type": "stream",
     "text": [
      "number of unknown urls:  12\n",
      "number of known urls:  843\n"
     ]
    }
   ],
   "source": [
    "# select the required data from Mentions Dataset\n",
    "mentions_1 = mentions_df.select(\"GLOBALEVENTID\", \"EventTimeDate\", \"MentionType\", \"MentionSourceName\") \\\n",
    "                .filter(mentions_df[\"MentionType\"] == '1')\n",
    "\n",
    "# join the dataframe url to country\n",
    "#UrlToCountry = UrlToCountry.select(UrlToCountry['Country name'].alias('country_source'), UrlToCountry['Clean URL'].alias('url')) \n",
    "#mentions_q1_country = mentions_q1_df.join(UrlToCountry, UrlToCountry['url'] == mentions_q1_df['MentionSourceName'], \"left_outer\") \n",
    "mentions_2 = mentions_1.join(Domains, Domains['url'] == mentions_1['MentionSourceName'], \"left_outer\") \n",
    "\n",
    "# print the number of urls that have no country\n",
    "#print('number of unknown urls: ', mentions_q1_country.filter(\"url is null\").select('MentionSourceName').distinct().count())\n",
    "print('number of unknown urls: ', mentions_2.filter(\"url is null\").select('MentionSourceName').distinct().count())\n",
    "\n",
    "\n",
    "# filter out urls that are unknown\n",
    "mentions_3 = mentions_2.filter(mentions_2.country_source.isNotNull())\n",
    "\n",
    "# print the number of urls associated to a country\n",
    "#print('number of known urls: ', mentions_filter_df.select('url').distinct().count())\n",
    "print('number of known urls: ', mentions_3.select('url').distinct().count())"
   ]
  },
  {
   "cell_type": "code",
   "execution_count": 38,
   "metadata": {},
   "outputs": [
    {
     "name": "stdout",
     "output_type": "stream",
     "text": [
      "Total number of articles with a country assigned:  19828\n",
      "Total number of articles with no country assigned:  7014\n"
     ]
    }
   ],
   "source": [
    "# join the file with the countries and capitals\n",
    "mentions_4 = mentions_3.join(CountryToCapital, CountryToCapital['CountryName'] == mentions_3['country_source'], \"left_outer\") \n",
    "print('Total number of articles with a country assigned: ', mentions_4.count())\n",
    "print('Total number of articles with no country assigned: ', mentions_4.filter(\"CapitalLatitude is null\").count())\n",
    "\n",
    "# filter out rows with no geographic coordinates\n",
    "mentions_5 = mentions_4.filter(mentions_4.CapitalLatitude.isNotNull())\n",
    "\n",
    "# select relevant columns \n",
    "mentions_6 = mentions_5.select('GLOBALEVENTID', 'EventTimeDate','CountryCode', 'CountryName', mentions_5['CapitalLatitude'].alias('Source_Lat'),\n",
    "                                                   mentions_5['CapitalLongitude'].alias('Source_Long'))\n",
    "mentions_6 = mentions_6.withColumn(\"Source_Lat\", mentions_6[\"Source_Lat\"].cast(\"float\"))\n",
    "mentions_6 = mentions_6.withColumn(\"Source_Long\", mentions_6[\"Source_Long\"].cast(\"float\"))\n",
    "\n"
   ]
  },
  {
   "cell_type": "code",
   "execution_count": 39,
   "metadata": {},
   "outputs": [
    {
     "name": "stdout",
     "output_type": "stream",
     "text": [
      "Total number of events:  5251\n",
      "Number of events with geographic coordinates:  5095\n"
     ]
    }
   ],
   "source": [
    "# select Data from Events Dataset\n",
    "events_1= events_df.select(\"GLOBALEVENTID\", 'ActionGeo_CountryCode', \"ActionGeo_Lat\", \"ActionGeo_Long\", \"NumMentions\",\"NumSources\",\"NumArticles\",\"AvgTone\")\n",
    "\n",
    "# filter out events that have no geographic coordinates\n",
    "print('Total number of events: ', events_1.count())\n",
    "events_2 = events_1.filter(events_1.ActionGeo_Lat.isNotNull())\n",
    "print('Number of events with geographic coordinates: ', events_2.count())\n",
    "\n",
    "# merge the clean events and mentions dfs\n",
    "data_q1 = events_2.join(mentions_6, 'GLOBALEVENTID') "
   ]
  },
  {
   "cell_type": "markdown",
   "metadata": {},
   "source": [
    "#### Q1.  b) Processing outside the cluster <a id='Part2_Q1b'></a>"
   ]
  },
  {
   "cell_type": "code",
   "execution_count": 9,
   "metadata": {},
   "outputs": [],
   "source": [
    "# append a column with the geographic distance\n",
    "def geocalc(lat1, lon1, lat2, lon2):\n",
    "    print(lat1, lon1, lat2, lon2)\n",
    "    lat1 = radians(lat1)\n",
    "    lon1 = radians(lon1)\n",
    "    lat2 = radians(lat2)\n",
    "    lon2 = radians(lon2)\n",
    "    \n",
    "    dlon = lon1 - lon2\n",
    "\n",
    "    EARTH_R = 6372.8\n",
    "\n",
    "    y = sqrt((cos(lat2) * sin(dlon)) ** 2 + (cos(lat1) * sin(lat2) - sin(lat1) * cos(lat2) * cos(dlon)) ** 2)\n",
    "    x = sin(lat1) * sin(lat2) + cos(lat1) * cos(lat2) * cos(dlon)\n",
    "    c = atan2(y, x)\n",
    "    return EARTH_R * c\n",
    "\n",
    "udf_geocalc = udf(geocalc, FloatType())\n",
    " \n",
    "event_mentions_df = data_q1.withColumn(\"distance\", lit(udf_geocalc('ActionGeo_Lat', 'ActionGeo_Long', 'Source_Lat', 'Source_Long')))"
   ]
  },
  {
   "cell_type": "markdown",
   "metadata": {},
   "source": [
    "#### Q2. Aggregation <a id='Part2_Q2'></a>"
   ]
  },
  {
   "cell_type": "code",
   "execution_count": 18,
   "metadata": {},
   "outputs": [],
   "source": [
    "events_3= events_2.filter((events_2[\"GLOBALEVENTID\"] > 709318000) & (events_2[\"GLOBALEVENTID\"] < 809318000))"
   ]
  },
  {
   "cell_type": "code",
   "execution_count": 19,
   "metadata": {
    "scrolled": false
   },
   "outputs": [
    {
     "name": "stdout",
     "output_type": "stream",
     "text": [
      "+---------------------+------------+------------+\n",
      "|ActionGeo_CountryCode|sum_articles|count_events|\n",
      "+---------------------+------------+------------+\n",
      "|                   CI|          38|           5|\n",
      "|                   FI|           4|           1|\n",
      "|                   IC|           2|           1|\n",
      "|                   RO|           8|           4|\n",
      "|                   SL|          31|           7|\n",
      "|                   NL|           8|           3|\n",
      "|                   AM|          42|           7|\n",
      "|                   MX|          12|           2|\n",
      "|                   SW|           6|           3|\n",
      "|                   HR|          44|           7|\n",
      "|                   LI|           5|           1|\n",
      "|                   WE|           1|           1|\n",
      "|                   TU|          41|           9|\n",
      "|                   SO|          36|           8|\n",
      "|                   VQ|          20|           4|\n",
      "|                   RI|          26|           9|\n",
      "|                   RQ|           8|           1|\n",
      "|                   GH|          30|           4|\n",
      "|                   HK|          20|           2|\n",
      "|                   GV|           8|           2|\n",
      "+---------------------+------------+------------+\n",
      "only showing top 20 rows\n",
      "\n"
     ]
    }
   ],
   "source": [
    "data_q2 = events_3.groupBy('ActionGeo_CountryCode').agg(sum('NumArticles').alias('sum_articles'), count('GLOBALEVENTID').alias('count_events'))\n",
    "data_q2.show()"
   ]
  },
  {
   "cell_type": "code",
   "execution_count": 20,
   "metadata": {},
   "outputs": [
    {
     "data": {
      "text/plain": [
       "107"
      ]
     },
     "execution_count": 20,
     "metadata": {},
     "output_type": "execute_result"
    }
   ],
   "source": [
    "data_q2.count()"
   ]
  },
  {
   "cell_type": "markdown",
   "metadata": {},
   "source": [
    "Q3. **Are we emotionally predictable?** <a id='Part2_Q3a'></a>\n",
    "\n",
    "#### Prediction model:\n",
    "\n",
    "Decision tree model with the Average Tone as the response.\n",
    "\n",
    "Features are: CountryEvent, EventType, ActorReligion, HDI\n",
    "\n",
    "Other considered Features are: NumPeople, ActorEthnicity, GoldsteinScale\n",
    "\n",
    "#### Feature description:\n",
    "\n",
    "CountryEvent: Geographic country where the event has happened (categorical variable). To have a large sample size for each category, we only pick the top 10 countries, that are mentioned most often.\n",
    "\n",
    "EventType: This reflects the type of the event. Categorical value with the following values: AFFECT, ARREST, KIDNAP, KILL, PROTEST, SEIZE, or WOUND.\n",
    "\n",
    "NumPeople: Number of people concerned by the EventType. NOT INCLUDED BECAUSE AS A STANDALONE IT HAS NO MEANING. COULD BE REPLACED BY NUMMENTIONS IF THAT IS FOUND TO BE SIGNIFICANT\n",
    "\n",
    "ActorEthnicity: Ethnicity of the actors implied in the event and indicated by the CAMEO Ethnic Coding Scheme (see Chapter 5 from the [CAMEO\n",
    "Conflict and Mediation Event Observations Event and Actor Codebook](http://data.gdeltproject.org/documentation/CAMEO.Manual.1.1b3.pdf)). We use the top 10 most common ethnic groups (categorical variable). NOT INCLUDED BECAUSE IT IS REPETITIVE OF THE COUNTRYEVENT.\n",
    "\n",
    "ActorReligion: Religion of the actors implied in the event and indicated by the CAMEO Religious Coding Scheme (see Chapter 4 from the [CAMEO\n",
    "Conflict and Mediation Event Observations Event and Actor Codebook](http://data.gdeltproject.org/documentation/CAMEO.Manual.1.1b3.pdf)). 19 religions are reported (categorical variable).\n",
    "\n",
    "GoldsteinScale: Score that reflects the potential impact an event will have on the stability of a country. The attributed value lies between -10 and 10, where a positive value indicates more cooperation than conflict. NOT INCLUDED BECAUSE IT LOOKED THIS VARIABLE IS NOT RELATED TO THE OUTCOME VARIABLE AND THE SITUATION\n",
    "\n",
    "HDI: Human Development Index. This index takes into account the development of a country, not  only including its economic growth (measured by the gross national income), but also life expectance and education (more information are found on the [United Nations Development Website](http://hdr.undp.org/en/content/human-development-index-hdi). Continuous variable (HDI $\\in [0,1]$). We use the [latest version](http://hdr.undp.org/en/composite/HDI) (released in Sep. 2018) covering the period of 2017. \n",
    "\n",
    "AvgTone: The score ranges from -100 (extremely negative) to +100 (extremely positive). Common values range between -10 and +10, with 0 indicating neutral.\n"
   ]
  },
  {
   "cell_type": "code",
   "execution_count": 8,
   "metadata": {},
   "outputs": [],
   "source": [
    "# open helper dataset\n",
    "HDI_df = spark.read.format(\"csv\").option(\"header\", \"true\").load(DATA_LOCAL + \"HDI_categories.csv\")"
   ]
  },
  {
   "cell_type": "code",
   "execution_count": 9,
   "metadata": {},
   "outputs": [],
   "source": [
    "# create dataframe with country and country code from the domains dataframe\n",
    "countrytocode = Domains.drop_duplicates(subset = ['code'])\n",
    "# join country code\n",
    "HDI_CountryCode = HDI_df.join(countrytocode.select('code', 'country_source'), countrytocode['country_source'] == HDI_df['Country'])"
   ]
  },
  {
   "cell_type": "code",
   "execution_count": 10,
   "metadata": {},
   "outputs": [],
   "source": [
    "# prepare the gkg file with the information needed\n",
    "\n",
    "# filter on events that have count information\n",
    "gkg_1 = gkg_df.filter(gkg_df.Counts.isNotNull())\n",
    "CountType = pyspark.sql.functions.split(gkg_1['Counts'], '#')\n",
    "\n",
    "# add the event type\n",
    "gkg_2 = gkg_1.withColumn('EventType', CountType.getItem(0))\n",
    "\n",
    "# add the number of people concerned\n",
    "gkg_3 = gkg_2.withColumn('NumPeople', CountType.getItem(1))"
   ]
  },
  {
   "cell_type": "code",
   "execution_count": 11,
   "metadata": {},
   "outputs": [],
   "source": [
    "# prepare mention file\n",
    "mentions_1 = mentions_df.select(\"GLOBALEVENTID\", \"MentionType\", \"MentionSourceName\", 'MentionIdentifier') \\\n",
    "                .filter(mentions_df[\"MentionType\"] == '1')\n",
    "\n",
    "# join the dataframe url to country\n",
    "mentions_2 = mentions_1.join(Domains, Domains['url'] == mentions_1['MentionSourceName'], \"left_outer\") \n",
    "\n",
    "# filter out urls that are unknown\n",
    "mentions_3 = mentions_2.filter(mentions_2.country_source.isNotNull())\n",
    "\n"
   ]
  },
  {
   "cell_type": "code",
   "execution_count": 12,
   "metadata": {},
   "outputs": [],
   "source": [
    "# prepare event file\n",
    "events_1= events_df.select(\"GLOBALEVENTID\", 'Actor1Religion1Code', 'Actor2Religion1Code',\n",
    "                               'NumMentions',\"AvgTone\", 'GoldsteinScale', 'ActionGeo_CountryCode')\n",
    "\n",
    "# filter events with no country code\n",
    "events_2 = events_1.filter(events_1.ActionGeo_CountryCode.isNotNull())\n",
    "\n",
    "# create religion column (take one of the two actors, because in the example test there was never data for both at the same time)\n",
    "events_3 = events_2.withColumn('ActorReligion', coalesce(events_2['Actor1Religion1Code'], events_2['Actor2Religion1Code']))                                    \n",
    "\n",
    "# filter out columns with no religion\n",
    "events_4 = events_3.filter(events_3.ActorReligion.isNotNull())\n",
    "\n",
    "# join the HDI file to country code \n",
    "events_5 = events_4.join(HDI_CountryCode.select('code', 'HDI'), HDI_CountryCode['code']==events_4['ActionGeo_CountryCode'])"
   ]
  },
  {
   "cell_type": "code",
   "execution_count": 13,
   "metadata": {},
   "outputs": [],
   "source": [
    "# join event and mention file\n",
    "mention_event = events_5.join(mentions_3, 'GLOBALEVENTID') \n",
    "\n",
    "# join mention_event and gkg\n",
    "gkg_mention_event = mention_event.join(gkg_3, mention_event['MentionIdentifier'] == gkg_3['DocumentIdentifier'])"
   ]
  },
  {
   "cell_type": "code",
   "execution_count": 14,
   "metadata": {},
   "outputs": [
    {
     "name": "stdout",
     "output_type": "stream",
     "text": [
      "gkg, filtered:  772\n",
      "mention, filtered:  13481\n",
      "event, filtered:  194\n",
      "mention_event:  200\n",
      "all:  49\n"
     ]
    }
   ],
   "source": [
    "print('gkg, filtered: ', gkg_3.count())\n",
    "print('mention, filtered: ', mentions_3.count())\n",
    "print('event, filtered: ', events_5.count())\n",
    "print('mention_event: ', mention_event.count())\n",
    "print('all: ', gkg_mention_event.count())"
   ]
  },
  {
   "cell_type": "code",
   "execution_count": 17,
   "metadata": {},
   "outputs": [],
   "source": [
    "data_q3 = gkg_mention_event.select(gkg_mention_event['ActionGeo_CountryCode'].alias('CountryEvent'), 'EventType',\n",
    "                                   'ActorReligion', 'HDI', 'AvgTone',\n",
    "                                  'country_source')\n",
    "data_q3 = Data_q3.dropDuplicates()"
   ]
  },
  {
   "cell_type": "code",
   "execution_count": 18,
   "metadata": {
    "scrolled": true
   },
   "outputs": [
    {
     "name": "stdout",
     "output_type": "stream",
     "text": [
      "+------------+---------+-------------+---------+----------+--------------+\n",
      "|CountryEvent|EventType|ActorReligion|      HDI|   AvgTone|country_source|\n",
      "+------------+---------+-------------+---------+----------+--------------+\n",
      "|          MY|   AFFECT|          CHR|Very High|-2.7181687|      Malaysia|\n",
      "|          IN|   ARREST|          MOS|   Medium| -7.142857|         India|\n",
      "|          PK|   ARREST|          CHR|   Medium|-6.3104916|         India|\n",
      "|          TU|  PROTEST|          CHR|     High|-3.1468532|   Philippines|\n",
      "|          NP|     KILL|          HIN|   Medium| 10.130719|         India|\n",
      "|          BK|     KILL|          MOS|     High|-10.911809| United States|\n",
      "|          PK|  PROTEST|          MOS|   Medium|-3.0232558|      Pakistan|\n",
      "|          ID|   AFFECT|          CHR|   Medium|-2.7181687|      Malaysia|\n",
      "|          PK|  PROTEST|          CHR|   Medium|-3.1468532|   Philippines|\n",
      "|          KE|     KILL|          MOS|   Medium|  -5.19802|         Kenya|\n",
      "|          PK|   ARREST|          MOS|   Medium| -7.142857|         India|\n",
      "|          MY|   AFFECT|          MOS|Very High|-2.7181687|      Malaysia|\n",
      "|          ID|   AFFECT|          MOS|   Medium|-2.7181687|      Malaysia|\n",
      "|          IZ|  PROTEST|          MOS|   Medium| 1.9607843|  Saudi Arabia|\n",
      "|          IN|     KILL|          HIN|   Medium| 10.130719|         India|\n",
      "|          IT|   ARREST|          CHR|Very High| -3.508772|         Italy|\n",
      "|          PK|  PROTEST|          MOS|   Medium|-3.1468532|   Philippines|\n",
      "|          US|     KILL|          HIN|Very High| 2.7259684| United States|\n",
      "|          MR|  PROTEST|          MOS|      Low|-8.5561495|        Turkey|\n",
      "|          TU|  PROTEST|          MOS|     High|-3.1468532|   Philippines|\n",
      "+------------+---------+-------------+---------+----------+--------------+\n",
      "only showing top 20 rows\n",
      "\n"
     ]
    }
   ],
   "source": [
    "Data_q3.show()"
   ]
  },
  {
   "cell_type": "code",
   "execution_count": 19,
   "metadata": {},
   "outputs": [
    {
     "name": "stdout",
     "output_type": "stream",
     "text": [
      "+-------------+-----+\n",
      "|ActorReligion|count|\n",
      "+-------------+-----+\n",
      "|          HIN|    3|\n",
      "|          MOS|   14|\n",
      "|          CHR|    6|\n",
      "+-------------+-----+\n",
      "\n"
     ]
    }
   ],
   "source": [
    "data_q3_ActorReligion = data_q3.groupBy(\"ActorReligion\").count()\n",
    "data_q3_ActorReligion.show()"
   ]
  },
  {
   "cell_type": "code",
   "execution_count": 22,
   "metadata": {},
   "outputs": [],
   "source": [
    "data_q3_ActorReligion.write.parquet(DATA_LOCAL + 'data_q3_ActorReligion.parquet')"
   ]
  },
  {
   "cell_type": "code",
   "execution_count": 172,
   "metadata": {
    "scrolled": false
   },
   "outputs": [
    {
     "name": "stdout",
     "output_type": "stream",
     "text": [
      "+-------------+-----+\n",
      "|ActorReligion|count|\n",
      "+-------------+-----+\n",
      "|          HIN|    5|\n",
      "|          MOS|   21|\n",
      "|          CHR|    6|\n",
      "+-------------+-----+\n",
      "\n"
     ]
    }
   ],
   "source": [
    "data_q3.groupBy(\"ActorReligion\").count().show()"
   ]
  },
  {
   "cell_type": "code",
   "execution_count": 173,
   "metadata": {},
   "outputs": [
    {
     "name": "stdout",
     "output_type": "stream",
     "text": [
      "+---------+-----+\n",
      "|EventType|count|\n",
      "+---------+-----+\n",
      "|     KILL|    8|\n",
      "|   AFFECT|    5|\n",
      "|  PROTEST|   12|\n",
      "|   ARREST|    7|\n",
      "+---------+-----+\n",
      "\n"
     ]
    }
   ],
   "source": [
    "data_q3.groupBy(\"EventType\").count().show()"
   ]
  },
  {
   "cell_type": "code",
   "execution_count": 174,
   "metadata": {},
   "outputs": [
    {
     "name": "stdout",
     "output_type": "stream",
     "text": [
      "+---------+-----+\n",
      "|      HDI|count|\n",
      "+---------+-----+\n",
      "|     High|    6|\n",
      "|Very High|    7|\n",
      "|      Low|    1|\n",
      "|   Medium|   18|\n",
      "+---------+-----+\n",
      "\n"
     ]
    }
   ],
   "source": [
    "data_q3.groupBy(\"HDI\").count().show()"
   ]
  },
  {
   "cell_type": "code",
   "execution_count": 175,
   "metadata": {},
   "outputs": [
    {
     "name": "stdout",
     "output_type": "stream",
     "text": [
      "+------------+-----+\n",
      "|CountryEvent|count|\n",
      "+------------+-----+\n",
      "|          NL|    1|\n",
      "|          NP|    1|\n",
      "|          TU|    4|\n",
      "|          ID|    2|\n",
      "|          PK|   10|\n",
      "|          MR|    1|\n",
      "|          US|    3|\n",
      "|          MY|    2|\n",
      "|          IN|    2|\n",
      "|          BK|    2|\n",
      "|          IT|    1|\n",
      "|          KE|    1|\n",
      "|          IZ|    2|\n",
      "+------------+-----+\n",
      "\n"
     ]
    }
   ],
   "source": [
    "data_q3.groupBy(\"CountryEvent\").count().show()"
   ]
  },
  {
   "cell_type": "code",
   "execution_count": 176,
   "metadata": {
    "scrolled": true
   },
   "outputs": [
    {
     "name": "stdout",
     "output_type": "stream",
     "text": [
      "+----------+-----+\n",
      "|   AvgTone|count|\n",
      "+----------+-----+\n",
      "| 2.7259684|    3|\n",
      "|-3.1468532|    8|\n",
      "|-2.7181687|    4|\n",
      "|-10.911809|    2|\n",
      "|-3.0232558|    1|\n",
      "|-6.3104916|    3|\n",
      "|  -5.19802|    1|\n",
      "| -7.142857|    3|\n",
      "|-8.5561495|    1|\n",
      "|-7.5129533|    1|\n",
      "| 10.130719|    2|\n",
      "| 1.9607843|    2|\n",
      "| -3.508772|    1|\n",
      "+----------+-----+\n",
      "\n"
     ]
    }
   ],
   "source": [
    "data_q3.groupBy(\"AvgTone\").count().show()"
   ]
  },
  {
   "cell_type": "code",
   "execution_count": null,
   "metadata": {},
   "outputs": [],
   "source": [
    "# code until here is in Q3_cluster.py"
   ]
  },
  {
   "cell_type": "markdown",
   "metadata": {},
   "source": [
    "### Building the decision tree <a id='Part2_Q3b'></a>"
   ]
  },
  {
   "cell_type": "code",
   "execution_count": 277,
   "metadata": {
    "scrolled": false
   },
   "outputs": [
    {
     "data": {
      "text/html": [
       "<div>\n",
       "<style scoped>\n",
       "    .dataframe tbody tr th:only-of-type {\n",
       "        vertical-align: middle;\n",
       "    }\n",
       "\n",
       "    .dataframe tbody tr th {\n",
       "        vertical-align: top;\n",
       "    }\n",
       "\n",
       "    .dataframe thead th {\n",
       "        text-align: right;\n",
       "    }\n",
       "</style>\n",
       "<table border=\"1\" class=\"dataframe\">\n",
       "  <thead>\n",
       "    <tr style=\"text-align: right;\">\n",
       "      <th></th>\n",
       "      <th>CountryEvent</th>\n",
       "      <th>EventType</th>\n",
       "      <th>ActorReligion</th>\n",
       "      <th>HDI</th>\n",
       "      <th>AvgTone</th>\n",
       "      <th>country_source</th>\n",
       "    </tr>\n",
       "  </thead>\n",
       "  <tbody>\n",
       "    <tr>\n",
       "      <th>0</th>\n",
       "      <td>MY</td>\n",
       "      <td>AFFECT</td>\n",
       "      <td>CHR</td>\n",
       "      <td>Very High</td>\n",
       "      <td>-2.718169</td>\n",
       "      <td>Malaysia</td>\n",
       "    </tr>\n",
       "    <tr>\n",
       "      <th>1</th>\n",
       "      <td>IN</td>\n",
       "      <td>ARREST</td>\n",
       "      <td>MOS</td>\n",
       "      <td>Medium</td>\n",
       "      <td>-7.142857</td>\n",
       "      <td>India</td>\n",
       "    </tr>\n",
       "    <tr>\n",
       "      <th>2</th>\n",
       "      <td>PK</td>\n",
       "      <td>ARREST</td>\n",
       "      <td>CHR</td>\n",
       "      <td>Medium</td>\n",
       "      <td>-6.310492</td>\n",
       "      <td>India</td>\n",
       "    </tr>\n",
       "    <tr>\n",
       "      <th>3</th>\n",
       "      <td>TU</td>\n",
       "      <td>PROTEST</td>\n",
       "      <td>CHR</td>\n",
       "      <td>High</td>\n",
       "      <td>-3.146853</td>\n",
       "      <td>Philippines</td>\n",
       "    </tr>\n",
       "    <tr>\n",
       "      <th>4</th>\n",
       "      <td>NP</td>\n",
       "      <td>KILL</td>\n",
       "      <td>HIN</td>\n",
       "      <td>Medium</td>\n",
       "      <td>10.130719</td>\n",
       "      <td>India</td>\n",
       "    </tr>\n",
       "  </tbody>\n",
       "</table>\n",
       "</div>"
      ],
      "text/plain": [
       "  CountryEvent EventType ActorReligion        HDI    AvgTone country_source\n",
       "0           MY    AFFECT           CHR  Very High  -2.718169       Malaysia\n",
       "1           IN    ARREST           MOS     Medium  -7.142857          India\n",
       "2           PK    ARREST           CHR     Medium  -6.310492          India\n",
       "3           TU   PROTEST           CHR       High  -3.146853    Philippines\n",
       "4           NP      KILL           HIN     Medium  10.130719          India"
      ]
     },
     "execution_count": 277,
     "metadata": {},
     "output_type": "execute_result"
    }
   ],
   "source": [
    "model_data = Data_q3.toPandas()\n",
    "model_data.head()"
   ]
  },
  {
   "cell_type": "code",
   "execution_count": 279,
   "metadata": {},
   "outputs": [],
   "source": [
    "# discretize the average tone\n",
    "bins = pd.IntervalIndex.from_tuples([(-101, -10), (-10, -8), (-8,-5), (-5, -2), (-2, 0), (0,2),\n",
    "                                    (2,5), (5,10), (10, 101)])\n",
    "model_data.AvgTone = pd.cut(model_data.AvgTone, bins)\n",
    "\n",
    "# transform into categorical data & create corresponding dictionary\n",
    "le_CountryEvent = LabelEncoder()\n",
    "model_data['CountryEvent'] = le_CountryEvent.fit_transform(model_data['CountryEvent'])\n",
    "le_CountryEvent_mapping = dict(zip(le_CountryEvent.classes_, le_CountryEvent.transform(le_CountryEvent.classes_)))\n",
    "\n",
    "\n",
    "# transform back with: list(le_CountryEvent.inverse_transform([2, 2, 1]))\n",
    "le_EventType = LabelEncoder()\n",
    "model_data['EventType'] = le_EventType.fit_transform(model_data['EventType'])\n",
    "le_EventType_mapping = dict(zip(le_EventType.classes_, le_EventType.transform(le_EventType.classes_)))\n",
    "\n",
    "le_ActorReligion = LabelEncoder()\n",
    "model_data['ActorReligion'] = le_ActorReligion.fit_transform(model_data['ActorReligion'])\n",
    "le_ActorReligion_mapping = dict(zip(le_ActorReligion.classes_, le_ActorReligion.transform(le_ActorReligion.classes_)))\n",
    "\n",
    "le_HDI = LabelEncoder()\n",
    "model_data['HDI'] = le_HDI.fit_transform(model_data['HDI'])\n",
    "le_HDI_mapping = dict(zip(le_HDI.classes_, le_HDI.transform(le_HDI.classes_)))\n",
    "\n",
    "le_AvgTone\t = LabelEncoder()\n",
    "model_data['AvgTone'] = le_AvgTone.fit_transform(model_data['AvgTone'])\n",
    "le_AvgTone_mapping = dict(zip(le_AvgTone.classes_, le_AvgTone.transform(le_AvgTone.classes_)))\n"
   ]
  },
  {
   "cell_type": "code",
   "execution_count": 280,
   "metadata": {
    "scrolled": true
   },
   "outputs": [
    {
     "data": {
      "text/html": [
       "<div>\n",
       "<style scoped>\n",
       "    .dataframe tbody tr th:only-of-type {\n",
       "        vertical-align: middle;\n",
       "    }\n",
       "\n",
       "    .dataframe tbody tr th {\n",
       "        vertical-align: top;\n",
       "    }\n",
       "\n",
       "    .dataframe thead th {\n",
       "        text-align: right;\n",
       "    }\n",
       "</style>\n",
       "<table border=\"1\" class=\"dataframe\">\n",
       "  <thead>\n",
       "    <tr style=\"text-align: right;\">\n",
       "      <th></th>\n",
       "      <th>CountryEvent</th>\n",
       "      <th>EventType</th>\n",
       "      <th>ActorReligion</th>\n",
       "      <th>HDI</th>\n",
       "      <th>AvgTone</th>\n",
       "      <th>country_source</th>\n",
       "    </tr>\n",
       "  </thead>\n",
       "  <tbody>\n",
       "    <tr>\n",
       "      <th>0</th>\n",
       "      <td>7</td>\n",
       "      <td>0</td>\n",
       "      <td>0</td>\n",
       "      <td>3</td>\n",
       "      <td>3</td>\n",
       "      <td>Malaysia</td>\n",
       "    </tr>\n",
       "    <tr>\n",
       "      <th>1</th>\n",
       "      <td>2</td>\n",
       "      <td>1</td>\n",
       "      <td>2</td>\n",
       "      <td>2</td>\n",
       "      <td>2</td>\n",
       "      <td>India</td>\n",
       "    </tr>\n",
       "    <tr>\n",
       "      <th>2</th>\n",
       "      <td>10</td>\n",
       "      <td>1</td>\n",
       "      <td>0</td>\n",
       "      <td>2</td>\n",
       "      <td>2</td>\n",
       "      <td>India</td>\n",
       "    </tr>\n",
       "    <tr>\n",
       "      <th>3</th>\n",
       "      <td>11</td>\n",
       "      <td>3</td>\n",
       "      <td>0</td>\n",
       "      <td>0</td>\n",
       "      <td>3</td>\n",
       "      <td>Philippines</td>\n",
       "    </tr>\n",
       "    <tr>\n",
       "      <th>4</th>\n",
       "      <td>9</td>\n",
       "      <td>2</td>\n",
       "      <td>1</td>\n",
       "      <td>2</td>\n",
       "      <td>6</td>\n",
       "      <td>India</td>\n",
       "    </tr>\n",
       "  </tbody>\n",
       "</table>\n",
       "</div>"
      ],
      "text/plain": [
       "   CountryEvent  EventType  ActorReligion  HDI  AvgTone country_source\n",
       "0             7          0              0    3        3       Malaysia\n",
       "1             2          1              2    2        2          India\n",
       "2            10          1              0    2        2          India\n",
       "3            11          3              0    0        3    Philippines\n",
       "4             9          2              1    2        6          India"
      ]
     },
     "execution_count": 280,
     "metadata": {},
     "output_type": "execute_result"
    }
   ],
   "source": [
    "# show transformed dataset\n",
    "model_data.head()"
   ]
  },
  {
   "cell_type": "code",
   "execution_count": 281,
   "metadata": {},
   "outputs": [],
   "source": [
    "# define X and Y\n",
    "X = model_data.values[:, 0:4]\n",
    "Y = model_data.values[:,4]\n",
    "Y = Y.astype(int) "
   ]
  },
  {
   "cell_type": "code",
   "execution_count": 282,
   "metadata": {},
   "outputs": [],
   "source": [
    "# split the data\n",
    "X_train, X_test, y_train, y_test = train_test_split(X, Y, test_size = 0.3, random_state = 42)"
   ]
  },
  {
   "cell_type": "code",
   "execution_count": 283,
   "metadata": {},
   "outputs": [
    {
     "data": {
      "text/plain": [
       "DecisionTreeClassifier(class_weight=None, criterion='gini', max_depth=None,\n",
       "            max_features=None, max_leaf_nodes=None,\n",
       "            min_impurity_decrease=0.0, min_impurity_split=None,\n",
       "            min_samples_leaf=1, min_samples_split=2,\n",
       "            min_weight_fraction_leaf=0.0, presort=False, random_state=None,\n",
       "            splitter='best')"
      ]
     },
     "execution_count": 283,
     "metadata": {},
     "output_type": "execute_result"
    }
   ],
   "source": [
    "# train the model\n",
    "clf = DecisionTreeClassifier()\n",
    "clf.fit(X_train, y_train)\n"
   ]
  },
  {
   "cell_type": "code",
   "execution_count": 284,
   "metadata": {},
   "outputs": [
    {
     "name": "stdout",
     "output_type": "stream",
     "text": [
      "Accuracy is \n"
     ]
    },
    {
     "data": {
      "text/plain": [
       "(None, 57.14285714285714)"
      ]
     },
     "execution_count": 284,
     "metadata": {},
     "output_type": "execute_result"
    }
   ],
   "source": [
    "y_pred = clf.predict(X_test)\n",
    "print(\"Accuracy is \"), accuracy_score(y_test,y_pred)*100"
   ]
  },
  {
   "cell_type": "code",
   "execution_count": 285,
   "metadata": {},
   "outputs": [
    {
     "data": {
      "text/plain": [
       "[Interval(-5, -2, closed='right')]"
      ]
     },
     "execution_count": 285,
     "metadata": {},
     "output_type": "execute_result"
    }
   ],
   "source": [
    "# predict for: ['MY', 'AFFECT', 'CHR', 'Very High']\n",
    "le_EventType_mapping['KILL']\n",
    "y_pr =clf.predict([[le_CountryEvent_mapping['MY'], le_EventType_mapping['AFFECT'], le_ActorReligion_mapping['CHR'], le_HDI_mapping['Very High']]])\n",
    "AvTone = [key  for (key, value) in le_AvgTone_mapping.items() if value == y_pr]\n",
    "AvTone"
   ]
  },
  {
   "cell_type": "markdown",
   "metadata": {},
   "source": [
    "Q4. **Do we have a saturation limit?** / Q5. **Who is more emotional?**\n",
    "\n",
    "The data to answer questions 4 % 5 is pretty similar, therefore the processing for both parts is shown here."
   ]
  },
  {
   "cell_type": "markdown",
   "metadata": {},
   "source": [
    "##### Q4. a) GCAM Emotions data <a id='Part2_Q4a'></a>\n",
    "> We will select the ID ,the emotions, locations, persons and tone so we can attribute to an event the emotion behind it. For question 4 and 5 we will use mainly the gkg files as these files contain all the information that allows to answer our questions (locations, persons, emotions)"
   ]
  },
  {
   "cell_type": "code",
   "execution_count": 5,
   "metadata": {},
   "outputs": [],
   "source": [
    "ID_GCAM = gkg_df.select(\"GKGRECORDID\",\"GCAM\",\"Locations\",\"Persons\",\"V2Tone\")"
   ]
  },
  {
   "cell_type": "code",
   "execution_count": 6,
   "metadata": {},
   "outputs": [
    {
     "data": {
      "text/html": [
       "<div>\n",
       "<style scoped>\n",
       "    .dataframe tbody tr th:only-of-type {\n",
       "        vertical-align: middle;\n",
       "    }\n",
       "\n",
       "    .dataframe tbody tr th {\n",
       "        vertical-align: top;\n",
       "    }\n",
       "\n",
       "    .dataframe thead th {\n",
       "        text-align: right;\n",
       "    }\n",
       "</style>\n",
       "<table border=\"1\" class=\"dataframe\">\n",
       "  <thead>\n",
       "    <tr style=\"text-align: right;\">\n",
       "      <th></th>\n",
       "      <th>GKGRECORDID</th>\n",
       "      <th>GCAM</th>\n",
       "      <th>Locations</th>\n",
       "      <th>Persons</th>\n",
       "      <th>V2Tone</th>\n",
       "    </tr>\n",
       "  </thead>\n",
       "  <tbody>\n",
       "    <tr>\n",
       "      <th>0</th>\n",
       "      <td>20171123073000-0</td>\n",
       "      <td>wc:122,c12.1:10,c12.10:7,c12.12:3,c12.13:1,c12...</td>\n",
       "      <td>None</td>\n",
       "      <td>chanel matautia</td>\n",
       "      <td>6.33802816901408,6.33802816901408,0,6.33802816...</td>\n",
       "    </tr>\n",
       "    <tr>\n",
       "      <th>1</th>\n",
       "      <td>20171123073000-1</td>\n",
       "      <td>wc:154,c1.2:1,c12.1:14,c12.10:10,c12.12:1,c12....</td>\n",
       "      <td>1#United States#US#US#39.828175#-98.5795#US;1#...</td>\n",
       "      <td>None</td>\n",
       "      <td>1.76470588235294,5.29411764705882,3.5294117647...</td>\n",
       "    </tr>\n",
       "    <tr>\n",
       "      <th>2</th>\n",
       "      <td>20171123073000-2</td>\n",
       "      <td>wc:499,c12.1:23,c12.10:37,c12.12:6,c12.13:18,c...</td>\n",
       "      <td>4#Durban, Kwazulu-Natal, South Africa#SF#SF02#...</td>\n",
       "      <td>dudu miyeni;tony gupta;salim essa;pravin gordh...</td>\n",
       "      <td>-3.77358490566038,1.32075471698113,5.094339622...</td>\n",
       "    </tr>\n",
       "    <tr>\n",
       "      <th>3</th>\n",
       "      <td>20171123073000-3</td>\n",
       "      <td>wc:797,c1.1:1,c1.2:1,c12.1:26,c12.10:65,c12.11...</td>\n",
       "      <td>1#Japan#JA#JA#36#138#JA;1#United States#US#US#...</td>\n",
       "      <td>zehra spindler;asia pacific</td>\n",
       "      <td>3.7542662116041,4.43686006825939,0.68259385665...</td>\n",
       "    </tr>\n",
       "    <tr>\n",
       "      <th>4</th>\n",
       "      <td>20171123073000-4</td>\n",
       "      <td>wc:200,c1.2:3,c12.1:1,c12.10:10,c12.12:4,c12.1...</td>\n",
       "      <td>None</td>\n",
       "      <td>None</td>\n",
       "      <td>3.41463414634146,3.41463414634146,0,3.41463414...</td>\n",
       "    </tr>\n",
       "  </tbody>\n",
       "</table>\n",
       "</div>"
      ],
      "text/plain": [
       "        GKGRECORDID                                               GCAM  \\\n",
       "0  20171123073000-0  wc:122,c12.1:10,c12.10:7,c12.12:3,c12.13:1,c12...   \n",
       "1  20171123073000-1  wc:154,c1.2:1,c12.1:14,c12.10:10,c12.12:1,c12....   \n",
       "2  20171123073000-2  wc:499,c12.1:23,c12.10:37,c12.12:6,c12.13:18,c...   \n",
       "3  20171123073000-3  wc:797,c1.1:1,c1.2:1,c12.1:26,c12.10:65,c12.11...   \n",
       "4  20171123073000-4  wc:200,c1.2:3,c12.1:1,c12.10:10,c12.12:4,c12.1...   \n",
       "\n",
       "                                           Locations  \\\n",
       "0                                               None   \n",
       "1  1#United States#US#US#39.828175#-98.5795#US;1#...   \n",
       "2  4#Durban, Kwazulu-Natal, South Africa#SF#SF02#...   \n",
       "3  1#Japan#JA#JA#36#138#JA;1#United States#US#US#...   \n",
       "4                                               None   \n",
       "\n",
       "                                             Persons  \\\n",
       "0                                    chanel matautia   \n",
       "1                                               None   \n",
       "2  dudu miyeni;tony gupta;salim essa;pravin gordh...   \n",
       "3                        zehra spindler;asia pacific   \n",
       "4                                               None   \n",
       "\n",
       "                                              V2Tone  \n",
       "0  6.33802816901408,6.33802816901408,0,6.33802816...  \n",
       "1  1.76470588235294,5.29411764705882,3.5294117647...  \n",
       "2  -3.77358490566038,1.32075471698113,5.094339622...  \n",
       "3  3.7542662116041,4.43686006825939,0.68259385665...  \n",
       "4  3.41463414634146,3.41463414634146,0,3.41463414...  "
      ]
     },
     "execution_count": 6,
     "metadata": {},
     "output_type": "execute_result"
    }
   ],
   "source": [
    "df_ID_GCAM = ID_GCAM.toPandas()\n",
    "df_ID_GCAM.head()"
   ]
  },
  {
   "cell_type": "markdown",
   "metadata": {},
   "source": [
    "> lets make sure we only have 1 ID per row (which is expected)"
   ]
  },
  {
   "cell_type": "code",
   "execution_count": 7,
   "metadata": {},
   "outputs": [
    {
     "name": "stdout",
     "output_type": "stream",
     "text": [
      "\n",
      " Length of all dataframe : 4169 \n",
      " Length of unique IDs    : 4169\n"
     ]
    }
   ],
   "source": [
    "print('\\n', 'Length of all dataframe :' ,len(df_ID_GCAM), '\\n', \n",
    "            'Length of unique IDs    :' ,len(df_ID_GCAM['GKGRECORDID'].unique()))"
   ]
  },
  {
   "cell_type": "markdown",
   "metadata": {},
   "source": [
    "> Let's focus on the emotions since the other columns are pretty straightforward. We need to split the emotions so then we can better attribute each event the correspondent feel as there are several dictionaries with different collection of words. For a more clear vision you can check [GCAM](https://blog.gdeltproject.org/introducing-the-global-content-analysis-measures-gcam/)"
   ]
  },
  {
   "cell_type": "code",
   "execution_count": 8,
   "metadata": {},
   "outputs": [
    {
     "data": {
      "text/html": [
       "<div>\n",
       "<style scoped>\n",
       "    .dataframe tbody tr th:only-of-type {\n",
       "        vertical-align: middle;\n",
       "    }\n",
       "\n",
       "    .dataframe tbody tr th {\n",
       "        vertical-align: top;\n",
       "    }\n",
       "\n",
       "    .dataframe thead th {\n",
       "        text-align: right;\n",
       "    }\n",
       "</style>\n",
       "<table border=\"1\" class=\"dataframe\">\n",
       "  <thead>\n",
       "    <tr style=\"text-align: right;\">\n",
       "      <th></th>\n",
       "      <th>GKGRECORDID</th>\n",
       "      <th>0</th>\n",
       "      <th>1</th>\n",
       "      <th>2</th>\n",
       "      <th>3</th>\n",
       "      <th>4</th>\n",
       "      <th>5</th>\n",
       "      <th>6</th>\n",
       "      <th>7</th>\n",
       "      <th>8</th>\n",
       "      <th>...</th>\n",
       "      <th>1969</th>\n",
       "      <th>1970</th>\n",
       "      <th>1971</th>\n",
       "      <th>1972</th>\n",
       "      <th>1973</th>\n",
       "      <th>1974</th>\n",
       "      <th>1975</th>\n",
       "      <th>1976</th>\n",
       "      <th>1977</th>\n",
       "      <th>1978</th>\n",
       "    </tr>\n",
       "  </thead>\n",
       "  <tbody>\n",
       "    <tr>\n",
       "      <th>0</th>\n",
       "      <td>20171123073000-0</td>\n",
       "      <td>wc:122</td>\n",
       "      <td>c12.1:10</td>\n",
       "      <td>c12.10:7</td>\n",
       "      <td>c12.12:3</td>\n",
       "      <td>c12.13:1</td>\n",
       "      <td>c12.14:3</td>\n",
       "      <td>c12.3:2</td>\n",
       "      <td>c12.4:2</td>\n",
       "      <td>c12.5:9</td>\n",
       "      <td>...</td>\n",
       "      <td>None</td>\n",
       "      <td>None</td>\n",
       "      <td>None</td>\n",
       "      <td>None</td>\n",
       "      <td>None</td>\n",
       "      <td>None</td>\n",
       "      <td>None</td>\n",
       "      <td>None</td>\n",
       "      <td>None</td>\n",
       "      <td>None</td>\n",
       "    </tr>\n",
       "    <tr>\n",
       "      <th>1</th>\n",
       "      <td>20171123073000-1</td>\n",
       "      <td>wc:154</td>\n",
       "      <td>c1.2:1</td>\n",
       "      <td>c12.1:14</td>\n",
       "      <td>c12.10:10</td>\n",
       "      <td>c12.12:1</td>\n",
       "      <td>c12.13:4</td>\n",
       "      <td>c12.14:5</td>\n",
       "      <td>c12.3:4</td>\n",
       "      <td>c12.4:2</td>\n",
       "      <td>...</td>\n",
       "      <td>None</td>\n",
       "      <td>None</td>\n",
       "      <td>None</td>\n",
       "      <td>None</td>\n",
       "      <td>None</td>\n",
       "      <td>None</td>\n",
       "      <td>None</td>\n",
       "      <td>None</td>\n",
       "      <td>None</td>\n",
       "      <td>None</td>\n",
       "    </tr>\n",
       "    <tr>\n",
       "      <th>2</th>\n",
       "      <td>20171123073000-2</td>\n",
       "      <td>wc:499</td>\n",
       "      <td>c12.1:23</td>\n",
       "      <td>c12.10:37</td>\n",
       "      <td>c12.12:6</td>\n",
       "      <td>c12.13:18</td>\n",
       "      <td>c12.14:14</td>\n",
       "      <td>c12.3:15</td>\n",
       "      <td>c12.4:5</td>\n",
       "      <td>c12.5:5</td>\n",
       "      <td>...</td>\n",
       "      <td>None</td>\n",
       "      <td>None</td>\n",
       "      <td>None</td>\n",
       "      <td>None</td>\n",
       "      <td>None</td>\n",
       "      <td>None</td>\n",
       "      <td>None</td>\n",
       "      <td>None</td>\n",
       "      <td>None</td>\n",
       "      <td>None</td>\n",
       "    </tr>\n",
       "    <tr>\n",
       "      <th>3</th>\n",
       "      <td>20171123073000-3</td>\n",
       "      <td>wc:797</td>\n",
       "      <td>c1.1:1</td>\n",
       "      <td>c1.2:1</td>\n",
       "      <td>c12.1:26</td>\n",
       "      <td>c12.10:65</td>\n",
       "      <td>c12.11:1</td>\n",
       "      <td>c12.12:8</td>\n",
       "      <td>c12.13:22</td>\n",
       "      <td>c12.14:38</td>\n",
       "      <td>...</td>\n",
       "      <td>None</td>\n",
       "      <td>None</td>\n",
       "      <td>None</td>\n",
       "      <td>None</td>\n",
       "      <td>None</td>\n",
       "      <td>None</td>\n",
       "      <td>None</td>\n",
       "      <td>None</td>\n",
       "      <td>None</td>\n",
       "      <td>None</td>\n",
       "    </tr>\n",
       "    <tr>\n",
       "      <th>4</th>\n",
       "      <td>20171123073000-4</td>\n",
       "      <td>wc:200</td>\n",
       "      <td>c1.2:3</td>\n",
       "      <td>c12.1:1</td>\n",
       "      <td>c12.10:10</td>\n",
       "      <td>c12.12:4</td>\n",
       "      <td>c12.13:4</td>\n",
       "      <td>c12.14:10</td>\n",
       "      <td>c12.5:1</td>\n",
       "      <td>c12.7:4</td>\n",
       "      <td>...</td>\n",
       "      <td>None</td>\n",
       "      <td>None</td>\n",
       "      <td>None</td>\n",
       "      <td>None</td>\n",
       "      <td>None</td>\n",
       "      <td>None</td>\n",
       "      <td>None</td>\n",
       "      <td>None</td>\n",
       "      <td>None</td>\n",
       "      <td>None</td>\n",
       "    </tr>\n",
       "  </tbody>\n",
       "</table>\n",
       "<p>5 rows × 1980 columns</p>\n",
       "</div>"
      ],
      "text/plain": [
       "        GKGRECORDID       0         1          2          3          4  \\\n",
       "0  20171123073000-0  wc:122  c12.1:10   c12.10:7   c12.12:3   c12.13:1   \n",
       "1  20171123073000-1  wc:154    c1.2:1   c12.1:14  c12.10:10   c12.12:1   \n",
       "2  20171123073000-2  wc:499  c12.1:23  c12.10:37   c12.12:6  c12.13:18   \n",
       "3  20171123073000-3  wc:797    c1.1:1     c1.2:1   c12.1:26  c12.10:65   \n",
       "4  20171123073000-4  wc:200    c1.2:3    c12.1:1  c12.10:10   c12.12:4   \n",
       "\n",
       "           5          6          7          8  ...   1969  1970  1971  1972  \\\n",
       "0   c12.14:3    c12.3:2    c12.4:2    c12.5:9  ...   None  None  None  None   \n",
       "1   c12.13:4   c12.14:5    c12.3:4    c12.4:2  ...   None  None  None  None   \n",
       "2  c12.14:14   c12.3:15    c12.4:5    c12.5:5  ...   None  None  None  None   \n",
       "3   c12.11:1   c12.12:8  c12.13:22  c12.14:38  ...   None  None  None  None   \n",
       "4   c12.13:4  c12.14:10    c12.5:1    c12.7:4  ...   None  None  None  None   \n",
       "\n",
       "   1973  1974  1975  1976  1977  1978  \n",
       "0  None  None  None  None  None  None  \n",
       "1  None  None  None  None  None  None  \n",
       "2  None  None  None  None  None  None  \n",
       "3  None  None  None  None  None  None  \n",
       "4  None  None  None  None  None  None  \n",
       "\n",
       "[5 rows x 1980 columns]"
      ]
     },
     "execution_count": 8,
     "metadata": {},
     "output_type": "execute_result"
    }
   ],
   "source": [
    "# split the GCAM column\n",
    "df_ID_Emotions = df_ID_GCAM['GCAM'].str.split(',',expand=True)\n",
    "# insert the correspondent ID\n",
    "df_ID_Emotions.insert(loc=0, column='GKGRECORDID', value=df_ID_GCAM['GKGRECORDID'])\n",
    "df_ID_Emotions.head()"
   ]
  },
  {
   "cell_type": "markdown",
   "metadata": {},
   "source": [
    "#### Q4. b) Building the emotion dictionary <a id='Part2_Q4b'></a>"
   ]
  },
  {
   "cell_type": "code",
   "execution_count": 9,
   "metadata": {},
   "outputs": [],
   "source": [
    "# function to build emotion dictionary\n",
    "Emotions_dictionary = get_emotion_dictionary(DATA_LOCAL, 'GCAM-MASTER-CODEBOOK.txt')"
   ]
  },
  {
   "cell_type": "code",
   "execution_count": 10,
   "metadata": {},
   "outputs": [
    {
     "data": {
      "text/html": [
       "<div>\n",
       "<style scoped>\n",
       "    .dataframe tbody tr th:only-of-type {\n",
       "        vertical-align: middle;\n",
       "    }\n",
       "\n",
       "    .dataframe tbody tr th {\n",
       "        vertical-align: top;\n",
       "    }\n",
       "\n",
       "    .dataframe thead th {\n",
       "        text-align: right;\n",
       "    }\n",
       "</style>\n",
       "<table border=\"1\" class=\"dataframe\">\n",
       "  <thead>\n",
       "    <tr style=\"text-align: right;\">\n",
       "      <th></th>\n",
       "      <th>Variable</th>\n",
       "      <th>DimensionHumanName</th>\n",
       "    </tr>\n",
       "  </thead>\n",
       "  <tbody>\n",
       "    <tr>\n",
       "      <th>2973</th>\n",
       "      <td>c37.33</td>\n",
       "      <td>Power</td>\n",
       "    </tr>\n",
       "    <tr>\n",
       "      <th>2974</th>\n",
       "      <td>c38.1</td>\n",
       "      <td>ImageryValence</td>\n",
       "    </tr>\n",
       "    <tr>\n",
       "      <th>2975</th>\n",
       "      <td>c41.1</td>\n",
       "      <td>POSITIVE</td>\n",
       "    </tr>\n",
       "    <tr>\n",
       "      <th>2976</th>\n",
       "      <td>c41.2</td>\n",
       "      <td>NEGATIVE</td>\n",
       "    </tr>\n",
       "    <tr>\n",
       "      <th>2977</th>\n",
       "      <td>c41.3</td>\n",
       "      <td>NEUTRAL</td>\n",
       "    </tr>\n",
       "  </tbody>\n",
       "</table>\n",
       "</div>"
      ],
      "text/plain": [
       "     Variable DimensionHumanName\n",
       "2973   c37.33              Power\n",
       "2974    c38.1     ImageryValence\n",
       "2975    c41.1           POSITIVE\n",
       "2976    c41.2           NEGATIVE\n",
       "2977    c41.3            NEUTRAL"
      ]
     },
     "execution_count": 10,
     "metadata": {},
     "output_type": "execute_result"
    }
   ],
   "source": [
    "# lets have a look at it\n",
    "Emotions_dictionary.tail()"
   ]
  },
  {
   "cell_type": "markdown",
   "metadata": {},
   "source": [
    "> We see that different variables refer to different feelings.\n",
    "> After some research (as you'll see) one of the most common emotions is \"H4Lvd\" which clearly is not an emotion or a feeling of the speech, but it corresponds to 2 dictionaries. Meaning that these words belong to the Harvard and Lasswell dictionaries. In order to understand what this means, we went to see the spreadsheet of the words in these dictionaries, additional information found in [H4Lvd](http://www.wjh.harvard.edu/~inquirer/spreadsheet_guide.htm).\n",
    "When we don't have the specific emotion, it is useful to know which is the most common feeling associated with the most common dictionaries (therefore the check of the spreadsheets). For some others, we already know the feeling the dictionary refers to, such as \"Positivity\" via Lexicoder, “Smugness” via WordNet Affect, “Passivity” via Regressive Imagery Dictionary, etc. With this information we can associate these sentiments with the news and speeches for each event"
   ]
  },
  {
   "cell_type": "markdown",
   "metadata": {},
   "source": [
    "# Part 3 <a id='Part3'></a>"
   ]
  },
  {
   "cell_type": "markdown",
   "metadata": {},
   "source": [
    "Q1. **Are we emotionally biased?** <a id='Part3_Q1'></a>"
   ]
  },
  {
   "cell_type": "code",
   "execution_count": 13,
   "metadata": {},
   "outputs": [],
   "source": [
    "# Evaluation of the dependency between the emotions and the importance of the conflict\n",
    "# Note that in this preliminary analysis we only use the average tone as the emotion metrics\n",
    "\n",
    "def emotion_correlation(df, variable):\n",
    "    '''Computes descriptive statistics and exploratory plots.\n",
    "    Variable can take the following values: Distance, NumMentions, NumSources, NumArticles'''\n",
    "    emotions_Number = df.select(variable, 'AvgTone').toPandas()\n",
    "    print(emotions_Number.describe())\n",
    "    # Pearson correlation coefficient between the 2 variables\n",
    "    print('Pearson Correlation: ', emotions_Number[variable].corr(emotions_Number['AvgTone']))\n",
    "    emotions_Number.plot(x=variable, y='AvgTone', style='o')\n",
    "    return "
   ]
  },
  {
   "cell_type": "code",
   "execution_count": 14,
   "metadata": {
    "scrolled": true
   },
   "outputs": [
    {
     "name": "stdout",
     "output_type": "stream",
     "text": [
      "           distance      AvgTone\n",
      "count   2054.000000  2054.000000\n",
      "mean    4983.671387    -2.318712\n",
      "std     5305.334473     3.914963\n",
      "min        0.000000   -13.202934\n",
      "25%      560.834824    -4.741065\n",
      "50%     2307.203369    -2.006902\n",
      "75%     8987.983398     0.308689\n",
      "max    18626.142578     7.751938\n",
      "Pearson Correlation:  -0.006253850068993486\n"
     ]
    },
    {
     "data": {
      "image/png": "[encoded data removed]",
      "text/plain": [
       "<Figure size 432x288 with 1 Axes>"
      ]
     },
     "metadata": {
      "needs_background": "light"
     },
     "output_type": "display_data"
    }
   ],
   "source": [
    "emotion_correlation(event_mentions_df,'distance')"
   ]
  },
  {
   "cell_type": "code",
   "execution_count": 15,
   "metadata": {
    "scrolled": true
   },
   "outputs": [
    {
     "name": "stdout",
     "output_type": "stream",
     "text": [
      "        NumSources      AvgTone\n",
      "count  2054.000000  2054.000000\n",
      "mean      1.904576    -2.318712\n",
      "std       2.938010     3.914963\n",
      "min       1.000000   -13.202934\n",
      "25%       1.000000    -4.741065\n",
      "50%       1.000000    -2.006902\n",
      "75%       1.000000     0.308689\n",
      "max      12.000000     7.751938\n",
      "Pearson Correlation:  0.10384734575300208\n"
     ]
    },
    {
     "data": {
      "image/png": "[encoded data removed]",
      "text/plain": [
       "<Figure size 432x288 with 1 Axes>"
      ]
     },
     "metadata": {
      "needs_background": "light"
     },
     "output_type": "display_data"
    }
   ],
   "source": [
    "emotion_correlation(event_mentions_df,'NumSources')"
   ]
  },
  {
   "cell_type": "code",
   "execution_count": 16,
   "metadata": {},
   "outputs": [
    {
     "name": "stdout",
     "output_type": "stream",
     "text": [
      "       NumMentions      AvgTone\n",
      "count  2054.000000  2054.000000\n",
      "mean      6.115871    -2.318712\n",
      "std       5.795779     3.914963\n",
      "min       1.000000   -13.202934\n",
      "25%       2.000000    -4.741065\n",
      "50%       4.000000    -2.006902\n",
      "75%      10.000000     0.308689\n",
      "max      40.000000     7.751938\n",
      "Pearson Correlation:  0.06790457287122843\n"
     ]
    },
    {
     "data": {
      "image/png": "[encoded data removed]",
      "text/plain": [
       "<Figure size 432x288 with 1 Axes>"
      ]
     },
     "metadata": {
      "needs_background": "light"
     },
     "output_type": "display_data"
    }
   ],
   "source": [
    "emotion_correlation(event_mentions_df,'NumMentions')"
   ]
  },
  {
   "cell_type": "code",
   "execution_count": 66,
   "metadata": {
    "scrolled": true
   },
   "outputs": [
    {
     "name": "stdout",
     "output_type": "stream",
     "text": [
      "       NumArticles      AvgTone\n",
      "count  2054.000000  2054.000000\n",
      "mean      6.054041    -2.318712\n",
      "std       5.665157     3.914963\n",
      "min       1.000000   -13.202934\n",
      "25%       2.000000    -4.741065\n",
      "50%       4.000000    -2.006902\n",
      "75%      10.000000     0.308689\n",
      "max      40.000000     7.751938\n",
      "Pearson Correlation:  0.06910346808925116\n"
     ]
    },
    {
     "data": {
      "image/png": "[encoded data removed]",
      "text/plain": [
       "<Figure size 432x288 with 1 Axes>"
      ]
     },
     "metadata": {
      "needs_background": "light"
     },
     "output_type": "display_data"
    }
   ],
   "source": [
    "emotion_correlation(event_mentions_df,'NumArticles')"
   ]
  },
  {
   "cell_type": "markdown",
   "metadata": {},
   "source": [
    "For this small dataset, no clear trends can yet be observed. However, we expect that with more data, further filtrations (e.g. articles mentioned above a certain threshold), and different emotional metrics derived from the emotion dictionary, we get a more clear picture. Though, it is possible that emotions are independent of the importance of an event, or the distance from where the event has happened."
   ]
  },
  {
   "cell_type": "markdown",
   "metadata": {},
   "source": [
    "#### Question 2 Analysis <a id='Part3_Q2'></a>"
   ]
  },
  {
   "cell_type": "code",
   "execution_count": 56,
   "metadata": {},
   "outputs": [],
   "source": [
    "data_q2_df = data_q2.toPandas()"
   ]
  },
  {
   "cell_type": "code",
   "execution_count": 86,
   "metadata": {},
   "outputs": [
    {
     "data": {
      "text/plain": [
       "ActionGeo_CountryCode    261\n",
       "sum_articles             261\n",
       "count_events             261\n",
       "dtype: int64"
      ]
     },
     "execution_count": 86,
     "metadata": {},
     "output_type": "execute_result"
    }
   ],
   "source": [
    "data_q2_df.count()"
   ]
  },
  {
   "cell_type": "code",
   "execution_count": 57,
   "metadata": {},
   "outputs": [
    {
     "data": {
      "text/plain": [
       "<matplotlib.axes._subplots.AxesSubplot at 0x7f90ec620630>"
      ]
     },
     "execution_count": 57,
     "metadata": {},
     "output_type": "execute_result"
    },
    {
     "data": {
      "image/png": "[encoded data removed]",
      "text/plain": [
       "<Figure size 432x288 with 1 Axes>"
      ]
     },
     "metadata": {
      "needs_background": "light"
     },
     "output_type": "display_data"
    }
   ],
   "source": [
    "data_q2_df.plot(x='sum_articles', y='count_events', style='o')"
   ]
  },
  {
   "cell_type": "code",
   "execution_count": 78,
   "metadata": {},
   "outputs": [],
   "source": [
    "# analysis on the cluster data\n",
    "data_q2 = spark.read.parquet(DATA_LOCAL + 'data_q2.parquet')"
   ]
  },
  {
   "cell_type": "code",
   "execution_count": 79,
   "metadata": {},
   "outputs": [],
   "source": [
    "data_q2_df = data_q2.toPandas()"
   ]
  },
  {
   "cell_type": "code",
   "execution_count": 149,
   "metadata": {},
   "outputs": [
    {
     "data": {
      "text/html": [
       "<div>\n",
       "<style scoped>\n",
       "    .dataframe tbody tr th:only-of-type {\n",
       "        vertical-align: middle;\n",
       "    }\n",
       "\n",
       "    .dataframe tbody tr th {\n",
       "        vertical-align: top;\n",
       "    }\n",
       "\n",
       "    .dataframe thead th {\n",
       "        text-align: right;\n",
       "    }\n",
       "</style>\n",
       "<table border=\"1\" class=\"dataframe\">\n",
       "  <thead>\n",
       "    <tr style=\"text-align: right;\">\n",
       "      <th></th>\n",
       "      <th>ActionGeo_CountryCode</th>\n",
       "      <th>sum_articles</th>\n",
       "      <th>count_events</th>\n",
       "    </tr>\n",
       "  </thead>\n",
       "  <tbody>\n",
       "    <tr>\n",
       "      <th>201</th>\n",
       "      <td>SG</td>\n",
       "      <td>486133.0</td>\n",
       "      <td>96627</td>\n",
       "    </tr>\n",
       "  </tbody>\n",
       "</table>\n",
       "</div>"
      ],
      "text/plain": [
       "    ActionGeo_CountryCode  sum_articles  count_events\n",
       "201                    SG      486133.0         96627"
      ]
     },
     "execution_count": 149,
     "metadata": {},
     "output_type": "execute_result"
    }
   ],
   "source": [
    "data_q2_df[data_q2_df.ActionGeo_CountryCode=='SG']"
   ]
  },
  {
   "cell_type": "code",
   "execution_count": 82,
   "metadata": {},
   "outputs": [
    {
     "data": {
      "text/html": [
       "<div>\n",
       "<style scoped>\n",
       "    .dataframe tbody tr th:only-of-type {\n",
       "        vertical-align: middle;\n",
       "    }\n",
       "\n",
       "    .dataframe tbody tr th {\n",
       "        vertical-align: top;\n",
       "    }\n",
       "\n",
       "    .dataframe thead th {\n",
       "        text-align: right;\n",
       "    }\n",
       "</style>\n",
       "<table border=\"1\" class=\"dataframe\">\n",
       "  <thead>\n",
       "    <tr style=\"text-align: right;\">\n",
       "      <th></th>\n",
       "      <th>ActionGeo_CountryCode</th>\n",
       "      <th>sum_articles</th>\n",
       "      <th>count_events</th>\n",
       "    </tr>\n",
       "  </thead>\n",
       "  <tbody>\n",
       "    <tr>\n",
       "      <th>43</th>\n",
       "      <td>US</td>\n",
       "      <td>288930710.0</td>\n",
       "      <td>61962743</td>\n",
       "    </tr>\n",
       "  </tbody>\n",
       "</table>\n",
       "</div>"
      ],
      "text/plain": [
       "   ActionGeo_CountryCode  sum_articles  count_events\n",
       "43                    US   288930710.0      61962743"
      ]
     },
     "execution_count": 82,
     "metadata": {},
     "output_type": "execute_result"
    }
   ],
   "source": [
    "data_q2_df[data_q2_df.sum_articles> 2.5e08].head()"
   ]
  },
  {
   "cell_type": "code",
   "execution_count": 80,
   "metadata": {},
   "outputs": [
    {
     "data": {
      "text/plain": [
       "<matplotlib.axes._subplots.AxesSubplot at 0x7f769a8812b0>"
      ]
     },
     "execution_count": 80,
     "metadata": {},
     "output_type": "execute_result"
    },
    {
     "data": {
      "image/png": "[encoded data removed]",
      "text/plain": [
       "<Figure size 432x288 with 1 Axes>"
      ]
     },
     "metadata": {
      "needs_background": "light"
     },
     "output_type": "display_data"
    }
   ],
   "source": [
    "data_q2_df.plot(x='sum_articles', y='count_events', style='o')"
   ]
  },
  {
   "cell_type": "code",
   "execution_count": 84,
   "metadata": {
    "scrolled": true
   },
   "outputs": [
    {
     "data": {
      "text/plain": [
       "<matplotlib.axes._subplots.AxesSubplot at 0x7f769a80a7f0>"
      ]
     },
     "execution_count": 84,
     "metadata": {},
     "output_type": "execute_result"
    },
    {
     "data": {
      "image/png": "[encoded data removed]",
      "text/plain": [
       "<Figure size 432x288 with 1 Axes>"
      ]
     },
     "metadata": {
      "needs_background": "light"
     },
     "output_type": "display_data"
    }
   ],
   "source": [
    "#without the US\n",
    "data_w0_US = data_q2_df[data_q2_df.ActionGeo_CountryCode!='US']\n",
    "data_w0_US.plot(x='sum_articles', y='count_events', style='o')"
   ]
  },
  {
   "cell_type": "code",
   "execution_count": 97,
   "metadata": {},
   "outputs": [
    {
     "data": {
      "text/html": [
       "<div>\n",
       "<style scoped>\n",
       "    .dataframe tbody tr th:only-of-type {\n",
       "        vertical-align: middle;\n",
       "    }\n",
       "\n",
       "    .dataframe tbody tr th {\n",
       "        vertical-align: top;\n",
       "    }\n",
       "\n",
       "    .dataframe thead th {\n",
       "        text-align: right;\n",
       "    }\n",
       "</style>\n",
       "<table border=\"1\" class=\"dataframe\">\n",
       "  <thead>\n",
       "    <tr style=\"text-align: right;\">\n",
       "      <th></th>\n",
       "      <th>code</th>\n",
       "      <th>country_source</th>\n",
       "      <th>region</th>\n",
       "    </tr>\n",
       "  </thead>\n",
       "  <tbody>\n",
       "    <tr>\n",
       "      <th>0</th>\n",
       "      <td>AF</td>\n",
       "      <td>Afghanistan</td>\n",
       "      <td>Asia</td>\n",
       "    </tr>\n",
       "    <tr>\n",
       "      <th>81</th>\n",
       "      <td>AL</td>\n",
       "      <td>Albania</td>\n",
       "      <td>Europe</td>\n",
       "    </tr>\n",
       "    <tr>\n",
       "      <th>177</th>\n",
       "      <td>DZ</td>\n",
       "      <td>Algeria</td>\n",
       "      <td>Africa</td>\n",
       "    </tr>\n",
       "    <tr>\n",
       "      <th>269</th>\n",
       "      <td>AS</td>\n",
       "      <td>American Samoa</td>\n",
       "      <td>Oceania</td>\n",
       "    </tr>\n",
       "    <tr>\n",
       "      <th>280</th>\n",
       "      <td>AD</td>\n",
       "      <td>Andorra</td>\n",
       "      <td>Europe</td>\n",
       "    </tr>\n",
       "  </tbody>\n",
       "</table>\n",
       "</div>"
      ],
      "text/plain": [
       "    code  country_source   region\n",
       "0     AF     Afghanistan     Asia\n",
       "81    AL         Albania   Europe\n",
       "177   DZ         Algeria   Africa\n",
       "269   AS  American Samoa  Oceania\n",
       "280   AD         Andorra   Europe"
      ]
     },
     "execution_count": 97,
     "metadata": {},
     "output_type": "execute_result"
    }
   ],
   "source": [
    "domains_pandas = Domains.toPandas()\n",
    "domains_pandas = domains_pandas[['code', 'country_source', 'region']]\n",
    "domains_pandas = domains_pandas.drop_duplicates()\n",
    "domains_pandas.head()"
   ]
  },
  {
   "cell_type": "code",
   "execution_count": 98,
   "metadata": {},
   "outputs": [
    {
     "name": "stdout",
     "output_type": "stream",
     "text": [
      "code              229\n",
      "country_source    229\n",
      "region            228\n",
      "dtype: int64\n",
      "ActionGeo_CountryCode    261\n",
      "sum_articles             261\n",
      "count_events             261\n",
      "dtype: int64\n"
     ]
    }
   ],
   "source": [
    "print(domains_pandas.count())\n",
    "print(data_q2_df.count())"
   ]
  },
  {
   "cell_type": "code",
   "execution_count": 109,
   "metadata": {},
   "outputs": [
    {
     "data": {
      "text/plain": [
       "Country name    249\n",
       "FIPS_GDELT      249\n",
       "alpha-2         248\n",
       "dtype: int64"
      ]
     },
     "execution_count": 109,
     "metadata": {},
     "output_type": "execute_result"
    }
   ],
   "source": [
    "fips_alpha = pd.read_csv(DATA_LOCAL + \"CountryCode_FIPS_alpha.csv\")\n",
    "fips_alpha.count()"
   ]
  },
  {
   "cell_type": "code",
   "execution_count": 141,
   "metadata": {
    "scrolled": true
   },
   "outputs": [
    {
     "data": {
      "text/plain": [
       "ActionGeo_CountryCode    261\n",
       "sum_articles             261\n",
       "count_events             261\n",
       "Country name             249\n",
       "FIPS_GDELT               249\n",
       "alpha-2                  248\n",
       "dtype: int64"
      ]
     },
     "execution_count": 141,
     "metadata": {},
     "output_type": "execute_result"
    }
   ],
   "source": [
    "data_q2_1 = data_q2_df.merge(fips_alpha, left_on='ActionGeo_CountryCode', right_on='FIPS_GDELT', how='outer')\n",
    "data_q2_1.count()"
   ]
  },
  {
   "cell_type": "code",
   "execution_count": 146,
   "metadata": {},
   "outputs": [
    {
     "data": {
      "text/html": [
       "<div>\n",
       "<style scoped>\n",
       "    .dataframe tbody tr th:only-of-type {\n",
       "        vertical-align: middle;\n",
       "    }\n",
       "\n",
       "    .dataframe tbody tr th {\n",
       "        vertical-align: top;\n",
       "    }\n",
       "\n",
       "    .dataframe thead th {\n",
       "        text-align: right;\n",
       "    }\n",
       "</style>\n",
       "<table border=\"1\" class=\"dataframe\">\n",
       "  <thead>\n",
       "    <tr style=\"text-align: right;\">\n",
       "      <th></th>\n",
       "      <th>ActionGeo_CountryCode</th>\n",
       "      <th>sum_articles</th>\n",
       "      <th>count_events</th>\n",
       "      <th>Country name</th>\n",
       "      <th>FIPS_GDELT</th>\n",
       "      <th>alpha-2</th>\n",
       "    </tr>\n",
       "  </thead>\n",
       "  <tbody>\n",
       "    <tr>\n",
       "      <th>18</th>\n",
       "      <td>GZ</td>\n",
       "      <td>269585.0</td>\n",
       "      <td>72702.0</td>\n",
       "      <td>NaN</td>\n",
       "      <td>NaN</td>\n",
       "      <td>NaN</td>\n",
       "    </tr>\n",
       "    <tr>\n",
       "      <th>30</th>\n",
       "      <td>PG</td>\n",
       "      <td>15080.0</td>\n",
       "      <td>4151.0</td>\n",
       "      <td>NaN</td>\n",
       "      <td>NaN</td>\n",
       "      <td>NaN</td>\n",
       "    </tr>\n",
       "    <tr>\n",
       "      <th>75</th>\n",
       "      <td>TE</td>\n",
       "      <td>74.0</td>\n",
       "      <td>15.0</td>\n",
       "      <td>NaN</td>\n",
       "      <td>NaN</td>\n",
       "      <td>NaN</td>\n",
       "    </tr>\n",
       "    <tr>\n",
       "      <th>83</th>\n",
       "      <td>OS</td>\n",
       "      <td>492546.0</td>\n",
       "      <td>103228.0</td>\n",
       "      <td>NaN</td>\n",
       "      <td>NaN</td>\n",
       "      <td>NaN</td>\n",
       "    </tr>\n",
       "    <tr>\n",
       "      <th>96</th>\n",
       "      <td>BQ</td>\n",
       "      <td>17.0</td>\n",
       "      <td>7.0</td>\n",
       "      <td>NaN</td>\n",
       "      <td>NaN</td>\n",
       "      <td>NaN</td>\n",
       "    </tr>\n",
       "    <tr>\n",
       "      <th>100</th>\n",
       "      <td>KV</td>\n",
       "      <td>310445.0</td>\n",
       "      <td>64543.0</td>\n",
       "      <td>NaN</td>\n",
       "      <td>NaN</td>\n",
       "      <td>NaN</td>\n",
       "    </tr>\n",
       "    <tr>\n",
       "      <th>102</th>\n",
       "      <td>MQ</td>\n",
       "      <td>107.0</td>\n",
       "      <td>19.0</td>\n",
       "      <td>NaN</td>\n",
       "      <td>NaN</td>\n",
       "      <td>NaN</td>\n",
       "    </tr>\n",
       "    <tr>\n",
       "      <th>117</th>\n",
       "      <td>UP</td>\n",
       "      <td>4283157.0</td>\n",
       "      <td>947471.0</td>\n",
       "      <td>NaN</td>\n",
       "      <td>NaN</td>\n",
       "      <td>NaN</td>\n",
       "    </tr>\n",
       "    <tr>\n",
       "      <th>137</th>\n",
       "      <td>HQ</td>\n",
       "      <td>1467.0</td>\n",
       "      <td>379.0</td>\n",
       "      <td>NaN</td>\n",
       "      <td>NaN</td>\n",
       "      <td>NaN</td>\n",
       "    </tr>\n",
       "    <tr>\n",
       "      <th>143</th>\n",
       "      <td>WQ</td>\n",
       "      <td>1622.0</td>\n",
       "      <td>426.0</td>\n",
       "      <td>NaN</td>\n",
       "      <td>NaN</td>\n",
       "      <td>NaN</td>\n",
       "    </tr>\n",
       "    <tr>\n",
       "      <th>145</th>\n",
       "      <td>JQ</td>\n",
       "      <td>270.0</td>\n",
       "      <td>57.0</td>\n",
       "      <td>NaN</td>\n",
       "      <td>NaN</td>\n",
       "      <td>NaN</td>\n",
       "    </tr>\n",
       "    <tr>\n",
       "      <th>146</th>\n",
       "      <td>RB</td>\n",
       "      <td>324248.0</td>\n",
       "      <td>76590.0</td>\n",
       "      <td>NaN</td>\n",
       "      <td>NaN</td>\n",
       "      <td>NaN</td>\n",
       "    </tr>\n",
       "    <tr>\n",
       "      <th>161</th>\n",
       "      <td>IP</td>\n",
       "      <td>45.0</td>\n",
       "      <td>9.0</td>\n",
       "      <td>NaN</td>\n",
       "      <td>NaN</td>\n",
       "      <td>NaN</td>\n",
       "    </tr>\n",
       "    <tr>\n",
       "      <th>165</th>\n",
       "      <td>FQ</td>\n",
       "      <td>162.0</td>\n",
       "      <td>30.0</td>\n",
       "      <td>NaN</td>\n",
       "      <td>NaN</td>\n",
       "      <td>NaN</td>\n",
       "    </tr>\n",
       "    <tr>\n",
       "      <th>166</th>\n",
       "      <td>DA</td>\n",
       "      <td>1445138.0</td>\n",
       "      <td>285645.0</td>\n",
       "      <td>NaN</td>\n",
       "      <td>NaN</td>\n",
       "      <td>NaN</td>\n",
       "    </tr>\n",
       "    <tr>\n",
       "      <th>167</th>\n",
       "      <td>KQ</td>\n",
       "      <td>51.0</td>\n",
       "      <td>10.0</td>\n",
       "      <td>NaN</td>\n",
       "      <td>NaN</td>\n",
       "      <td>NaN</td>\n",
       "    </tr>\n",
       "    <tr>\n",
       "      <th>170</th>\n",
       "      <td>VM</td>\n",
       "      <td>4238775.0</td>\n",
       "      <td>964277.0</td>\n",
       "      <td>NaN</td>\n",
       "      <td>NaN</td>\n",
       "      <td>NaN</td>\n",
       "    </tr>\n",
       "    <tr>\n",
       "      <th>173</th>\n",
       "      <td>PF</td>\n",
       "      <td>7175.0</td>\n",
       "      <td>2115.0</td>\n",
       "      <td>NaN</td>\n",
       "      <td>NaN</td>\n",
       "      <td>NaN</td>\n",
       "    </tr>\n",
       "    <tr>\n",
       "      <th>182</th>\n",
       "      <td>LQ</td>\n",
       "      <td>187.0</td>\n",
       "      <td>41.0</td>\n",
       "      <td>NaN</td>\n",
       "      <td>NaN</td>\n",
       "      <td>NaN</td>\n",
       "    </tr>\n",
       "    <tr>\n",
       "      <th>183</th>\n",
       "      <td>CR</td>\n",
       "      <td>38.0</td>\n",
       "      <td>15.0</td>\n",
       "      <td>NaN</td>\n",
       "      <td>NaN</td>\n",
       "      <td>NaN</td>\n",
       "    </tr>\n",
       "    <tr>\n",
       "      <th>193</th>\n",
       "      <td>NT</td>\n",
       "      <td>3042.0</td>\n",
       "      <td>584.0</td>\n",
       "      <td>NaN</td>\n",
       "      <td>NaN</td>\n",
       "      <td>NaN</td>\n",
       "    </tr>\n",
       "    <tr>\n",
       "      <th>212</th>\n",
       "      <td>JN</td>\n",
       "      <td>199.0</td>\n",
       "      <td>42.0</td>\n",
       "      <td>NaN</td>\n",
       "      <td>NaN</td>\n",
       "      <td>NaN</td>\n",
       "    </tr>\n",
       "    <tr>\n",
       "      <th>224</th>\n",
       "      <td>DQ</td>\n",
       "      <td>248.0</td>\n",
       "      <td>43.0</td>\n",
       "      <td>NaN</td>\n",
       "      <td>NaN</td>\n",
       "      <td>NaN</td>\n",
       "    </tr>\n",
       "    <tr>\n",
       "      <th>233</th>\n",
       "      <td>EU</td>\n",
       "      <td>36.0</td>\n",
       "      <td>6.0</td>\n",
       "      <td>NaN</td>\n",
       "      <td>NaN</td>\n",
       "      <td>NaN</td>\n",
       "    </tr>\n",
       "    <tr>\n",
       "      <th>245</th>\n",
       "      <td>OC</td>\n",
       "      <td>77602.0</td>\n",
       "      <td>16457.0</td>\n",
       "      <td>NaN</td>\n",
       "      <td>NaN</td>\n",
       "      <td>NaN</td>\n",
       "    </tr>\n",
       "  </tbody>\n",
       "</table>\n",
       "</div>"
      ],
      "text/plain": [
       "    ActionGeo_CountryCode  sum_articles  count_events Country name FIPS_GDELT  \\\n",
       "18                     GZ      269585.0       72702.0          NaN        NaN   \n",
       "30                     PG       15080.0        4151.0          NaN        NaN   \n",
       "75                     TE          74.0          15.0          NaN        NaN   \n",
       "83                     OS      492546.0      103228.0          NaN        NaN   \n",
       "96                     BQ          17.0           7.0          NaN        NaN   \n",
       "100                    KV      310445.0       64543.0          NaN        NaN   \n",
       "102                    MQ         107.0          19.0          NaN        NaN   \n",
       "117                    UP     4283157.0      947471.0          NaN        NaN   \n",
       "137                    HQ        1467.0         379.0          NaN        NaN   \n",
       "143                    WQ        1622.0         426.0          NaN        NaN   \n",
       "145                    JQ         270.0          57.0          NaN        NaN   \n",
       "146                    RB      324248.0       76590.0          NaN        NaN   \n",
       "161                    IP          45.0           9.0          NaN        NaN   \n",
       "165                    FQ         162.0          30.0          NaN        NaN   \n",
       "166                    DA     1445138.0      285645.0          NaN        NaN   \n",
       "167                    KQ          51.0          10.0          NaN        NaN   \n",
       "170                    VM     4238775.0      964277.0          NaN        NaN   \n",
       "173                    PF        7175.0        2115.0          NaN        NaN   \n",
       "182                    LQ         187.0          41.0          NaN        NaN   \n",
       "183                    CR          38.0          15.0          NaN        NaN   \n",
       "193                    NT        3042.0         584.0          NaN        NaN   \n",
       "212                    JN         199.0          42.0          NaN        NaN   \n",
       "224                    DQ         248.0          43.0          NaN        NaN   \n",
       "233                    EU          36.0           6.0          NaN        NaN   \n",
       "245                    OC       77602.0       16457.0          NaN        NaN   \n",
       "\n",
       "    alpha-2  \n",
       "18      NaN  \n",
       "30      NaN  \n",
       "75      NaN  \n",
       "83      NaN  \n",
       "96      NaN  \n",
       "100     NaN  \n",
       "102     NaN  \n",
       "117     NaN  \n",
       "137     NaN  \n",
       "143     NaN  \n",
       "145     NaN  \n",
       "146     NaN  \n",
       "161     NaN  \n",
       "165     NaN  \n",
       "166     NaN  \n",
       "167     NaN  \n",
       "170     NaN  \n",
       "173     NaN  \n",
       "182     NaN  \n",
       "183     NaN  \n",
       "193     NaN  \n",
       "212     NaN  \n",
       "224     NaN  \n",
       "233     NaN  \n",
       "245     NaN  "
      ]
     },
     "execution_count": 146,
     "metadata": {},
     "output_type": "execute_result"
    }
   ],
   "source": [
    "data_q2_1[data_q2_1['Country name'].isna()].head(100)"
   ]
  },
  {
   "cell_type": "code",
   "execution_count": 145,
   "metadata": {},
   "outputs": [
    {
     "data": {
      "text/html": [
       "<div>\n",
       "<style scoped>\n",
       "    .dataframe tbody tr th:only-of-type {\n",
       "        vertical-align: middle;\n",
       "    }\n",
       "\n",
       "    .dataframe tbody tr th {\n",
       "        vertical-align: top;\n",
       "    }\n",
       "\n",
       "    .dataframe thead th {\n",
       "        text-align: right;\n",
       "    }\n",
       "</style>\n",
       "<table border=\"1\" class=\"dataframe\">\n",
       "  <thead>\n",
       "    <tr style=\"text-align: right;\">\n",
       "      <th></th>\n",
       "      <th>ActionGeo_CountryCode</th>\n",
       "      <th>sum_articles</th>\n",
       "      <th>count_events</th>\n",
       "      <th>Country name</th>\n",
       "      <th>FIPS_GDELT</th>\n",
       "      <th>alpha-2</th>\n",
       "    </tr>\n",
       "  </thead>\n",
       "  <tbody>\n",
       "    <tr>\n",
       "      <th>261</th>\n",
       "      <td>NaN</td>\n",
       "      <td>NaN</td>\n",
       "      <td>NaN</td>\n",
       "      <td>Aland Islands</td>\n",
       "      <td>–</td>\n",
       "      <td>AX</td>\n",
       "    </tr>\n",
       "    <tr>\n",
       "      <th>262</th>\n",
       "      <td>NaN</td>\n",
       "      <td>NaN</td>\n",
       "      <td>NaN</td>\n",
       "      <td>Bonaire, Sint Eustatius and Saba</td>\n",
       "      <td>–</td>\n",
       "      <td>BQ</td>\n",
       "    </tr>\n",
       "    <tr>\n",
       "      <th>263</th>\n",
       "      <td>NaN</td>\n",
       "      <td>NaN</td>\n",
       "      <td>NaN</td>\n",
       "      <td>United States Minor Outlying Islands</td>\n",
       "      <td>–</td>\n",
       "      <td>UM</td>\n",
       "    </tr>\n",
       "    <tr>\n",
       "      <th>264</th>\n",
       "      <td>NaN</td>\n",
       "      <td>NaN</td>\n",
       "      <td>NaN</td>\n",
       "      <td>Cocos (Keeling) Islands</td>\n",
       "      <td>CK</td>\n",
       "      <td>CC</td>\n",
       "    </tr>\n",
       "    <tr>\n",
       "      <th>265</th>\n",
       "      <td>NaN</td>\n",
       "      <td>NaN</td>\n",
       "      <td>NaN</td>\n",
       "      <td>Curacao</td>\n",
       "      <td>UC</td>\n",
       "      <td>CW</td>\n",
       "    </tr>\n",
       "    <tr>\n",
       "      <th>266</th>\n",
       "      <td>NaN</td>\n",
       "      <td>NaN</td>\n",
       "      <td>NaN</td>\n",
       "      <td>Denmark</td>\n",
       "      <td>DK</td>\n",
       "      <td>DK</td>\n",
       "    </tr>\n",
       "    <tr>\n",
       "      <th>267</th>\n",
       "      <td>NaN</td>\n",
       "      <td>NaN</td>\n",
       "      <td>NaN</td>\n",
       "      <td>French Southern Territories</td>\n",
       "      <td>FS</td>\n",
       "      <td>TF</td>\n",
       "    </tr>\n",
       "    <tr>\n",
       "      <th>268</th>\n",
       "      <td>NaN</td>\n",
       "      <td>NaN</td>\n",
       "      <td>NaN</td>\n",
       "      <td>Heard Island and McDonald Islands</td>\n",
       "      <td>HM</td>\n",
       "      <td>HM</td>\n",
       "    </tr>\n",
       "    <tr>\n",
       "      <th>269</th>\n",
       "      <td>NaN</td>\n",
       "      <td>NaN</td>\n",
       "      <td>NaN</td>\n",
       "      <td>Saint Barthelemy</td>\n",
       "      <td>TB</td>\n",
       "      <td>BL</td>\n",
       "    </tr>\n",
       "    <tr>\n",
       "      <th>270</th>\n",
       "      <td>NaN</td>\n",
       "      <td>NaN</td>\n",
       "      <td>NaN</td>\n",
       "      <td>Sint Maarten</td>\n",
       "      <td>NN</td>\n",
       "      <td>SX</td>\n",
       "    </tr>\n",
       "    <tr>\n",
       "      <th>271</th>\n",
       "      <td>NaN</td>\n",
       "      <td>NaN</td>\n",
       "      <td>NaN</td>\n",
       "      <td>South Georgia and the South Sandwich Islands</td>\n",
       "      <td>SX</td>\n",
       "      <td>GS</td>\n",
       "    </tr>\n",
       "    <tr>\n",
       "      <th>272</th>\n",
       "      <td>NaN</td>\n",
       "      <td>NaN</td>\n",
       "      <td>NaN</td>\n",
       "      <td>Ukraine</td>\n",
       "      <td>UA</td>\n",
       "      <td>UA</td>\n",
       "    </tr>\n",
       "    <tr>\n",
       "      <th>273</th>\n",
       "      <td>NaN</td>\n",
       "      <td>NaN</td>\n",
       "      <td>NaN</td>\n",
       "      <td>Viet Nam</td>\n",
       "      <td>VN</td>\n",
       "      <td>VN</td>\n",
       "    </tr>\n",
       "  </tbody>\n",
       "</table>\n",
       "</div>"
      ],
      "text/plain": [
       "    ActionGeo_CountryCode  sum_articles  count_events  \\\n",
       "261                   NaN           NaN           NaN   \n",
       "262                   NaN           NaN           NaN   \n",
       "263                   NaN           NaN           NaN   \n",
       "264                   NaN           NaN           NaN   \n",
       "265                   NaN           NaN           NaN   \n",
       "266                   NaN           NaN           NaN   \n",
       "267                   NaN           NaN           NaN   \n",
       "268                   NaN           NaN           NaN   \n",
       "269                   NaN           NaN           NaN   \n",
       "270                   NaN           NaN           NaN   \n",
       "271                   NaN           NaN           NaN   \n",
       "272                   NaN           NaN           NaN   \n",
       "273                   NaN           NaN           NaN   \n",
       "\n",
       "                                     Country name FIPS_GDELT alpha-2  \n",
       "261                                 Aland Islands          –      AX  \n",
       "262              Bonaire, Sint Eustatius and Saba          –      BQ  \n",
       "263          United States Minor Outlying Islands          –      UM  \n",
       "264                       Cocos (Keeling) Islands         CK      CC  \n",
       "265                                       Curacao         UC      CW  \n",
       "266                                       Denmark         DK      DK  \n",
       "267                   French Southern Territories         FS      TF  \n",
       "268             Heard Island and McDonald Islands         HM      HM  \n",
       "269                              Saint Barthelemy         TB      BL  \n",
       "270                                  Sint Maarten         NN      SX  \n",
       "271  South Georgia and the South Sandwich Islands         SX      GS  \n",
       "272                                       Ukraine         UA      UA  \n",
       "273                                      Viet Nam         VN      VN  "
      ]
     },
     "execution_count": 145,
     "metadata": {},
     "output_type": "execute_result"
    }
   ],
   "source": [
    "data_q2_1[data_q2_1['ActionGeo_CountryCode'].isna()].head(100)"
   ]
  },
  {
   "cell_type": "code",
   "execution_count": 153,
   "metadata": {
    "scrolled": true
   },
   "outputs": [
    {
     "name": "stdout",
     "output_type": "stream",
     "text": [
      "ActionGeo_CountryCode    223\n",
      "sum_articles             223\n",
      "count_events             223\n",
      "Country name             229\n",
      "FIPS_GDELT               229\n",
      "alpha-2                  229\n",
      "code                     229\n",
      "country_source           229\n",
      "region                   228\n",
      "dtype: int64\n"
     ]
    },
    {
     "data": {
      "text/html": [
       "<div>\n",
       "<style scoped>\n",
       "    .dataframe tbody tr th:only-of-type {\n",
       "        vertical-align: middle;\n",
       "    }\n",
       "\n",
       "    .dataframe tbody tr th {\n",
       "        vertical-align: top;\n",
       "    }\n",
       "\n",
       "    .dataframe thead th {\n",
       "        text-align: right;\n",
       "    }\n",
       "</style>\n",
       "<table border=\"1\" class=\"dataframe\">\n",
       "  <thead>\n",
       "    <tr style=\"text-align: right;\">\n",
       "      <th></th>\n",
       "      <th>ActionGeo_CountryCode</th>\n",
       "      <th>sum_articles</th>\n",
       "      <th>count_events</th>\n",
       "      <th>Country name</th>\n",
       "      <th>FIPS_GDELT</th>\n",
       "      <th>alpha-2</th>\n",
       "      <th>code</th>\n",
       "      <th>country_source</th>\n",
       "      <th>region</th>\n",
       "    </tr>\n",
       "  </thead>\n",
       "  <tbody>\n",
       "    <tr>\n",
       "      <th>170</th>\n",
       "      <td>SG</td>\n",
       "      <td>486133.0</td>\n",
       "      <td>96627.0</td>\n",
       "      <td>Senegal</td>\n",
       "      <td>SG</td>\n",
       "      <td>SN</td>\n",
       "      <td>SN</td>\n",
       "      <td>Senegal</td>\n",
       "      <td>Africa</td>\n",
       "    </tr>\n",
       "  </tbody>\n",
       "</table>\n",
       "</div>"
      ],
      "text/plain": [
       "    ActionGeo_CountryCode  sum_articles  count_events Country name FIPS_GDELT  \\\n",
       "170                    SG      486133.0       96627.0      Senegal         SG   \n",
       "\n",
       "    alpha-2 code country_source  region  \n",
       "170      SN   SN        Senegal  Africa  "
      ]
     },
     "execution_count": 153,
     "metadata": {},
     "output_type": "execute_result"
    }
   ],
   "source": [
    "data_q2_2 = data_q2_1.merge(domains_pandas, left_on='alpha-2', right_on='code', how='inner')\n",
    "print(data_q2_2.count())\n",
    "data_q2_2[data_q2_2.code == 'SN'].head()"
   ]
  },
  {
   "cell_type": "code",
   "execution_count": 154,
   "metadata": {
    "scrolled": true
   },
   "outputs": [
    {
     "name": "stdout",
     "output_type": "stream",
     "text": [
      "—               233\n",
      "World           233\n",
      "continent       233\n",
      "pop_2016        233\n",
      "pop_2017        233\n",
      "country_trim    233\n",
      "dtype: int64\n"
     ]
    },
    {
     "data": {
      "text/html": [
       "<div>\n",
       "<style scoped>\n",
       "    .dataframe tbody tr th:only-of-type {\n",
       "        vertical-align: middle;\n",
       "    }\n",
       "\n",
       "    .dataframe tbody tr th {\n",
       "        vertical-align: top;\n",
       "    }\n",
       "\n",
       "    .dataframe thead th {\n",
       "        text-align: right;\n",
       "    }\n",
       "</style>\n",
       "<table border=\"1\" class=\"dataframe\">\n",
       "  <thead>\n",
       "    <tr style=\"text-align: right;\">\n",
       "      <th></th>\n",
       "      <th>—</th>\n",
       "      <th>World</th>\n",
       "      <th>continent</th>\n",
       "      <th>pop_2016</th>\n",
       "      <th>pop_2017</th>\n",
       "      <th>country_trim</th>\n",
       "    </tr>\n",
       "  </thead>\n",
       "  <tbody>\n",
       "    <tr>\n",
       "      <th>0</th>\n",
       "      <td>1</td>\n",
       "      <td>China</td>\n",
       "      <td>Asia</td>\n",
       "      <td>1,403,500,365</td>\n",
       "      <td>1,409,517,397</td>\n",
       "      <td>China</td>\n",
       "    </tr>\n",
       "    <tr>\n",
       "      <th>1</th>\n",
       "      <td>2</td>\n",
       "      <td>India</td>\n",
       "      <td>Asia</td>\n",
       "      <td>1,324,171,354</td>\n",
       "      <td>1,339,180,127</td>\n",
       "      <td>India</td>\n",
       "    </tr>\n",
       "    <tr>\n",
       "      <th>2</th>\n",
       "      <td>3</td>\n",
       "      <td>United States</td>\n",
       "      <td>Americas</td>\n",
       "      <td>322,179,605</td>\n",
       "      <td>324,459,463</td>\n",
       "      <td>United States</td>\n",
       "    </tr>\n",
       "    <tr>\n",
       "      <th>3</th>\n",
       "      <td>4</td>\n",
       "      <td>Indonesia</td>\n",
       "      <td>Asia</td>\n",
       "      <td>261,115,456</td>\n",
       "      <td>263,991,379</td>\n",
       "      <td>Indonesia</td>\n",
       "    </tr>\n",
       "    <tr>\n",
       "      <th>4</th>\n",
       "      <td>5</td>\n",
       "      <td>Brazil</td>\n",
       "      <td>Americas</td>\n",
       "      <td>207,652,865</td>\n",
       "      <td>209,288,278</td>\n",
       "      <td>Brazil</td>\n",
       "    </tr>\n",
       "  </tbody>\n",
       "</table>\n",
       "</div>"
      ],
      "text/plain": [
       "   —          World continent       pop_2016       pop_2017   country_trim\n",
       "0  1          China      Asia  1,403,500,365  1,409,517,397          China\n",
       "1  2          India      Asia  1,324,171,354  1,339,180,127          India\n",
       "2  3  United States  Americas    322,179,605    324,459,463  United States\n",
       "3  4      Indonesia      Asia    261,115,456    263,991,379      Indonesia\n",
       "4  5         Brazil  Americas    207,652,865    209,288,278         Brazil"
      ]
     },
     "execution_count": 154,
     "metadata": {},
     "output_type": "execute_result"
    }
   ],
   "source": [
    "population = pd.read_csv(DATA_LOCAL + \"population_country.csv\")\n",
    "print(population.count())\n",
    "population.head()"
   ]
  },
  {
   "cell_type": "code",
   "execution_count": 156,
   "metadata": {
    "scrolled": true
   },
   "outputs": [
    {
     "name": "stdout",
     "output_type": "stream",
     "text": [
      "ActionGeo_CountryCode    214\n",
      "sum_articles             214\n",
      "count_events             214\n",
      "Country name             216\n",
      "FIPS_GDELT               216\n",
      "alpha-2                  216\n",
      "code                     216\n",
      "country_source           216\n",
      "region                   216\n",
      "—                        216\n",
      "World                    216\n",
      "continent                216\n",
      "pop_2016                 216\n",
      "pop_2017                 216\n",
      "country_trim             216\n",
      "dtype: int64\n"
     ]
    },
    {
     "data": {
      "text/html": [
       "<div>\n",
       "<style scoped>\n",
       "    .dataframe tbody tr th:only-of-type {\n",
       "        vertical-align: middle;\n",
       "    }\n",
       "\n",
       "    .dataframe tbody tr th {\n",
       "        vertical-align: top;\n",
       "    }\n",
       "\n",
       "    .dataframe thead th {\n",
       "        text-align: right;\n",
       "    }\n",
       "</style>\n",
       "<table border=\"1\" class=\"dataframe\">\n",
       "  <thead>\n",
       "    <tr style=\"text-align: right;\">\n",
       "      <th></th>\n",
       "      <th>ActionGeo_CountryCode</th>\n",
       "      <th>sum_articles</th>\n",
       "      <th>count_events</th>\n",
       "      <th>Country name</th>\n",
       "      <th>FIPS_GDELT</th>\n",
       "      <th>alpha-2</th>\n",
       "      <th>code</th>\n",
       "      <th>country_source</th>\n",
       "      <th>region</th>\n",
       "      <th>—</th>\n",
       "      <th>World</th>\n",
       "      <th>continent</th>\n",
       "      <th>pop_2016</th>\n",
       "      <th>pop_2017</th>\n",
       "      <th>country_trim</th>\n",
       "    </tr>\n",
       "  </thead>\n",
       "  <tbody>\n",
       "    <tr>\n",
       "      <th>0</th>\n",
       "      <td>IR</td>\n",
       "      <td>11894575.0</td>\n",
       "      <td>2710326.0</td>\n",
       "      <td>Iran, Islamic Republic of</td>\n",
       "      <td>IR</td>\n",
       "      <td>IR</td>\n",
       "      <td>IR</td>\n",
       "      <td>Iran (Islamic Republic of)</td>\n",
       "      <td>Asia</td>\n",
       "      <td>18</td>\n",
       "      <td>Iran, Islamic Republic of</td>\n",
       "      <td>Asia</td>\n",
       "      <td>80,277,428</td>\n",
       "      <td>81,162,788</td>\n",
       "      <td>Iran, Islamic Republic of</td>\n",
       "    </tr>\n",
       "    <tr>\n",
       "      <th>1</th>\n",
       "      <td>MO</td>\n",
       "      <td>1177686.0</td>\n",
       "      <td>240928.0</td>\n",
       "      <td>Morocco</td>\n",
       "      <td>MO</td>\n",
       "      <td>MA</td>\n",
       "      <td>MA</td>\n",
       "      <td>Morocco</td>\n",
       "      <td>Africa</td>\n",
       "      <td>39</td>\n",
       "      <td>Morocco</td>\n",
       "      <td>Africa</td>\n",
       "      <td>35,276,786</td>\n",
       "      <td>35,739,580</td>\n",
       "      <td>Morocco</td>\n",
       "    </tr>\n",
       "    <tr>\n",
       "      <th>2</th>\n",
       "      <td>BH</td>\n",
       "      <td>681964.0</td>\n",
       "      <td>127535.0</td>\n",
       "      <td>Belize</td>\n",
       "      <td>BH</td>\n",
       "      <td>BZ</td>\n",
       "      <td>BZ</td>\n",
       "      <td>Belize</td>\n",
       "      <td>Americas</td>\n",
       "      <td>179</td>\n",
       "      <td>Belize</td>\n",
       "      <td>Americas</td>\n",
       "      <td>366,954</td>\n",
       "      <td>374,681</td>\n",
       "      <td>Belize</td>\n",
       "    </tr>\n",
       "    <tr>\n",
       "      <th>3</th>\n",
       "      <td>ES</td>\n",
       "      <td>451584.0</td>\n",
       "      <td>94845.0</td>\n",
       "      <td>El Salvador</td>\n",
       "      <td>ES</td>\n",
       "      <td>SV</td>\n",
       "      <td>SV</td>\n",
       "      <td>El Salvador</td>\n",
       "      <td>Americas</td>\n",
       "      <td>108</td>\n",
       "      <td>El Salvador</td>\n",
       "      <td>Americas</td>\n",
       "      <td>6,344,722</td>\n",
       "      <td>6,377,853</td>\n",
       "      <td>El Salvador</td>\n",
       "    </tr>\n",
       "    <tr>\n",
       "      <th>4</th>\n",
       "      <td>EC</td>\n",
       "      <td>611711.0</td>\n",
       "      <td>123985.0</td>\n",
       "      <td>Ecuador</td>\n",
       "      <td>EC</td>\n",
       "      <td>EC</td>\n",
       "      <td>EC</td>\n",
       "      <td>Ecuador</td>\n",
       "      <td>Americas</td>\n",
       "      <td>69</td>\n",
       "      <td>Ecuador</td>\n",
       "      <td>Americas</td>\n",
       "      <td>16,385,068</td>\n",
       "      <td>16,624,858</td>\n",
       "      <td>Ecuador</td>\n",
       "    </tr>\n",
       "  </tbody>\n",
       "</table>\n",
       "</div>"
      ],
      "text/plain": [
       "  ActionGeo_CountryCode  sum_articles  count_events  \\\n",
       "0                    IR    11894575.0     2710326.0   \n",
       "1                    MO     1177686.0      240928.0   \n",
       "2                    BH      681964.0      127535.0   \n",
       "3                    ES      451584.0       94845.0   \n",
       "4                    EC      611711.0      123985.0   \n",
       "\n",
       "                Country name FIPS_GDELT alpha-2 code  \\\n",
       "0  Iran, Islamic Republic of         IR      IR   IR   \n",
       "1                    Morocco         MO      MA   MA   \n",
       "2                     Belize         BH      BZ   BZ   \n",
       "3                El Salvador         ES      SV   SV   \n",
       "4                    Ecuador         EC      EC   EC   \n",
       "\n",
       "               country_source    region    —                      World  \\\n",
       "0  Iran (Islamic Republic of)      Asia   18  Iran, Islamic Republic of   \n",
       "1                     Morocco    Africa   39                    Morocco   \n",
       "2                      Belize  Americas  179                     Belize   \n",
       "3                 El Salvador  Americas  108                El Salvador   \n",
       "4                     Ecuador  Americas   69                    Ecuador   \n",
       "\n",
       "  continent    pop_2016    pop_2017               country_trim  \n",
       "0      Asia  80,277,428  81,162,788  Iran, Islamic Republic of  \n",
       "1    Africa  35,276,786  35,739,580                    Morocco  \n",
       "2  Americas     366,954     374,681                     Belize  \n",
       "3  Americas   6,344,722   6,377,853                El Salvador  \n",
       "4  Americas  16,385,068  16,624,858                    Ecuador  "
      ]
     },
     "execution_count": 156,
     "metadata": {},
     "output_type": "execute_result"
    }
   ],
   "source": [
    "data_q2_3 = data_q2_2.merge(population, left_on='Country name', right_on='World', how='inner')\n",
    "print(data_q2_3.count())\n",
    "data_q2_3.head()"
   ]
  },
  {
   "cell_type": "code",
   "execution_count": 177,
   "metadata": {},
   "outputs": [
    {
     "data": {
      "text/html": [
       "<div>\n",
       "<style scoped>\n",
       "    .dataframe tbody tr th:only-of-type {\n",
       "        vertical-align: middle;\n",
       "    }\n",
       "\n",
       "    .dataframe tbody tr th {\n",
       "        vertical-align: top;\n",
       "    }\n",
       "\n",
       "    .dataframe thead th {\n",
       "        text-align: right;\n",
       "    }\n",
       "</style>\n",
       "<table border=\"1\" class=\"dataframe\">\n",
       "  <thead>\n",
       "    <tr style=\"text-align: right;\">\n",
       "      <th></th>\n",
       "      <th>ActionGeo_CountryCode</th>\n",
       "      <th>sum_articles</th>\n",
       "      <th>count_events</th>\n",
       "      <th>Country name</th>\n",
       "      <th>FIPS_GDELT</th>\n",
       "      <th>alpha-2</th>\n",
       "      <th>code</th>\n",
       "      <th>country_source</th>\n",
       "      <th>region</th>\n",
       "      <th>—</th>\n",
       "      <th>World</th>\n",
       "      <th>continent</th>\n",
       "      <th>pop_2016</th>\n",
       "      <th>pop_2017</th>\n",
       "      <th>country_trim</th>\n",
       "    </tr>\n",
       "  </thead>\n",
       "  <tbody>\n",
       "    <tr>\n",
       "      <th>37</th>\n",
       "      <td>US</td>\n",
       "      <td>288930710.0</td>\n",
       "      <td>61962743.0</td>\n",
       "      <td>United States</td>\n",
       "      <td>US</td>\n",
       "      <td>US</td>\n",
       "      <td>US</td>\n",
       "      <td>United States of America</td>\n",
       "      <td>Americas</td>\n",
       "      <td>3</td>\n",
       "      <td>United States</td>\n",
       "      <td>Americas</td>\n",
       "      <td>322,179,605</td>\n",
       "      <td>324,459,463</td>\n",
       "      <td>United States</td>\n",
       "    </tr>\n",
       "  </tbody>\n",
       "</table>\n",
       "</div>"
      ],
      "text/plain": [
       "   ActionGeo_CountryCode  sum_articles  count_events   Country name  \\\n",
       "37                    US   288930710.0    61962743.0  United States   \n",
       "\n",
       "   FIPS_GDELT alpha-2 code            country_source    region  —  \\\n",
       "37         US      US   US  United States of America  Americas  3   \n",
       "\n",
       "            World continent     pop_2016     pop_2017   country_trim  \n",
       "37  United States  Americas  322,179,605  324,459,463  United States  "
      ]
     },
     "execution_count": 177,
     "metadata": {},
     "output_type": "execute_result"
    }
   ],
   "source": [
    "data_q2_3[data_q2_3.code == 'US']"
   ]
  },
  {
   "cell_type": "code",
   "execution_count": 161,
   "metadata": {},
   "outputs": [],
   "source": [
    "data_q2_final = data_q2_3[['sum_articles', 'count_events', 'country_source', 'pop_2017', 'region']]"
   ]
  },
  {
   "cell_type": "markdown",
   "metadata": {},
   "source": [
    "Q4. **Do we have a saturation limit?** / Q5. **Who is more emotional?** <a id='Part3_Q4'></a>"
   ]
  },
  {
   "cell_type": "code",
   "execution_count": 22,
   "metadata": {},
   "outputs": [
    {
     "data": {
      "image/png": "[encoded data removed]",
      "text/plain": [
       "<Figure size 1440x720 with 1 Axes>"
      ]
     },
     "metadata": {
      "needs_background": "light"
     },
     "output_type": "display_data"
    }
   ],
   "source": [
    "# plot the top 10 most common emotions in 500 events (for each event)\n",
    "Top_Emotions_GCAM = dict_top_feelings(df_ID_Emotions,Emotions_dictionary,1,500)\n",
    "plot_commom_emotion(tuple_list = None, dictionary = Top_Emotions_GCAM, dictionary_flag=True)"
   ]
  },
  {
   "cell_type": "markdown",
   "metadata": {},
   "source": [
    "> With this analysis we wanted to see if there are recurrent emotions in the news or speeches. Clearly there are. There might be some reasons to that, such as the dictionaries being so large that there are always a lot of words that belong to them or that in fact the words in those dictionaries are common. We will take this knowledge into account when attributing the emotions to countries or people (also because there are words that can belong to different dictionaries that have different meanings). For these feelings (when not obvious, such as \"POSITIVE\"), we went into extra efforts to understand what they mean."
   ]
  },
  {
   "cell_type": "markdown",
   "metadata": {},
   "source": [
    "# Part 4 <a id='Part4'></a>"
   ]
  },
  {
   "cell_type": "markdown",
   "metadata": {},
   "source": [
    "#### Question 2 Analysis <a id='Part3_Q2'></a>"
   ]
  },
  {
   "cell_type": "code",
   "execution_count": 171,
   "metadata": {
    "scrolled": true
   },
   "outputs": [
    {
     "data": {
      "text/html": [
       "<div>\n",
       "<style scoped>\n",
       "    .dataframe tbody tr th:only-of-type {\n",
       "        vertical-align: middle;\n",
       "    }\n",
       "\n",
       "    .dataframe tbody tr th {\n",
       "        vertical-align: top;\n",
       "    }\n",
       "\n",
       "    .dataframe thead th {\n",
       "        text-align: right;\n",
       "    }\n",
       "</style>\n",
       "<table border=\"1\" class=\"dataframe\">\n",
       "  <thead>\n",
       "    <tr style=\"text-align: right;\">\n",
       "      <th></th>\n",
       "      <th>sum_articles</th>\n",
       "      <th>count_events</th>\n",
       "      <th>country</th>\n",
       "      <th>pop</th>\n",
       "      <th>continent</th>\n",
       "    </tr>\n",
       "  </thead>\n",
       "  <tbody>\n",
       "    <tr>\n",
       "      <th>0</th>\n",
       "      <td>11894575.0</td>\n",
       "      <td>2710326.0</td>\n",
       "      <td>Iran (Islamic Republic of)</td>\n",
       "      <td>81,162,788</td>\n",
       "      <td>Asia</td>\n",
       "    </tr>\n",
       "    <tr>\n",
       "      <th>1</th>\n",
       "      <td>1177686.0</td>\n",
       "      <td>240928.0</td>\n",
       "      <td>Morocco</td>\n",
       "      <td>35,739,580</td>\n",
       "      <td>Africa</td>\n",
       "    </tr>\n",
       "    <tr>\n",
       "      <th>2</th>\n",
       "      <td>681964.0</td>\n",
       "      <td>127535.0</td>\n",
       "      <td>Belize</td>\n",
       "      <td>374,681</td>\n",
       "      <td>Americas</td>\n",
       "    </tr>\n",
       "    <tr>\n",
       "      <th>3</th>\n",
       "      <td>451584.0</td>\n",
       "      <td>94845.0</td>\n",
       "      <td>El Salvador</td>\n",
       "      <td>6,377,853</td>\n",
       "      <td>Americas</td>\n",
       "    </tr>\n",
       "    <tr>\n",
       "      <th>4</th>\n",
       "      <td>611711.0</td>\n",
       "      <td>123985.0</td>\n",
       "      <td>Ecuador</td>\n",
       "      <td>16,624,858</td>\n",
       "      <td>Americas</td>\n",
       "    </tr>\n",
       "  </tbody>\n",
       "</table>\n",
       "</div>"
      ],
      "text/plain": [
       "   sum_articles  count_events                     country         pop  \\\n",
       "0    11894575.0     2710326.0  Iran (Islamic Republic of)  81,162,788   \n",
       "1     1177686.0      240928.0                     Morocco  35,739,580   \n",
       "2      681964.0      127535.0                      Belize     374,681   \n",
       "3      451584.0       94845.0                 El Salvador   6,377,853   \n",
       "4      611711.0      123985.0                     Ecuador  16,624,858   \n",
       "\n",
       "  continent  \n",
       "0      Asia  \n",
       "1    Africa  \n",
       "2  Americas  \n",
       "3  Americas  \n",
       "4  Americas  "
      ]
     },
     "execution_count": 171,
     "metadata": {},
     "output_type": "execute_result"
    }
   ],
   "source": [
    "data_q2_final = data_q2_final.rename(columns = {'region':'continent', 'country_source' : 'country', 'pop_2017': 'pop'})\n",
    "data_q2_final.head()"
   ]
  },
  {
   "cell_type": "code",
   "execution_count": 176,
   "metadata": {},
   "outputs": [],
   "source": [
    "data_q2_final.to_csv('data_q2_final.csv')"
   ]
  },
  {
   "cell_type": "code",
   "execution_count": null,
   "metadata": {},
   "outputs": [],
   "source": [
    "#df_2007 = data[data['year']==2007]\n",
    "data_q2_final = data_q2_final.sort_values(['continent', 'country'])\n",
    "slope = 2.666051223553066e-05\n",
    "hover_text = []\n",
    "bubble_size = []\n",
    "\n",
    "for index, row in data_q2_final.iterrows():\n",
    "    hover_text.append(('Country: {country}<br>'+\n",
    "                      'Number of events: {numev}<br>'+\n",
    "                      'Number of articles: {numart}<br>'+\n",
    "                      'Population: {pop}<br>').format(country=row['country'],\n",
    "                                            numev=row['count_events'],\n",
    "                                            numart=row['sum_articles'],\n",
    "                                            pop=row['pop']))\n",
    "    bubble_size.append(math.sqrt(row['pop']*slope))\n",
    "\n",
    "data_q2_final['text'] = hover_text\n",
    "data_q2_final['size'] = bubble_size\n",
    "sizeref = 2.*max(df_2007['size'])/(100**2)\n",
    "\n",
    "trace0 = go.Scatter(\n",
    "    x=data_q2_final['count_events'][data_q2_final['continent'] == 'Africa'],\n",
    "    y=data_q2_final['sum_articles'][data_q2_final['continent'] == 'Africa'],\n",
    "    mode='markers',\n",
    "    name='Africa',\n",
    "    text=data_q2_final['text'][data_q2_final['continent'] == 'Africa'],\n",
    "    marker=dict(\n",
    "        symbol='circle',\n",
    "        sizemode='area',\n",
    "        sizeref=sizeref,\n",
    "        size=data_q2_final['size'][data_q2_final['continent'] == 'Africa'],\n",
    "        line=dict(\n",
    "            width=2\n",
    "        ),\n",
    "    )\n",
    ")\n",
    "trace1 = go.Scatter(\n",
    "    x=data_q2_final['count_events'][data_q2_final['continent'] == 'Americas'],\n",
    "    y=data_q2_final['sum_articles'][data_q2_final['continent'] == 'Americas'],\n",
    "    mode='markers',\n",
    "    name='Americas',\n",
    "    text=data_q2_final['text'][data_q2_final['continent'] == 'Americas'],\n",
    "    marker=dict(\n",
    "        sizemode='area',\n",
    "        sizeref=sizeref,\n",
    "        size=data_q2_final['size'][data_q2_final['continent'] == 'Americas'],\n",
    "        line=dict(\n",
    "            width=2\n",
    "        ),\n",
    "    )\n",
    ")\n",
    "trace2 = go.Scatter(\n",
    "    x=data_q2_final['count_events'][data_q2_final['continent'] == 'Asia'],\n",
    "    y=data_q2_final['sum_articles'][data_q2_final['continent'] == 'Asia'],\n",
    "    mode='markers',\n",
    "    name='Asia',\n",
    "    text=data_q2_final['text'][data_q2_final['continent'] == 'Asia'],\n",
    "    marker=dict(\n",
    "        sizemode='area',\n",
    "        sizeref=sizeref,\n",
    "        size=data_q2_final['size'][data_q2_final['continent'] == 'Asia'],\n",
    "        line=dict(\n",
    "            width=2\n",
    "        ),\n",
    "    )\n",
    ")\n",
    "trace3 = go.Scatter(\n",
    "    x=data_q2_final['count_events'][data_q2_final['continent'] == 'Europe'],\n",
    "    y=data_q2_final['sum_articles'][data_q2_final['continent'] == 'Europe'],\n",
    "    mode='markers',\n",
    "    name='Europe',\n",
    "    text=data_q2_final['text'][data_q2_final['continent'] == 'Europe'],\n",
    "    marker=dict(\n",
    "        sizemode='area',\n",
    "        sizeref=sizeref,\n",
    "        size=data_q2_final['size'][data_q2_final['continent'] == 'Europe'],\n",
    "        line=dict(\n",
    "            width=2\n",
    "        ),\n",
    "    )\n",
    ")\n",
    "trace4 = go.Scatter(\n",
    "    x=data_q2_final['count_events'][data_q2_final['continent'] == 'Oceania'],\n",
    "    y=df_2007['sum_articles'][df_2007['continent'] == 'Oceania'],\n",
    "    mode='markers',\n",
    "    name='Oceania',\n",
    "    text=data_q2_final['text'][data_q2_final['continent'] == 'Oceania'],\n",
    "    marker=dict(\n",
    "        sizemode='area',\n",
    "        sizeref=sizeref,\n",
    "        size=data_q2_final['size'][data_q2_final['continent'] == 'Oceania'],\n",
    "        line=dict(\n",
    "            width=2\n",
    "        ),\n",
    "    )\n",
    ")\n",
    "\n",
    "data = [trace0, trace1, trace2, trace3, trace4]\n",
    "layout = go.Layout(\n",
    "    title='Number of Articles vs Number of Events',\n",
    "    xaxis=dict(\n",
    "        title='Number of Events',\n",
    "        gridcolor='rgb(255, 255, 255)',\n",
    "        range=[0, 1e07],\n",
    "        zerolinewidth=1,\n",
    "        ticklen=5,\n",
    "        gridwidth=2,\n",
    "    ),\n",
    "    yaxis=dict(\n",
    "        title='Number of Articles',\n",
    "        gridcolor='rgb(255, 255, 255)',\n",
    "        range=[0, 3e08],\n",
    "        zerolinewidth=1,\n",
    "        ticklen=5,\n",
    "        gridwidth=2,\n",
    "    ),\n",
    "    paper_bgcolor='rgb(243, 243, 243)',\n",
    "    plot_bgcolor='rgb(243, 243, 243)',\n",
    ")\n",
    "\n",
    "fig = go.Figure(data=data, layout=layout)\n",
    "py.iplot(fig, filename='NumArt-NumEvents')"
   ]
  },
  {
   "cell_type": "code",
   "execution_count": null,
   "metadata": {},
   "outputs": [],
   "source": []
  },
  {
   "cell_type": "code",
   "execution_count": null,
   "metadata": {},
   "outputs": [],
   "source": []
  },
  {
   "cell_type": "code",
   "execution_count": null,
   "metadata": {},
   "outputs": [],
   "source": []
  },
  {
   "cell_type": "code",
   "execution_count": null,
   "metadata": {},
   "outputs": [],
   "source": []
  },
  {
   "cell_type": "code",
   "execution_count": null,
   "metadata": {},
   "outputs": [],
   "source": []
  },
  {
   "cell_type": "code",
   "execution_count": null,
   "metadata": {},
   "outputs": [],
   "source": []
  },
  {
   "cell_type": "code",
   "execution_count": null,
   "metadata": {},
   "outputs": [],
   "source": []
  },
  {
   "cell_type": "code",
   "execution_count": null,
   "metadata": {},
   "outputs": [],
   "source": []
  },
  {
   "cell_type": "code",
   "execution_count": null,
   "metadata": {},
   "outputs": [],
   "source": []
  },
  {
   "cell_type": "code",
   "execution_count": null,
   "metadata": {},
   "outputs": [],
   "source": [
    "### ONLY TESTINGS"
   ]
  },
  {
   "cell_type": "code",
   "execution_count": 47,
   "metadata": {},
   "outputs": [
    {
     "name": "stdout",
     "output_type": "stream",
     "text": [
      "+--------------+\n",
      "|      WordList|\n",
      "+--------------+\n",
      "|[Hello, world]|\n",
      "| [I, am, fine]|\n",
      "+--------------+\n",
      "\n"
     ]
    }
   ],
   "source": [
    "cSchema = StructType([StructField(\"WordList\", ArrayType(StringType()))])\n",
    "\n",
    "# notice extra square brackets around each element of list\n",
    "test_list = [['Hello', 'world']], [['I', 'am', 'fine']]\n",
    "\n",
    "df = spark.createDataFrame(test_list,schema=cSchema)\n",
    "df.show()"
   ]
  },
  {
   "cell_type": "code",
   "execution_count": 89,
   "metadata": {},
   "outputs": [
    {
     "name": "stdout",
     "output_type": "stream",
     "text": [
      "+---------------------+-------+\n",
      "|ActionGeo_CountryCode|  count|\n",
      "+---------------------+-------+\n",
      "|                   IR|2710326|\n",
      "|                   EC| 123985|\n",
      "|                   MO| 240928|\n",
      "|                   ES|  94845|\n",
      "|                   NR|  34618|\n",
      "|                   BH| 127535|\n",
      "|                   PS|   9198|\n",
      "|                   PL| 525815|\n",
      "|                   AM| 483442|\n",
      "|                   UV|  68772|\n",
      "|                   RE|  16443|\n",
      "|                   LO|  66908|\n",
      "|                   CW|  18993|\n",
      "|                   MH|   4506|\n",
      "|                   FM|  10508|\n",
      "|                   PM| 215192|\n",
      "|                   FI| 184384|\n",
      "|                   IC|  97141|\n",
      "|                   SC|   8031|\n",
      "|                   HK| 285191|\n",
      "+---------------------+-------+\n",
      "only showing top 20 rows\n",
      "\n"
     ]
    }
   ],
   "source": [
    "df_country_event = spark.read.parquet(DATA_LOCAL + 'CountryEvent_number')\n",
    "df_country_event.show()"
   ]
  },
  {
   "cell_type": "code",
   "execution_count": 90,
   "metadata": {},
   "outputs": [
    {
     "data": {
      "text/plain": [
       "[1, 2, 3]"
      ]
     },
     "execution_count": 90,
     "metadata": {},
     "output_type": "execute_result"
    }
   ],
   "source": [
    "w = [1,2,3]\n",
    "w"
   ]
  },
  {
   "cell_type": "code",
   "execution_count": 92,
   "metadata": {},
   "outputs": [
    {
     "name": "stdout",
     "output_type": "stream",
     "text": [
      "None\n"
     ]
    }
   ],
   "source": [
    "w = np.array([2,3,4,5])\n",
    "print(np.random.shuffle(w))"
   ]
  },
  {
   "cell_type": "code",
   "execution_count": null,
   "metadata": {},
   "outputs": [],
   "source": []
  }
 ],
 "metadata": {
  "kernelspec": {
   "display_name": "Python 3",
   "language": "python",
   "name": "python3"
  },
  "language_info": {
   "codemirror_mode": {
    "name": "ipython",
    "version": 3
   },
   "file_extension": ".py",
   "mimetype": "text/x-python",
   "name": "python",
   "nbconvert_exporter": "python",
   "pygments_lexer": "ipython3",
   "version": "3.6.7"
  }
 },
 "nbformat": 4,
 "nbformat_minor": 2
}
