{
 "cells": [
  {
   "cell_type": "markdown",
   "metadata": {},
   "source": [
    "# Emotions in Conflicts: Data Collection, Analysis & Visualization\n",
    "\n",
    "\n",
    "In this notebook we present our pipeline to answer the research questions that we raised in Milestone 1. We start by a part 0, where we present and discuss some general points, mostly technical, that we encountered and considered throughout the project. Then, in the first part, we show our step-step strategy on how we proceed to answer the individual questions. In the second part, the code we used to fetch the data and to do the analysis is provided. In the third part we present our visualizations of the data analysis.\n",
    "\n",
    "In this notebook, the code in Part 2 is executed on a sample of nine datafiles fetched from the cluster (3 for each of the 3 schemas (gkg, mentions, export)) and intermediate outputs are shown to guide the reader through the data processing part. The code used to fetch and process the whole GDELT dataset in the cluster is found in the `src` folder and the individual files are hyperlinked in this notebook. \n",
    "\n",
    "The analysis and the visualization part are done on the data gathered from the whole GDELT dataset, and the detailed interpretations are presented in our [data story](https://matterhorn-ada.github.io)."
   ]
  },
  {
   "cell_type": "markdown",
   "metadata": {},
   "source": [
    "- [Part 0](#Part0): General points\n",
    "\n",
    "\n",
    "- [Part 1](#Part1): Strategy to answer the research questions\n",
    "    - [Question 0](#Part1_Q0): Exploratory analysis: Where does the news come from?\n",
    "    - [Question 1](#Part1_Q1): Are we emotionally biased? \n",
    "    - [Question 2](#Part1_Q2): Are some countries ignored in the news?\n",
    "    - [Question 3](#Part1_Q3): Are we emotionally predictable?\n",
    "    - [Question 4](#Part1_Q4): Do we have a saturation limit?\n",
    "    - [Question 5](#Part1_Q5): Who is more emotional?\n",
    "    \n",
    "    \n",
    "- [Part 2](#Part2): Code\n",
    "    - [Question 0](#Part2_Q0): Exploratory Data Fetching \n",
    "    - [Question 1](#Part2_Q1): Fetching & preprocessing of the data   \n",
    "    - [Question 2](#Part2_Q2): Aggregating \n",
    "    - [Question 3](#Part2_Q3a): Fetching & preprocessing of the data (Cluster Code)\n",
    "    - [Question 3](#Part2_Q3b): Decision tree building (learning & validating) \n",
    "    - [Question 4 & 5](#Part2_Q4a): GCAM Emotions data\n",
    "    - [Question 4 & 5](#Part2_Q4b): Emotions dictionary\n",
    "    \n",
    "    \n",
    "- [Part 3](#Part3): Visualization\n",
    "    - [Question 0](#Part3_Q0): Choropleth maps\n",
    "    - [Question 1](#Part3_Q1): Dependency evaluation\n",
    "    - [Question 2](#Part3_Q2): Dependency evaluation\n",
    "    - [Question 4 & 5](#Part3_Q4): Most common emotions\n",
    "    "
   ]
  },
  {
   "cell_type": "markdown",
   "metadata": {},
   "source": [
    "## Part 0 <a id='Part0'></a>\n",
    "\n",
    "- All the filtering and aggregation steps of processing the data were executed in the cluster and the resulting dataset were exported as either `parquet` or `json` files. The later processing was done with `Pyspark` and `Pandas` dataframes. \n",
    "\n",
    "\n",
    "- When working with country names and country codes from different data sources (e.g. GDELT country codes, GeoJSON country codes, United Nations country names, ...) several heterogeneities in the names and codes were encountered. GDELT is using the [FIPS country codes](https://en.wikipedia.org/wiki/List_of_FIPS_country_codes) which is mainly used by the US government, whereas the [alpha-2](https://en.wikipedia.org/wiki/ISO_3166-1_alpha-22) letter code introduced International Organization for Standardization is more widely used (example: FIPS code for Switzerland is SZ, and the alpha-2 code is CH). For the processing, we converted the GDELT code to the standard by creating a [dictionary](../data/CountryCodes/CountryCode_FIPS_alpha.csv), with the data taken from [geodatasource.com](https://www.geodatasource.com/resources/tutorials/international-country-code-fips-versus-iso-3166/), however some manuel work had to be done for the country names (some external dataset used did not provide the country code and thus had to be joined on the country name, e.g. the [Human development index](http://hdr.undp.org/en/content/human-development-index-hdi)).\n"
   ]
  },
  {
   "cell_type": "markdown",
   "metadata": {},
   "source": [
    "## Part 1 <a id='Part1'></a>\n",
    "\n",
    "### Pursued strategy to answer the research questions:"
   ]
  },
  {
   "cell_type": "markdown",
   "metadata": {},
   "source": [
    "### Question 0 <a id='Part1_Q0'></a>\n",
    "\n",
    "**Exploratory analysis: Where does the news come from?**\n",
    "\n",
    "#### Fetching & Processing the data \n",
    "\n",
    " From the GDELT dataset we fetch the following information from the \"Mentions\" and \"Events\" sets:\n",
    "\n",
    "- Url of the article mentioning the source \n",
    "- Location of the event\n",
    "- Location of the country reporting the news: \n",
    "    - Get the country reporting the news from the url of the article using the [GDELT Geographic Source Lookup](https://blog.gdeltproject.org/mapping-the-media-a-geographic-lookup-of-gdelts-sources/)\n",
    "\n",
    "#### Analysis\n",
    "\n",
    "- Where do the events happen?\n",
    "    - Group by the countries and count the number of events happening in this country.\n",
    "\n",
    "- Who reports the news?\n",
    "    - Group by the countries reporting the news and count the number of events reported by each country."
   ]
  },
  {
   "cell_type": "markdown",
   "metadata": {},
   "source": [
    "### Question 1 <a id='Part1_Q1'></a>\n",
    "\n",
    "**Are we emotionally biased?** Do the number of conflicts or their distance from our home define our emotions? \n",
    "\n",
    "#### Fetching & Processing the data \n",
    "\n",
    " From the GDELT dataset we fetch the following information from the \"Mentions\" and \"Events\" sets:\n",
    "\n",
    "- Url of the article mentioning the source \n",
    "- Average Tone \n",
    "- Location of the event (latitudinal and longitudinal coordinates)\n",
    "- Number of times the event is mentioned in the news (NumArticles) \n",
    "- Calculation of the distance between the source article and the event: \n",
    "    1. Get the country from the url of the article using the [GDELT Geographic Source Lookup](https://blog.gdeltproject.org/mapping-the-media-a-geographic-lookup-of-gdelts-sources/)\n",
    "    2. Get the geographic coordinates of the capital of the source country using the csv file provided by [this website](http://techslides.com/list-of-countries-and-capitals)\n",
    "    3. Calculate the geographic distance between the source article and the event with the [Great-Circle distance formula](https://en.wikipedia.org/wiki/Great-circle_distance)\n",
    "    \n",
    "    Note that in this approach we approximate the location of the source reporting the article by the capital of the country reporting the news.\n",
    "\n",
    "#### Analysis\n",
    "\n",
    "- Evaluation of the dependency between the emotions and the distance: \n",
    "    1. Plot the emotion metrics (Average Tone) against the distance for each event. Distinguish between the location of the event (colour codes) to see if the country where the event occurred influences the emotion, or the other way around, whether some news from a given country only get reported if they have a negative or positive association. \n",
    "\n",
    "- Evaluation of the dependency between the emotions and the importance of the conflict:\n",
    "    1. Evaluation whether there is a dependency of the emotion metrics and the importance of the conflict using an \"importance of an event\" metrics provided by GDELT (3 very similar metrics are given, NumMentions, NumSources, NumArticles, and we decided to use NumArticles)"
   ]
  },
  {
   "cell_type": "markdown",
   "metadata": {},
   "source": [
    "### Question 2 <a id='Part1_Q2'></a>\n",
    "\n",
    "**Are some countries ignored in the news?**  Is the number of conflicts taking place in a country in relation with the number of mentions in the media depending on where the conflict has happened? \n",
    "\n",
    "#### Fetching the data \n",
    "\n",
    "We use the same dataset than in Question 1, in addition to the dataset [\"population by country\"](https://en.wikipedia.org/wiki/List_of_countries_by_population_(United_Nations)) provided by the United Nations (2017).\n",
    "\n",
    "#### Analysis\n",
    "\n",
    "- Group by the event country and sum up the number of conflicts and the number of mentions \n",
    "- Evaluate whether there is a correlation between the number of conflicts and mentions or not\n",
    "- Identify countries with a high number of conflicts, but a comparewise low number of mentions\n",
    "- Identify whether the number of people living in a country influence the number of event in a country\n"
   ]
  },
  {
   "cell_type": "markdown",
   "metadata": {},
   "source": [
    "### Question 3 <a id='Part1_Q3'></a>\n",
    "\n",
    "**Are we emotionally predictable?** Can we observe patterns of emotions with respect to a country, religion or an ethnical group? Can we derive a model predicting emotions in case of a new conflict based on its specific features?\n",
    "\n",
    "# THIS NEEDS TO BE CHANGED\n",
    "\n",
    "#### Rational:\n",
    "\n",
    "To observe patterns of emotions with respect to a country, religion and ethnicity, we will derive a model with the features being the country where the event happened (a selection of max. 10 countries), the religion (around 3), and the ethnicity (around 3) (categorical features), and the response variable being an emotion metrics (average tone, or an emotion from our emotion dictionary). We will then learn this model for each source country (country reporting the event) and validate our approach on an event not included in the training set. Below is an example to illustrate:\n",
    "\n",
    "For every country in the world an “emotion” model is trained on events that happened in Syria, with the actors being of islamic and christianic religion (in the “Events” set we have access to the religion and ethnicity of Actor 1 and Actor 2). Now, if a new conflict with these same features happens, we can predict how e.g. Switzerland or the US (as well as every other country in the world) might react. \n",
    "\n",
    "A further step in observing patterns is then to cluster countries together that having similar emotional responses (with a K-means algorithm). A clustering might give insight about which countries are culturally close to each other. \n",
    "\n",
    "#### Fetching:\n",
    "\n",
    "In addition to the data fetched in Question 1 we select from the “Events” set ethnicity related data (‘Actor1EthnicCode', Actor1Religion1Code, Actor1Religion2Code, Actor2EthnicCode', Actor2Religion1Code, Actor2Religion2Code).\n"
   ]
  },
  {
   "cell_type": "markdown",
   "metadata": {},
   "source": [
    "### Question 4 <a id='Part1_Q4'></a>\n",
    "\n",
    "**Do we have a saturation limit?** Does increasing number of conflicts make people feel worse and worse or is there some limit?\n",
    "\n",
    "#### Fetching the data \n",
    "\n",
    "From the GDELT dataset we fetch the following information from the \"GKG\":\n",
    "\n",
    "  - Locations \n",
    "  - V2Tone \n",
    "  - GCAM \n",
    "\n",
    "#### Analysis\n",
    "\n",
    "  - Calculation the increasing number of conflicts: \n",
    "      1. Get the location of the country\n",
    "      2. Parse through the gkg files (in the time interval we wish) and get the events referent to a country.\n",
    "      3. Associate quantity of conflicts with emotions passed\n",
    "\n",
    "  - Possible limit of the emotions: \n",
    "      1. Get the V2Tone and the GCAM feelings referent to the events\n",
    "      2. Evaluate the emotions that we have for each of this event, observing how the media shows the events and if there are some insensibility (measured by lower V2Tone scores and more neutral GCAM feelings) or not after a threshold number of events.\n",
    "\n",
    "\n",
    "\n",
    "\n"
   ]
  },
  {
   "cell_type": "markdown",
   "metadata": {},
   "source": [
    "### Question 5 <a id='Part1_Q5'></a>\n",
    "\n",
    "**Who is more emotional?** Do we see sensitivity differences between some countries or actors? \n",
    "\n",
    "#### Fetching the data \n",
    "\n",
    "From the GDELT dataset we fetch the following information from the \"GKG\" and \"Events\":\n",
    "\n",
    "  - People\n",
    "  - Locations \n",
    "  - V2Tone \n",
    "  - GCAM \n",
    "\n",
    "#### Analysis\n",
    "\n",
    "\n",
    "  - Relation between country and emotion: \n",
    "      1. Similar to question 4\n",
    "      2. Associate specific countries to the emotions. Specifically associate actors (people) to emotions concerning the events related to them.\n"
   ]
  },
  {
   "cell_type": "markdown",
   "metadata": {},
   "source": [
    "## Part 2 <a id='Part2'></a>"
   ]
  },
  {
   "cell_type": "code",
   "execution_count": 51,
   "metadata": {
    "scrolled": true
   },
   "outputs": [
    {
     "name": "stdout",
     "output_type": "stream",
     "text": [
      "The autoreload extension is already loaded. To reload it, use:\n",
      "  %reload_ext autoreload\n"
     ]
    }
   ],
   "source": [
    "# regular imports\n",
    "import os\n",
    "import numpy as np\n",
    "import pandas as pd\n",
    "import math\n",
    "from math import radians, sqrt, sin, cos, atan2\n",
    "\n",
    "# function imports\n",
    "from helper_functions import *\n",
    "from Schema import *\n",
    "\n",
    "import warnings\n",
    "warnings.filterwarnings('ignore')\n",
    "\n",
    "#import findspark\n",
    "#findspark.init('C:\\opt\\spark')\n",
    "\n",
    "from pyspark.sql import *\n",
    "from pyspark.sql.functions import to_timestamp,desc, col, abs, split, count, array, concat_ws, sum, min, max, mean, asc, coalesce, udf, when, window, explode, unix_timestamp, lit\n",
    "from pyspark.sql.types import FloatType\n",
    "\n",
    "# scikit learn imports\n",
    "from sklearn.model_selection import train_test_split\n",
    "from sklearn.tree import DecisionTreeClassifier\n",
    "from sklearn.metrics import accuracy_score\n",
    "from sklearn.preprocessing import LabelEncoder\n",
    "\n",
    "%matplotlib inline\n",
    "spark = SparkSession.builder.getOrCreate()\n",
    "#sc = spark.sparkContext\n",
    "\n",
    "# update when changing functions\n",
    "%load_ext autoreload\n",
    "%autoreload 2"
   ]
  },
  {
   "cell_type": "code",
   "execution_count": 3,
   "metadata": {},
   "outputs": [],
   "source": [
    "#DATA_DIR = 'hdfs:///datasets/gdeltv2'  # cluster code\n",
    "DATA_DIR = '../data/' # local code\n",
    "\n",
    "# directory for local files \n",
    "DATA_LOCAL = '../data/'"
   ]
  },
  {
   "cell_type": "code",
   "execution_count": 4,
   "metadata": {},
   "outputs": [],
   "source": [
    "# open GDELT data\n",
    "gkg_df = spark.read.option(\"sep\", \"\\t\").csv(os.path.join(DATA_DIR, \"*.gkg.csv\"),schema=GKG_SCHEMA)\n",
    "events_df = spark.read.option(\"sep\", \"\\t\").csv(os.path.join(DATA_DIR, \"*.export.CSV\"),schema=EVENTS_SCHEMA)\n",
    "mentions_df = spark.read.option(\"sep\", \"\\t\").csv(os.path.join(DATA_DIR, \"*.mentions.CSV\"),schema=MENTIONS_SCHEMA)"
   ]
  },
  {
   "cell_type": "code",
   "execution_count": 5,
   "metadata": {},
   "outputs": [],
   "source": [
    "# open helper datasets\n",
    "CountryToCapital = spark.read.format(\"csv\").option(\"header\", \"true\").load(DATA_LOCAL + \"CountryInformations/country-capitals.csv\")\n",
    "Domains = spark.read.format(\"csv\").option(\"header\", \"true\").load(DATA_LOCAL + \"UrlToCountry/urls.csv\")\n",
    "Domains = Domains.select(Domains['alpha-2'].alias('code') ,Domains['name'].alias('country_source'), 'region', Domains['web'].alias('url'))"
   ]
  },
  {
   "cell_type": "code",
   "execution_count": 6,
   "metadata": {},
   "outputs": [
    {
     "name": "stdout",
     "output_type": "stream",
     "text": [
      "+----+--------------+------+-----------------+\n",
      "|code|country_source|region|              url|\n",
      "+----+--------------+------+-----------------+\n",
      "|  AF|   Afghanistan|  Asia| 108worldnews.com|\n",
      "|  AF|   Afghanistan|  Asia|           1tv.af|\n",
      "|  AF|   Afghanistan|  Asia|       1tvnews.af|\n",
      "|  AF|   Afghanistan|  Asia|       aff.org.af|\n",
      "|  AF|   Afghanistan|  Asia|afghan-review.com|\n",
      "+----+--------------+------+-----------------+\n",
      "only showing top 5 rows\n",
      "\n"
     ]
    }
   ],
   "source": [
    "Domains.show(5)"
   ]
  },
  {
   "cell_type": "markdown",
   "metadata": {},
   "source": [
    "urls linking the url of the news article to the country which is reporting the event"
   ]
  },
  {
   "cell_type": "markdown",
   "metadata": {},
   "source": [
    "#### Q0.  Exploratory Data Fetching <a id='Part2_Q0'></a>\n",
    "\n",
    "# CHANGE ME The whole cluster code is found [here](github balbalb)"
   ]
  },
  {
   "cell_type": "code",
   "execution_count": 23,
   "metadata": {},
   "outputs": [
    {
     "name": "stdout",
     "output_type": "stream",
     "text": [
      "+---------------------+-----+\n",
      "|ActionGeo_CountryCode|count|\n",
      "+---------------------+-----+\n",
      "|                   CI|   15|\n",
      "|                   FI|    1|\n",
      "|                   IC|    1|\n",
      "|                   RO|    9|\n",
      "|                   SL|    7|\n",
      "+---------------------+-----+\n",
      "only showing top 5 rows\n",
      "\n"
     ]
    }
   ],
   "source": [
    "#### get the number of events grouped by the country they occurred\n",
    "\n",
    "# select the required data from Event Dataset\n",
    "events_1 = events_df.select('ActionGeo_CountryCode').filter(events_df.ActionGeo_CountryCode.isNotNull())\n",
    "CountryEvent_number = events_1.groupBy('ActionGeo_CountryCode').count()\n",
    "CountryEvent_number.show(5)"
   ]
  },
  {
   "cell_type": "code",
   "execution_count": 24,
   "metadata": {},
   "outputs": [
    {
     "name": "stdout",
     "output_type": "stream",
     "text": [
      "+-------------------+-----+\n",
      "|     country_source|count|\n",
      "+-------------------+-----+\n",
      "|Korea (Republic of)|   36|\n",
      "|        Philippines|  166|\n",
      "|           Malaysia|  151|\n",
      "|               Fiji|    5|\n",
      "|             Turkey|   40|\n",
      "+-------------------+-----+\n",
      "only showing top 5 rows\n",
      "\n"
     ]
    }
   ],
   "source": [
    "#### get the number of events grouped by the country reporting\n",
    "\n",
    "# select the required data from Mentions Dataset\n",
    "mentions_1 = mentions_df.select(\"GLOBALEVENTID\", \"MentionType\", \"MentionSourceName\") \\\n",
    "                .filter(mentions_df[\"MentionType\"] == '1') # MentionType 1 refers to the web articles and not e.g. books\n",
    "\n",
    "# join the domain df with the country corresponding to the source\n",
    "mentions_2 = mentions_1.join(Domains, Domains['url'] == mentions_1['MentionSourceName'], \"left_outer\")\n",
    "\n",
    "# filter out urls that are unknown\n",
    "mentions_3 = mentions_2.filter(mentions_2.country_source.isNotNull())\n",
    "\n",
    "events_1 = events_df.select('GLOBALEVENTID')\n",
    "\n",
    "mention_event = events_1.join(mentions_3, 'GLOBALEVENTID')\n",
    "CountrySource_number = mention_event.groupBy('country_source').count()\n",
    "CountrySource_number.show(5)"
   ]
  },
  {
   "cell_type": "markdown",
   "metadata": {},
   "source": [
    "#### Q1.  Fetching & preprocessing of the data  <a id='Part2_Q1'></a>"
   ]
  },
  {
   "cell_type": "markdown",
   "metadata": {},
   "source": [
    "# ADD THE FILE The whole cluster code is found in the [Q1_cluster.py](FetchingData/Q1_cluster.py)"
   ]
  },
  {
   "cell_type": "code",
   "execution_count": 46,
   "metadata": {},
   "outputs": [
    {
     "name": "stdout",
     "output_type": "stream",
     "text": [
      "number of unknown urls:  12\n",
      "number of known urls:  843\n"
     ]
    }
   ],
   "source": [
    "# select the required data from Mentions Dataset\n",
    "\n",
    "# select the required data from Mentions Dataset\n",
    "mentions_1 = mentions_df.select(\"GLOBALEVENTID\", \"EventTimeDate\", 'MentionIdentifier', \"MentionType\", \"MentionSourceName\") \\\n",
    "                .filter(mentions_df[\"MentionType\"] == '1')\n",
    "\n",
    "# join the domain df with the country corresponding to the source\n",
    "mentions_2 = mentions_1.join(Domains, Domains['url'] == mentions_1['MentionSourceName'], \"left_outer\")\n",
    "\n",
    "# filter out urls that are unknown\n",
    "mentions_3 = mentions_2.filter(mentions_2.country_source.isNotNull())\n",
    "\n",
    "# print the number of urls that have no country\n",
    "print('number of unknown urls: ', mentions_2.filter(\"url is null\").select('MentionSourceName').distinct().count())\n",
    "\n",
    "# print the number of urls associated to a country\n",
    "print('number of known urls: ', mentions_3.select('url').distinct().count())"
   ]
  },
  {
   "cell_type": "markdown",
   "metadata": {},
   "source": [
    "Only a small fraction of 'news urls' are unknown in terms of which country they belong to"
   ]
  },
  {
   "cell_type": "code",
   "execution_count": 47,
   "metadata": {},
   "outputs": [
    {
     "name": "stdout",
     "output_type": "stream",
     "text": [
      "+-------------+--------------------+--------------+-----------+-----------+----------+-----------+\n",
      "|GLOBALEVENTID|   MentionIdentifier| EventTimeDate|CountryCode|CountryName|Source_Lat|Source_Long|\n",
      "+-------------+--------------------+--------------+-----------+-----------+----------+-----------+\n",
      "|    709307290|http://www.khaama...|20171123064500|         AF|Afghanistan| 34.516666|  69.183334|\n",
      "|    709307290|http://www.khaama...|20171123064500|         AF|Afghanistan| 34.516666|  69.183334|\n",
      "|    709307289|http://www.khaama...|20171123064500|         AF|Afghanistan| 34.516666|  69.183334|\n",
      "|    709307289|http://www.khaama...|20171123064500|         AF|Afghanistan| 34.516666|  69.183334|\n",
      "|    709306810|https://www.pajhw...|20171123064500|         AF|Afghanistan| 34.516666|  69.183334|\n",
      "|    709306810|https://www.pajhw...|20171123064500|         AF|Afghanistan| 34.516666|  69.183334|\n",
      "|    709306809|https://www.pajhw...|20171123064500|         AF|Afghanistan| 34.516666|  69.183334|\n",
      "|    709306809|https://www.pajhw...|20171123064500|         AF|Afghanistan| 34.516666|  69.183334|\n",
      "|    709306808|https://www.pajhw...|20171123064500|         AF|Afghanistan| 34.516666|  69.183334|\n",
      "|    709306808|https://www.pajhw...|20171123064500|         AF|Afghanistan| 34.516666|  69.183334|\n",
      "|    709306806|https://www.pajhw...|20171123064500|         AF|Afghanistan| 34.516666|  69.183334|\n",
      "|    709306806|https://www.pajhw...|20171123064500|         AF|Afghanistan| 34.516666|  69.183334|\n",
      "|    709306805|https://www.pajhw...|20171123064500|         AF|Afghanistan| 34.516666|  69.183334|\n",
      "|    709306805|https://www.pajhw...|20171123064500|         AF|Afghanistan| 34.516666|  69.183334|\n",
      "|    709319061|http://www.angop....|20171123080000|         AO|     Angola| -8.833333|  13.216667|\n",
      "|    709319061|http://www.angop....|20171123080000|         AO|     Angola| -8.833333|  13.216667|\n",
      "|    709319060|http://www.angop....|20171123080000|         AO|     Angola| -8.833333|  13.216667|\n",
      "|    709319060|http://www.angop....|20171123080000|         AO|     Angola| -8.833333|  13.216667|\n",
      "|    709319059|http://www.angop....|20171123080000|         AO|     Angola| -8.833333|  13.216667|\n",
      "|    709319059|http://www.angop....|20171123080000|         AO|     Angola| -8.833333|  13.216667|\n",
      "+-------------+--------------------+--------------+-----------+-----------+----------+-----------+\n",
      "only showing top 20 rows\n",
      "\n"
     ]
    }
   ],
   "source": [
    "# join the file with the countries and capitals\n",
    "mentions_4 = mentions_3.join(CountryToCapital, CountryToCapital['CountryName'] == mentions_3['country_source'], \"left_outer\") \n",
    "\n",
    "# filter out rows with no geographic coordinates\n",
    "mentions_5 = mentions_4.filter(mentions_4.CapitalLatitude.isNotNull())\n",
    "\n",
    "# select relevant columns \n",
    "mentions_6 = mentions_5.select('GLOBALEVENTID', 'MentionIdentifier','EventTimeDate','CountryCode', 'CountryName', mentions_5['CapitalLatitude'].alias('Source_Lat'),\n",
    "                                                   mentions_5['CapitalLongitude'].alias('Source_Long'))\n",
    "mentions_6 = mentions_6.withColumn(\"Source_Lat\", mentions_6[\"Source_Lat\"].cast(\"float\"))\n",
    "mentions_6 = mentions_6.withColumn(\"Source_Long\", mentions_6[\"Source_Long\"].cast(\"float\"))"
   ]
  },
  {
   "cell_type": "code",
   "execution_count": 52,
   "metadata": {},
   "outputs": [],
   "source": [
    "# prepare gkg file\n",
    "gkg_1 = gkg_df.select('DocumentIdentifier', 'V2Tone')\n",
    "split_col = split(gkg_df['V2Tone'], ',')\n",
    "gkg_2 = gkg_1.withColumn('Tone', split_col.getItem(0))\n",
    "gkg_3 = gkg_2.withColumn('Polarity', split_col.getItem(3))\n",
    "gkg_4 = gkg_3.withColumn('Emotion_Charge', abs(gkg_3.Tone - gkg_3.Polarity))"
   ]
  },
  {
   "cell_type": "code",
   "execution_count": 54,
   "metadata": {},
   "outputs": [
    {
     "name": "stdout",
     "output_type": "stream",
     "text": [
      "Total number of events:  5251\n",
      "Number of events with geographic coordinates:  5095\n",
      "+-------------+---------------------+-------------+--------------+-----------+----------+-----------+----------+--------------------+--------------+-----------+-----------+----------+-----------+--------------------+-----------------+\n",
      "|GLOBALEVENTID|ActionGeo_CountryCode|ActionGeo_Lat|ActionGeo_Long|NumMentions|NumSources|NumArticles|   AvgTone|   MentionIdentifier| EventTimeDate|CountryCode|CountryName|Source_Lat|Source_Long|  DocumentIdentifier|   Emotion_Charge|\n",
      "+-------------+---------------------+-------------+--------------+-----------+----------+-----------+----------+--------------------+--------------+-----------+-----------+----------+-----------+--------------------+-----------------+\n",
      "|    709307290|                   AF|      34.5167|       69.1833|          6|         1|          6|-3.5294118|http://www.khaama...|20171123064500|         AF|Afghanistan| 34.516666|  69.183334|http://www.khaama...| 9.81595092024539|\n",
      "|    709307290|                   AF|      34.5167|       69.1833|          6|         1|          6|-3.5294118|http://www.khaama...|20171123064500|         AF|Afghanistan| 34.516666|  69.183334|http://www.khaama...| 9.81595092024539|\n",
      "|    709307289|                   AF|      34.5167|       69.1833|          4|         1|          4|-3.5294118|http://www.khaama...|20171123064500|         AF|Afghanistan| 34.516666|  69.183334|http://www.khaama...| 9.81595092024539|\n",
      "|    709307289|                   AF|      34.5167|       69.1833|          4|         1|          4|-3.5294118|http://www.khaama...|20171123064500|         AF|Afghanistan| 34.516666|  69.183334|http://www.khaama...| 9.81595092024539|\n",
      "|    709306810|                   IN|      30.6456|       76.3825|          6|         1|          6| 2.4590163|https://www.pajhw...|20171123064500|         AF|Afghanistan| 34.516666|  69.183334|https://www.pajhw...| 0.82304526748971|\n",
      "|    709306810|                   IN|      30.6456|       76.3825|          6|         1|          6| 2.4590163|https://www.pajhw...|20171123064500|         AF|Afghanistan| 34.516666|  69.183334|https://www.pajhw...| 0.82304526748971|\n",
      "|    709306809|                   IN|      30.6456|       76.3825|          1|         1|          1| 2.4590163|https://www.pajhw...|20171123064500|         AF|Afghanistan| 34.516666|  69.183334|https://www.pajhw...| 0.82304526748971|\n",
      "|    709306809|                   IN|      30.6456|       76.3825|          1|         1|          1| 2.4590163|https://www.pajhw...|20171123064500|         AF|Afghanistan| 34.516666|  69.183334|https://www.pajhw...| 0.82304526748971|\n",
      "|    709306808|                   IN|      30.6456|       76.3825|          1|         1|          1| 2.4590163|https://www.pajhw...|20171123064500|         AF|Afghanistan| 34.516666|  69.183334|https://www.pajhw...| 0.82304526748971|\n",
      "|    709306808|                   IN|      30.6456|       76.3825|          1|         1|          1| 2.4590163|https://www.pajhw...|20171123064500|         AF|Afghanistan| 34.516666|  69.183334|https://www.pajhw...| 0.82304526748971|\n",
      "|    709306806|                   IN|      31.6331|       74.8656|          1|         1|          1| 2.4590163|https://www.pajhw...|20171123064500|         AF|Afghanistan| 34.516666|  69.183334|https://www.pajhw...| 0.82304526748971|\n",
      "|    709306806|                   IN|      31.6331|       74.8656|          1|         1|          1| 2.4590163|https://www.pajhw...|20171123064500|         AF|Afghanistan| 34.516666|  69.183334|https://www.pajhw...| 0.82304526748971|\n",
      "|    709306805|                   IN|      30.6456|       76.3825|          1|         1|          1| 2.4590163|https://www.pajhw...|20171123064500|         AF|Afghanistan| 34.516666|  69.183334|https://www.pajhw...| 0.82304526748971|\n",
      "|    709306805|                   IN|      30.6456|       76.3825|          1|         1|          1| 2.4590163|https://www.pajhw...|20171123064500|         AF|Afghanistan| 34.516666|  69.183334|https://www.pajhw...| 0.82304526748971|\n",
      "|    709319061|                   KN|         40.0|         127.0|         10|         1|         10|-2.9268293|http://www.angop....|20171123080000|         AO|     Angola| -8.833333|  13.216667|http://www.angop....|6.896551724137931|\n",
      "|    709319061|                   KN|         40.0|         127.0|         10|         1|         10|-2.9268293|http://www.angop....|20171123080000|         AO|     Angola| -8.833333|  13.216667|http://www.angop....|6.896551724137931|\n",
      "|    709319060|                   AO|     -8.83833|       13.2344|          2|         1|          2|-2.9268293|http://www.angop....|20171123080000|         AO|     Angola| -8.833333|  13.216667|http://www.angop....|6.896551724137931|\n",
      "|    709319060|                   AO|     -8.83833|       13.2344|          2|         1|          2|-2.9268293|http://www.angop....|20171123080000|         AO|     Angola| -8.833333|  13.216667|http://www.angop....|6.896551724137931|\n",
      "|    709319059|                   AO|     -8.83833|       13.2344|          2|         1|          2|-2.9268293|http://www.angop....|20171123080000|         AO|     Angola| -8.833333|  13.216667|http://www.angop....|6.896551724137931|\n",
      "|    709319059|                   AO|     -8.83833|       13.2344|          2|         1|          2|-2.9268293|http://www.angop....|20171123080000|         AO|     Angola| -8.833333|  13.216667|http://www.angop....|6.896551724137931|\n",
      "+-------------+---------------------+-------------+--------------+-----------+----------+-----------+----------+--------------------+--------------+-----------+-----------+----------+-----------+--------------------+-----------------+\n",
      "only showing top 20 rows\n",
      "\n"
     ]
    }
   ],
   "source": [
    "# select Data from Events Dataset\n",
    "events_1= events_df.select(\"GLOBALEVENTID\", 'ActionGeo_CountryCode', \"ActionGeo_Lat\", \"ActionGeo_Long\", \"NumMentions\",\"NumSources\",\"NumArticles\",\"AvgTone\")\n",
    "\n",
    "# filter out events that have no geographic coordinates\n",
    "print('Total number of events: ', events_1.count())\n",
    "events_2 = events_1.filter(events_1.ActionGeo_Lat.isNotNull())\n",
    "print('Number of events with geographic coordinates: ', events_2.count())\n",
    "\n",
    "# merge the clean events and mentions dfs\n",
    "event_mention = events_2.join(mentions_6, 'GLOBALEVENTID') \n",
    "\n",
    "data_q1 = event_mention.join(gkg_4.select('DocumentIdentifier', 'Emotion_Charge'), gkg_4['DocumentIdentifier'] == event_mention['MentionIdentifier'])"
   ]
  },
  {
   "cell_type": "markdown",
   "metadata": {},
   "source": [
    "Most of the events reported by GDELT have a reported geographic location.\n",
    "\n",
    "# CHANGE ME The following part of the code is found [here]()"
   ]
  },
  {
   "cell_type": "code",
   "execution_count": 22,
   "metadata": {},
   "outputs": [
    {
     "name": "stdout",
     "output_type": "stream",
     "text": [
      "+---------------------+---------+-----------+-----------+-------------+\n",
      "|ActionGeo_CountryCode| distance|    AvgTone|NumArticles|SourceCountry|\n",
      "+---------------------+---------+-----------+-----------+-------------+\n",
      "|                   AS|1786.5924|  1.2285012|        3.0|    Australia|\n",
      "|                   AS|1786.5924|  1.2285012|        3.0|    Australia|\n",
      "|                   IN|1087.6713|-0.29154518|        3.0|        India|\n",
      "|                   IN|1087.6713|-0.29154518|        3.0|        India|\n",
      "|                   PE|10281.417|  -6.508876|        2.0|  Netherlands|\n",
      "+---------------------+---------+-----------+-----------+-------------+\n",
      "only showing top 5 rows\n",
      "\n"
     ]
    }
   ],
   "source": [
    "# append a column with the geographic distance\n",
    "def geocalc(lat1, lon1, lat2, lon2):\n",
    "    #print(lat1, lon1, lat2, lon2)\n",
    "    lat1 = radians(lat1)\n",
    "    lon1 = radians(lon1)\n",
    "    lat2 = radians(lat2)\n",
    "    lon2 = radians(lon2)\n",
    "    \n",
    "    dlon = lon1 - lon2\n",
    "\n",
    "    EARTH_R = 6372.8\n",
    "\n",
    "    y = sqrt((cos(lat2) * sin(dlon)) ** 2 + (cos(lat1) * sin(lat2) - sin(lat1) * cos(lat2) * cos(dlon)) ** 2)\n",
    "    x = sin(lat1) * sin(lat2) + cos(lat1) * cos(lat2) * cos(dlon)\n",
    "    c = atan2(y, x)\n",
    "    return EARTH_R * c\n",
    "\n",
    "udf_geocalc = udf(geocalc, FloatType())\n",
    " \n",
    "data_q1 = spark.read.parquet(DATA_LOCAL + 'data_q1.parquet')\n",
    "data_q1 = data_q1.withColumn(\"distance\", lit(udf_geocalc('ActionGeo_Lat', 'ActionGeo_Long', 'Source_Lat', 'Source_Long')))\n",
    "\n",
    "data_q1 = data_q1.select('ActionGeo_CountryCode', 'distance', 'AvgTone','NumArticles', data_q1['CountryName'].alias('SourceCountry'))\n",
    "data_q1.show(5)"
   ]
  },
  {
   "cell_type": "markdown",
   "metadata": {},
   "source": [
    "When applying the algorithm on the whole GDELT dataset, a dataset of 3.4 GB was obtained. Since the goal was to plot each event as a datapoint in a graph, this dataset was randomly downsampled and only 0.01 % were kept."
   ]
  },
  {
   "cell_type": "markdown",
   "metadata": {},
   "source": [
    "#### Q2. Aggregation <a id='Part2_Q2'></a>\n",
    "\n",
    "The whole cluster code is found in the [Q2_cluster.py](FetchingData/Q2_cluster.py) file."
   ]
  },
  {
   "cell_type": "code",
   "execution_count": 27,
   "metadata": {
    "scrolled": false
   },
   "outputs": [
    {
     "name": "stdout",
     "output_type": "stream",
     "text": [
      "+---------------------+------------+------------+\n",
      "|ActionGeo_CountryCode|sum_articles|count_events|\n",
      "+---------------------+------------+------------+\n",
      "|                   CI|         111|          15|\n",
      "|                   FI|           4|           1|\n",
      "|                   IC|           2|           1|\n",
      "|                   RO|          23|           9|\n",
      "|                   SL|          31|           7|\n",
      "+---------------------+------------+------------+\n",
      "only showing top 5 rows\n",
      "\n"
     ]
    }
   ],
   "source": [
    "data_q2 = events_2.groupBy('ActionGeo_CountryCode').agg(sum('NumArticles').alias('sum_articles'), count('GLOBALEVENTID').alias('count_events'))\n",
    "data_q2.show(5)"
   ]
  },
  {
   "cell_type": "markdown",
   "metadata": {},
   "source": [
    "Q3. **Are we emotionally predictable?** <a id='Part2_Q3a'></a>\n",
    "\n",
    "### Fetching the data\n",
    "\n",
    "The whole cluster code is found in the [Q3_cluster.py](FetchingData/Q3_cluster.py) file."
   ]
  },
  {
   "cell_type": "markdown",
   "metadata": {},
   "source": [
    "# CHANGE HDI_categories datafile"
   ]
  },
  {
   "cell_type": "code",
   "execution_count": 30,
   "metadata": {},
   "outputs": [
    {
     "name": "stdout",
     "output_type": "stream",
     "text": [
      "+---+-----------+---------+------------+----------+-------+\n",
      "|_c0|    Country|      HDI|Country name|FIPS_GDELT|alpha-2|\n",
      "+---+-----------+---------+------------+----------+-------+\n",
      "|  0|     Norway|Very High|      Norway|        NO|     NO|\n",
      "|  1|Switzerland|Very High| Switzerland|        SZ|     CH|\n",
      "|  2|  Australia|Very High|   Australia|        AS|     AU|\n",
      "|  3|    Ireland|Very High|     Ireland|        EI|     IE|\n",
      "|  4|    Germany|Very High|     Germany|        GM|     DE|\n",
      "+---+-----------+---------+------------+----------+-------+\n",
      "only showing top 5 rows\n",
      "\n"
     ]
    }
   ],
   "source": [
    "# open helper dataset\n",
    "HDI_df = spark.read.format(\"csv\").option(\"header\", \"true\").load(\"../data/CountryInformations/HDI_code_df.csv\")\n",
    "HDI_df.show(5)"
   ]
  },
  {
   "cell_type": "markdown",
   "metadata": {},
   "source": [
    "The human development index is divided into 4 categories: Very High, High, Medium, Low"
   ]
  },
  {
   "cell_type": "code",
   "execution_count": 31,
   "metadata": {},
   "outputs": [],
   "source": [
    "# filter on events that have count information\n",
    "gkg_1 = gkg_df.filter(gkg_df.Counts.isNotNull())\n",
    "CountType = split(gkg_1['Counts'], '#')\n",
    "\n",
    "# add the event type\n",
    "gkg_2 = gkg_1.withColumn('EventType', CountType.getItem(0))\n",
    "\n",
    "# add the number of people concerned\n",
    "gkg_3 = gkg_2.withColumn('NumPeople', CountType.getItem(1))"
   ]
  },
  {
   "cell_type": "code",
   "execution_count": 32,
   "metadata": {},
   "outputs": [],
   "source": [
    "# prepare mention file\n",
    "mentions_1 = mentions_df.select(\"GLOBALEVENTID\", \"MentionType\", \"MentionSourceName\", 'MentionIdentifier') \\\n",
    "                .filter(mentions_df[\"MentionType\"] == '1')\n",
    "\n",
    "# join the dataframe url to country\n",
    "mentions_2 = mentions_1.join(Domains, Domains['url'] == mentions_1['MentionSourceName'], \"left_outer\") \n",
    "\n",
    "# filter out urls that are unknown\n",
    "mentions_3 = mentions_2.filter(mentions_2.country_source.isNotNull())"
   ]
  },
  {
   "cell_type": "code",
   "execution_count": 35,
   "metadata": {},
   "outputs": [],
   "source": [
    "events_1= events_df.select(\"GLOBALEVENTID\", 'Day_DATE','Actor1Religion1Code', 'Actor2Religion1Code',\n",
    "                               'NumMentions',\"AvgTone\", 'GoldsteinScale', 'ActionGeo_CountryCode')\n",
    "\n",
    "# filter events with no country code\n",
    "events_2 = events_1.filter(events_1.ActionGeo_CountryCode.isNotNull())\n",
    "\n",
    "# create religion column (take one of the two actors, because in the example test there was never data for both at the same time)\n",
    "events_3 = events_2.withColumn('ActorReligion', coalesce(events_2['Actor1Religion1Code'], events_2['Actor2Religion1Code']))\n",
    "\n",
    "# filter out columns with no religion\n",
    "events_4 = events_3.filter(events_3.ActorReligion.isNotNull())"
   ]
  },
  {
   "cell_type": "code",
   "execution_count": 38,
   "metadata": {},
   "outputs": [],
   "source": [
    "#### join the files togther\n",
    "\n",
    "# join the HDI file to country code\n",
    "events_5 = events_4.join(HDI_df.select('Country', 'HDI', 'FIPS_GDELT'), HDI_df['FIPS_GDELT']==events_4['ActionGeo_CountryCode'])\n",
    "\n",
    "# join event and mention file\n",
    "mention_event = events_5.join(mentions_3, 'GLOBALEVENTID')\n",
    "\n",
    "# join mention_event and gkg\n",
    "gkg_mention_event = mention_event.join(gkg_3, mention_event['MentionIdentifier'] == gkg_3['DocumentIdentifier'])"
   ]
  },
  {
   "cell_type": "code",
   "execution_count": 37,
   "metadata": {},
   "outputs": [
    {
     "name": "stdout",
     "output_type": "stream",
     "text": [
      "gkg, original size:  6098\n",
      "gkg, filtered:  772\n",
      "mention, original size:  13508\n",
      "mention, filtered:  13421\n",
      "event, original size:  5251\n",
      "event, filtered:  199\n",
      "files joined together:  200\n",
      "all:  49\n"
     ]
    }
   ],
   "source": [
    "print('gkg, original size: ', gkg_df.count())\n",
    "print('gkg, filtered: ', gkg_3.count())\n",
    "print('mention, original size: ', mentions_df.count())\n",
    "print('mention, filtered: ', mentions_3.count())\n",
    "print('event, original size: ', events_df.count())\n",
    "print('event, filtered: ', events_4.count())\n",
    "print('files joined together: ', mention_event.count())\n",
    "print('all: ', gkg_mention_event.count())"
   ]
  },
  {
   "cell_type": "markdown",
   "metadata": {},
   "source": [
    "We see that the filtering is reduces the size of the datafiles quite drastically. This is because in the gkg file, most of the articles do not have a specified event type, in the event file, very few events have the religion of the actors defined, and in the mention file, not every article can be linked to a country source reporting the article.\n",
    "\n",
    "In the following we will select the emotions of interest from the GCAM data column available in the gkg file. "
   ]
  },
  {
   "cell_type": "code",
   "execution_count": 39,
   "metadata": {},
   "outputs": [],
   "source": [
    "HRE = ['c2.152', 'c2.214', 'c3.2', 'c5.7', 'c6.5', 'c7.2', 'c10.1',\n",
    "       'c14.9', 'c15.3', 'c15.4', 'c15.12', 'c15.26', 'c15.27', 'c15.30',\n",
    "       'c15.36', 'c15.42', 'c15.53', 'c15.57', 'c15.61', 'c15.92',\n",
    "       'c15.93', 'c15.94', 'c15.97', 'c15.101', 'c15.102', 'c15.103',\n",
    "       'c15.105', 'c15.106', 'c15.107', 'c15.108', 'c15.109', 'c15.110',\n",
    "       'c15.116', 'c15.120', 'c15.123', 'c15.126', 'c15.131', 'c15.136',\n",
    "       'c15.137', 'c15.152', 'c15.171', 'c15.173', 'c15.179', 'c15.203',\n",
    "       'c15.219', 'c15.221', 'c15.239', 'c15.260', 'c21.1', 'c35.31',\n",
    "       'c24.1', 'c24.2', 'c24.3', 'c24.4', 'c24.5', 'c24.6', 'c24.7',\n",
    "       'c24.8', 'c24.9', 'c24.10', 'c24.11', 'c36.31', 'c37.31', 'c41.1']\n",
    "\n",
    "\n",
    "Emot_Words_df = gkg_mention_event.select(gkg_mention_event['ActionGeo_CountryCode'].alias('CountryEvent'), 'EventType',\n",
    "                                   'ActorReligion', 'HDI', 'AvgTone',\n",
    "                                  'country_source', 'GCAM',split(col(\"GCAM\"), \":\").alias(\"GCAM2\"))\n",
    "\n",
    "Emot_Words_df = Emot_Words_df.withColumn('GCAM2', concat_ws(',', 'GCAM2'))\n",
    "\n",
    "Emot_Words_df = Emot_Words_df.select('CountryEvent', 'EventType','ActorReligion', 'country_source',\n",
    "                                     'HDI', 'AvgTone', split(col(\"GCAM2\"), \",\").alias(\"GCAM\"))\n",
    "\n",
    "Emot_Words_df = Emot_Words_df.withColumn(\"HRE\", array([lit(x) for x in HRE]) )\n",
    "\n",
    "differencer = udf(lambda x,y: list(set(y)-(set(y)-set(x))), ArrayType(StringType()))\n",
    "Emot_Words_df = Emot_Words_df.withColumn('DIF', differencer('HRE', 'GCAM'))\n",
    "\n",
    "Emot_Words_df = Emot_Words_df.select('CountryEvent', 'EventType','ActorReligion', 'country_source',\n",
    "                                     'HDI', 'AvgTone', 'DIF')\n",
    "\n",
    "data_q3 = Emot_Words_df.dropDuplicates()"
   ]
  },
  {
   "cell_type": "code",
   "execution_count": 41,
   "metadata": {
    "scrolled": true
   },
   "outputs": [
    {
     "name": "stdout",
     "output_type": "stream",
     "text": [
      "+------------+---------+-------------+--------------------+------+----------+--------------------+\n",
      "|CountryEvent|EventType|ActorReligion|      country_source|   HDI|   AvgTone|                 DIF|\n",
      "+------------+---------+-------------+--------------------+------+----------+--------------------+\n",
      "|          BK|     KILL|          MOS|United States of ...|  High|-10.911809|[c15.110, c15.103...|\n",
      "|          MR|  PROTEST|          MOS|              Turkey|   Low|-8.5561495|[c2.214, c41.1, c...|\n",
      "|          ID|   AFFECT|          MOS|            Malaysia|Medium|-2.7181687|[c2.214, c14.9, c...|\n",
      "|          PK|  PROTEST|          MOS|         Philippines|Medium|-3.1468532|[c15.110, c14.9, ...|\n",
      "|          IZ|  PROTEST|          MOS|        Saudi Arabia|Medium| 1.9607843|[c15.171, c2.214,...|\n",
      "+------------+---------+-------------+--------------------+------+----------+--------------------+\n",
      "only showing top 5 rows\n",
      "\n"
     ]
    }
   ],
   "source": [
    "data_q3.show(5)"
   ]
  },
  {
   "cell_type": "markdown",
   "metadata": {},
   "source": [
    "This dataset serves to build a decision tree in the following. Due to the drastic filtering processing, the algorithm applied on the whole GDELT dataset returned a dataset with a manageable size of 88 MB."
   ]
  },
  {
   "cell_type": "markdown",
   "metadata": {},
   "source": [
    "### Building the decision tree <a id='Part2_Q3b'></a>"
   ]
  },
  {
   "cell_type": "markdown",
   "metadata": {},
   "source": [
    "#### Prediction model:\n",
    "\n",
    "Decision tree model with the Average Tone as the response.\n",
    "\n",
    "Features are: CountryEvent, EventType, ActorReligion, HDI\n",
    "\n",
    "Other considered Features are: NumPeople, ActorEthnicity, GoldsteinScale\n",
    "\n",
    "#### Feature description:\n",
    "\n",
    "CountryEvent: Geographic country where the event has happened (categorical variable). To have a large sample size for each category, we only pick the top 10 countries, that are mentioned most often.\n",
    "\n",
    "EventType: This reflects the type of the event. Categorical value with the following values: AFFECT, ARREST, KIDNAP, KILL, PROTEST, SEIZE, or WOUND.\n",
    "\n",
    "NumPeople: Number of people concerned by the EventType. NOT INCLUDED BECAUSE AS A STANDALONE IT HAS NO MEANING. COULD BE REPLACED BY NUMMENTIONS IF THAT IS FOUND TO BE SIGNIFICANT\n",
    "\n",
    "ActorEthnicity: Ethnicity of the actors implied in the event and indicated by the CAMEO Ethnic Coding Scheme (see Chapter 5 from the [CAMEO\n",
    "Conflict and Mediation Event Observations Event and Actor Codebook](http://data.gdeltproject.org/documentation/CAMEO.Manual.1.1b3.pdf)). We use the top 10 most common ethnic groups (categorical variable). NOT INCLUDED BECAUSE IT IS REPETITIVE OF THE COUNTRYEVENT.\n",
    "\n",
    "ActorReligion: Religion of the actors implied in the event and indicated by the CAMEO Religious Coding Scheme (see Chapter 4 from the [CAMEO\n",
    "Conflict and Mediation Event Observations Event and Actor Codebook](http://data.gdeltproject.org/documentation/CAMEO.Manual.1.1b3.pdf)). 19 religions are reported (categorical variable).\n",
    "\n",
    "GoldsteinScale: Score that reflects the potential impact an event will have on the stability of a country. The attributed value lies between -10 and 10, where a positive value indicates more cooperation than conflict. NOT INCLUDED BECAUSE IT LOOKED THIS VARIABLE IS NOT RELATED TO THE OUTCOME VARIABLE AND THE SITUATION\n",
    "\n",
    "HDI: Human Development Index. This index takes into account the development of a country, not  only including its economic growth (measured by the gross national income), but also life expectance and education (more information are found on the [United Nations Development Website](http://hdr.undp.org/en/content/human-development-index-hdi). Continuous variable (HDI $\\in [0,1]$). We use the [latest version](http://hdr.undp.org/en/composite/HDI) (released in Sep. 2018) covering the period of 2017. \n",
    "\n",
    "AvgTone: The score ranges from -100 (extremely negative) to +100 (extremely positive). Common values range between -10 and +10, with 0 indicating neutral.\n"
   ]
  },
  {
   "cell_type": "code",
   "execution_count": null,
   "metadata": {
    "scrolled": false
   },
   "outputs": [],
   "source": [
    "model_data = Data_q3.toPandas()\n",
    "model_data.head()"
   ]
  },
  {
   "cell_type": "code",
   "execution_count": null,
   "metadata": {},
   "outputs": [],
   "source": [
    "# discretize the average tone\n",
    "bins = pd.IntervalIndex.from_tuples([(-101, -10), (-10, -8), (-8,-5), (-5, -2), (-2, 0), (0,2),\n",
    "                                    (2,5), (5,10), (10, 101)])\n",
    "model_data.AvgTone = pd.cut(model_data.AvgTone, bins)\n",
    "\n",
    "# transform into categorical data & create corresponding dictionary\n",
    "le_CountryEvent = LabelEncoder()\n",
    "model_data['CountryEvent'] = le_CountryEvent.fit_transform(model_data['CountryEvent'])\n",
    "le_CountryEvent_mapping = dict(zip(le_CountryEvent.classes_, le_CountryEvent.transform(le_CountryEvent.classes_)))\n",
    "\n",
    "\n",
    "# transform back with: list(le_CountryEvent.inverse_transform([2, 2, 1]))\n",
    "le_EventType = LabelEncoder()\n",
    "model_data['EventType'] = le_EventType.fit_transform(model_data['EventType'])\n",
    "le_EventType_mapping = dict(zip(le_EventType.classes_, le_EventType.transform(le_EventType.classes_)))\n",
    "\n",
    "le_ActorReligion = LabelEncoder()\n",
    "model_data['ActorReligion'] = le_ActorReligion.fit_transform(model_data['ActorReligion'])\n",
    "le_ActorReligion_mapping = dict(zip(le_ActorReligion.classes_, le_ActorReligion.transform(le_ActorReligion.classes_)))\n",
    "\n",
    "le_HDI = LabelEncoder()\n",
    "model_data['HDI'] = le_HDI.fit_transform(model_data['HDI'])\n",
    "le_HDI_mapping = dict(zip(le_HDI.classes_, le_HDI.transform(le_HDI.classes_)))\n",
    "\n",
    "le_AvgTone\t = LabelEncoder()\n",
    "model_data['AvgTone'] = le_AvgTone.fit_transform(model_data['AvgTone'])\n",
    "le_AvgTone_mapping = dict(zip(le_AvgTone.classes_, le_AvgTone.transform(le_AvgTone.classes_)))\n"
   ]
  },
  {
   "cell_type": "code",
   "execution_count": null,
   "metadata": {
    "scrolled": true
   },
   "outputs": [],
   "source": [
    "# show transformed dataset\n",
    "model_data.head()"
   ]
  },
  {
   "cell_type": "code",
   "execution_count": null,
   "metadata": {},
   "outputs": [],
   "source": [
    "# define X and Y\n",
    "X = model_data.values[:, 0:4]\n",
    "Y = model_data.values[:,4]\n",
    "Y = Y.astype(int) "
   ]
  },
  {
   "cell_type": "code",
   "execution_count": null,
   "metadata": {},
   "outputs": [],
   "source": [
    "# split the data\n",
    "X_train, X_test, y_train, y_test = train_test_split(X, Y, test_size = 0.3, random_state = 42)"
   ]
  },
  {
   "cell_type": "code",
   "execution_count": null,
   "metadata": {},
   "outputs": [],
   "source": [
    "# train the model\n",
    "clf = DecisionTreeClassifier()\n",
    "clf.fit(X_train, y_train)\n"
   ]
  },
  {
   "cell_type": "code",
   "execution_count": null,
   "metadata": {},
   "outputs": [],
   "source": [
    "y_pred = clf.predict(X_test)\n",
    "print(\"Accuracy is \"), accuracy_score(y_test,y_pred)*100"
   ]
  },
  {
   "cell_type": "code",
   "execution_count": null,
   "metadata": {},
   "outputs": [],
   "source": [
    "# predict for: ['MY', 'AFFECT', 'CHR', 'Very High']\n",
    "le_EventType_mapping['KILL']\n",
    "y_pr =clf.predict([[le_CountryEvent_mapping['MY'], le_EventType_mapping['AFFECT'], le_ActorReligion_mapping['CHR'], le_HDI_mapping['Very High']]])\n",
    "AvTone = [key  for (key, value) in le_AvgTone_mapping.items() if value == y_pr]\n",
    "AvTone"
   ]
  },
  {
   "cell_type": "markdown",
   "metadata": {},
   "source": [
    "Q4. **Do we have a saturation limit?** / Q5. **Who is more emotional?**\n",
    "\n",
    "The data to answer questions 4 % 5 is pretty similar, therefore the processing for both parts is shown here."
   ]
  },
  {
   "cell_type": "markdown",
   "metadata": {},
   "source": [
    "##### Q4. a) GCAM Emotions data <a id='Part2_Q4a'></a>\n",
    "> We will select the ID ,the emotions, locations, persons and tone so we can attribute to an event the emotion behind it. For question 4 and 5 we will use mainly the gkg files as these files contain all the information that allows to answer our questions (locations, persons, emotions)"
   ]
  },
  {
   "cell_type": "code",
   "execution_count": null,
   "metadata": {},
   "outputs": [],
   "source": [
    "ID_GCAM = gkg_df.select(\"GKGRECORDID\",\"GCAM\",\"Locations\",\"Persons\",\"V2Tone\")"
   ]
  },
  {
   "cell_type": "code",
   "execution_count": null,
   "metadata": {},
   "outputs": [],
   "source": [
    "df_ID_GCAM = ID_GCAM.toPandas()\n",
    "df_ID_GCAM.head()"
   ]
  },
  {
   "cell_type": "markdown",
   "metadata": {},
   "source": [
    "> lets make sure we only have 1 ID per row (which is expected)"
   ]
  },
  {
   "cell_type": "code",
   "execution_count": null,
   "metadata": {},
   "outputs": [],
   "source": [
    "print('\\n', 'Length of all dataframe :' ,len(df_ID_GCAM), '\\n', \n",
    "            'Length of unique IDs    :' ,len(df_ID_GCAM['GKGRECORDID'].unique()))"
   ]
  },
  {
   "cell_type": "markdown",
   "metadata": {},
   "source": [
    "> Let's focus on the emotions since the other columns are pretty straightforward. We need to split the emotions so then we can better attribute each event the correspondent feel as there are several dictionaries with different collection of words. For a more clear vision you can check [GCAM](https://blog.gdeltproject.org/introducing-the-global-content-analysis-measures-gcam/)"
   ]
  },
  {
   "cell_type": "code",
   "execution_count": null,
   "metadata": {},
   "outputs": [],
   "source": [
    "# split the GCAM column\n",
    "df_ID_Emotions = df_ID_GCAM['GCAM'].str.split(',',expand=True)\n",
    "# insert the correspondent ID\n",
    "df_ID_Emotions.insert(loc=0, column='GKGRECORDID', value=df_ID_GCAM['GKGRECORDID'])\n",
    "df_ID_Emotions.head()"
   ]
  },
  {
   "cell_type": "markdown",
   "metadata": {},
   "source": [
    "#### Q4. b) Building the emotion dictionary <a id='Part2_Q4b'></a>"
   ]
  },
  {
   "cell_type": "code",
   "execution_count": null,
   "metadata": {},
   "outputs": [],
   "source": [
    "# function to build emotion dictionary\n",
    "Emotions_dictionary = get_emotion_dictionary(DATA_LOCAL, 'GCAM-MASTER-CODEBOOK.txt')"
   ]
  },
  {
   "cell_type": "code",
   "execution_count": null,
   "metadata": {},
   "outputs": [],
   "source": [
    "# lets have a look at it\n",
    "Emotions_dictionary.tail()"
   ]
  },
  {
   "cell_type": "markdown",
   "metadata": {},
   "source": [
    "> We see that different variables refer to different feelings.\n",
    "> After some research (as you'll see) one of the most common emotions is \"H4Lvd\" which clearly is not an emotion or a feeling of the speech, but it corresponds to 2 dictionaries. Meaning that these words belong to the Harvard and Lasswell dictionaries. In order to understand what this means, we went to see the spreadsheet of the words in these dictionaries, additional information found in [H4Lvd](http://www.wjh.harvard.edu/~inquirer/spreadsheet_guide.htm).\n",
    "When we don't have the specific emotion, it is useful to know which is the most common feeling associated with the most common dictionaries (therefore the check of the spreadsheets). For some others, we already know the feeling the dictionary refers to, such as \"Positivity\" via Lexicoder, “Smugness” via WordNet Affect, “Passivity” via Regressive Imagery Dictionary, etc. With this information we can associate these sentiments with the news and speeches for each event"
   ]
  },
  {
   "cell_type": "markdown",
   "metadata": {},
   "source": [
    "# Part 3 <a id='Part3'></a>"
   ]
  },
  {
   "cell_type": "markdown",
   "metadata": {},
   "source": [
    "We mainly do our plots with the plotly library. The choropleth world maps are drawn with GeoJSON (?)."
   ]
  },
  {
   "cell_type": "code",
   "execution_count": 17,
   "metadata": {},
   "outputs": [
    {
     "name": "stdout",
     "output_type": "stream",
     "text": [
      "The autoreload extension is already loaded. To reload it, use:\n",
      "  %reload_ext autoreload\n"
     ]
    }
   ],
   "source": [
    "from Visualization import *\n",
    "import pandas as pd\n",
    "\n",
    "# update when changing functions\n",
    "%load_ext autoreload\n",
    "%autoreload 2"
   ]
  },
  {
   "cell_type": "markdown",
   "metadata": {},
   "source": [
    "Q0. **Where does the news come from?** <a id='Part3_Q0'></a>"
   ]
  },
  {
   "cell_type": "code",
   "execution_count": null,
   "metadata": {},
   "outputs": [],
   "source": [
    "# plot the world map of the number of events grouped by country"
   ]
  },
  {
   "cell_type": "code",
   "execution_count": null,
   "metadata": {},
   "outputs": [],
   "source": [
    "# plot the world map of the number of events reported by each country"
   ]
  },
  {
   "cell_type": "markdown",
   "metadata": {},
   "source": [
    "Q1. **Are we emotionally biased?** <a id='Part3_Q1'></a>"
   ]
  },
  {
   "cell_type": "code",
   "execution_count": null,
   "metadata": {},
   "outputs": [],
   "source": [
    "# plot the average tone vs the distance"
   ]
  },
  {
   "cell_type": "markdown",
   "metadata": {},
   "source": [
    "Q2. **Are some countries ignored in the news?** <a id='Part3_Q2'></a>"
   ]
  },
  {
   "cell_type": "markdown",
   "metadata": {},
   "source": [
    "We plot a bubble plot, where the size of the bubble relates to the population count of the country."
   ]
  },
  {
   "cell_type": "code",
   "execution_count": 18,
   "metadata": {},
   "outputs": [
    {
     "data": {
      "application/vnd.plotly.v1+json": {
       "config": {
        "linkText": "Export to plot.ly",
        "plotlyServerURL": "https://plot.ly",
        "showLink": true
       },
       "data": [
        {
         "marker": {
          "line": {
           "width": 2
          },
          "size": [
           33.1898000949146,
           28.179102929332345,
           17.261218766544907,
           7.8164477948866535,
           22.620906163374933,
           17.0189992876286,
           25.32359932935313,
           11.145109211951052,
           19.930917498859237,
           4.658251907598518,
           11.842900394036416,
           46.56786172149111,
           25.450156770325766,
           5.051109808915196,
           50.99820561402205,
           5.813539205625745,
           11.624871220591526,
           6.037523664225113,
           52.8981952434008,
           7.3478697434784355,
           7.483463026270937,
           27.725787973459866,
           18.413213362946646,
           7.044342282660973,
           36.40087607400659,
           7.716343806206915,
           11.231875970218908,
           13.03650750257942,
           26.110020279980056,
           22.28171518405449,
           22.23372853708898,
           10.855614658567099,
           5.807686900017492,
           2.597365842279415,
           30.86803378711911,
           28.124478872877415,
           23.929001214859554,
           71.3381162493853,
           18.041130347066343,
           4.834210579422583,
           0.32855503959255233,
           2.3339799663984424,
           20.556853734061505,
           1.58925672805166,
           14.194334890811163,
           19.825317521394005,
           38.88583844412386,
           18.310515475199878,
           32.87307926574269,
           39.088546439692465,
           14.418408937740809,
           17.534321001544185,
           33.804562062095066,
           21.348027122447444,
           20.9927536984586
          ],
          "sizemode": "area",
          "sizeref": 0.038770326699119693,
          "symbol": "circle"
         },
         "mode": "markers",
         "name": "Africa",
         "text": [
          "Country: Algeria<br>Number of events: 161363.0<br>Number of articles: 783640.0<br>Population: 41,318,142<br>",
          "Country: Angola<br>Number of events: 129271.0<br>Number of articles: 644896.0<br>Population: 29,784,193<br>",
          "Country: Benin<br>Number of events: 83441.0<br>Number of articles: 407885.0<br>Population: 11,175,692<br>",
          "Country: Botswana<br>Number of events: 135202.0<br>Number of articles: 718720.0<br>Population: 2,291,661<br>",
          "Country: Burkina Faso<br>Number of events: 68772.0<br>Number of articles: 373630.0<br>Population: 19,193,382<br>",
          "Country: Burundi<br>Number of events: 154907.0<br>Number of articles: 912031.0<br>Population: 10,864,245<br>",
          "Country: Cameroon<br>Number of events: 155863.0<br>Number of articles: 808831.0<br>Population: 24,053,727<br>",
          "Country: Central African Republic<br>Number of events: 86017.0<br>Number of articles: 472419.0<br>Population: 4,659,080<br>",
          "Country: Chad<br>Number of events: 146553.0<br>Number of articles: 724981.0<br>Population: 14,899,994<br>",
          "Country: Comoros<br>Number of events: 4642.0<br>Number of articles: 23395.0<br>Population: 813,912<br>",
          "Country: Congo<br>Number of events: 128913.0<br>Number of articles: 666638.0<br>Population: 5,260,750<br>",
          "Country: Congo (Democratic Republic of the)<br>Number of events: 63853.0<br>Number of articles: 295932.0<br>Population: 81,339,988<br>",
          "Country: Côte d'Ivoire<br>Number of events: 70629.0<br>Number of articles: 372173.0<br>Population: 24,294,750<br>",
          "Country: Djibouti<br>Number of events: 77780.0<br>Number of articles: 348439.0<br>Population: 956,985<br>",
          "Country: Egypt<br>Number of events: 1378184.0<br>Number of articles: 6411221.0<br>Population: 97,553,151<br>",
          "Country: Equatorial Guinea<br>Number of events: 21713.0<br>Number of articles: 104389.0<br>Population: 1,267,689<br>",
          "Country: Eritrea<br>Number of events: 72203.0<br>Number of articles: 365756.0<br>Population: 5,068,831<br>",
          "Country: Eswatini<br>Number of events: 50143.0<br>Number of articles: 285387.0<br>Population: 1,367,254<br>",
          "Country: Ethiopia<br>Number of events: 366047.0<br>Number of articles: 1835960.0<br>Population: 104,957,438<br>",
          "Country: Gabon<br>Number of events: 27038.0<br>Number of articles: 144350.0<br>Population: 2,025,137<br>",
          "Country: Gambia<br>Number of events: 178521.0<br>Number of articles: 964109.0<br>Population: 2,100,568<br>",
          "Country: Ghana<br>Number of events: 931522.0<br>Number of articles: 4977149.0<br>Population: 28,833,629<br>",
          "Country: Guinea<br>Number of events: 64380.0<br>Number of articles: 325973.0<br>Population: 12,717,176<br>",
          "Country: Guinea-Bissau<br>Number of events: 10201.0<br>Number of articles: 41611.0<br>Population: 1,861,283<br>",
          "Country: Kenya<br>Number of events: 1153072.0<br>Number of articles: 5984609.0<br>Population: 49,699,862<br>",
          "Country: Lesotho<br>Number of events: 55643.0<br>Number of articles: 293294.0<br>Population: 2,233,339<br>",
          "Country: Liberia<br>Number of events: 236858.0<br>Number of articles: 1246236.0<br>Population: 4,731,906<br>",
          "Country: Libya<br>Number of events: 555912.0<br>Number of articles: 2776831.0<br>Population: 6,374,616<br>",
          "Country: Madagascar<br>Number of events: 38299.0<br>Number of articles: 207171.0<br>Population: 25,570,895<br>",
          "Country: Malawi<br>Number of events: 197340.0<br>Number of articles: 1038925.0<br>Population: 18,622,104<br>",
          "Country: Mali<br>Number of events: 142852.0<br>Number of articles: 793186.0<br>Population: 18,541,980<br>",
          "Country: Mauritania<br>Number of events: 30790.0<br>Number of articles: 148410.0<br>Population: 4,420,184<br>",
          "Country: Mauritius<br>Number of events: 47130.0<br>Number of articles: 251486.0<br>Population: 1,265,138<br>",
          "Country: Mayotte<br>Number of events: 741.0<br>Number of articles: 4281.0<br>Population: 253,045<br>",
          "Country: Morocco<br>Number of events: 240928.0<br>Number of articles: 1177686.0<br>Population: 35,739,580<br>",
          "Country: Mozambique<br>Number of events: 107071.0<br>Number of articles: 523745.0<br>Population: 29,668,834<br>",
          "Country: Niger<br>Number of events: 142729.0<br>Number of articles: 679461.0<br>Population: 21,477,348<br>",
          "Country: Nigeria<br>Number of events: 4609345.0<br>Number of articles: 21304797.0<br>Population: 190,886,311<br>",
          "Country: Rwanda<br>Number of events: 261671.0<br>Number of articles: 1345223.0<br>Population: 12,208,407<br>",
          "Country: Réunion<br>Number of events: 16443.0<br>Number of articles: 87331.0<br>Population: 876,562<br>",
          "Country: Saint Helena, Ascension and Tristan da Cunha<br>Number of events: 1163.0<br>Number of articles: 6184.0<br>Population: 4,049<br>",
          "Country: Sao Tome and Principe<br>Number of events: 3209.0<br>Number of articles: 14023.0<br>Population: 204,327<br>",
          "Country: Senegal<br>Number of events: 96627.0<br>Number of articles: 486133.0<br>Population: 15,850,567<br>",
          "Country: Seychelles<br>Number of events: 40447.0<br>Number of articles: 219242.0<br>Population: 94,737<br>",
          "Country: Sierra Leone<br>Number of events: 134691.0<br>Number of articles: 743651.0<br>Population: 7,557,212<br>",
          "Country: Somalia<br>Number of events: 576631.0<br>Number of articles: 2770280.0<br>Population: 14,742,523<br>",
          "Country: South Africa<br>Number of events: 2263233.0<br>Number of articles: 10400498.0<br>Population: 56,717,156<br>",
          "Country: South Sudan<br>Number of events: 241882.0<br>Number of articles: 1250599.0<br>Population: 12,575,714<br>",
          "Country: Sudan<br>Number of events: 546925.0<br>Number of articles: 2633196.0<br>Population: 40,533,330<br>",
          "Country: Tanzania, United Republic of<br>Number of events: 302893.0<br>Number of articles: 1552371.0<br>Population: 57,310,019<br>",
          "Country: Togo<br>Number of events: 28193.0<br>Number of articles: 146542.0<br>Population: 7,797,694<br>",
          "Country: Tunisia<br>Number of events: 223024.0<br>Number of articles: 1099799.0<br>Population: 11,532,127<br>",
          "Country: Uganda<br>Number of events: 604870.0<br>Number of articles: 2918814.0<br>Population: 42,862,958<br>",
          "Country: Zambia<br>Number of events: 290812.0<br>Number of articles: 1375276.0<br>Population: 17,094,130<br>",
          "Country: Zimbabwe<br>Number of events: 748716.0<br>Number of articles: 3906539.0<br>Population: 16,529,904<br>"
         ],
         "type": "scatter",
         "uid": "8eea0b97-3ccd-4f9e-9da0-7b2781fdf21c",
         "x": [
          161363,
          129271,
          83441,
          135202,
          68772,
          154907,
          155863,
          86017,
          146553,
          4642,
          128913,
          63853,
          70629,
          77780,
          1378184,
          21713,
          72203,
          50143,
          366047,
          27038,
          178521,
          931522,
          64380,
          10201,
          1153072,
          55643,
          236858,
          555912,
          38299,
          197340,
          142852,
          30790,
          47130,
          741,
          240928,
          107071,
          142729,
          4609345,
          261671,
          16443,
          1163,
          3209,
          96627,
          40447,
          134691,
          576631,
          2263233,
          241882,
          546925,
          302893,
          28193,
          223024,
          604870,
          290812,
          748716
         ],
         "y": [
          783640,
          644896,
          407885,
          718720,
          373630,
          912031,
          808831,
          472419,
          724981,
          23395,
          666638,
          295932,
          372173,
          348439,
          6411221,
          104389,
          365756,
          285387,
          1835960,
          144350,
          964109,
          4977149,
          325973,
          41611,
          5984609,
          293294,
          1246236,
          2776831,
          207171,
          1038925,
          793186,
          148410,
          251486,
          4281,
          1177686,
          523745,
          679461,
          21304797,
          1345223,
          87331,
          6184,
          14023,
          486133,
          219242,
          743651,
          2770280,
          10400498,
          1250599,
          2633196,
          1552371,
          146542,
          1099799,
          2918814,
          1375276,
          3906539
         ]
        },
        {
         "marker": {
          "line": {
           "width": 2
          },
          "size": [
           0.6304614000234484,
           1.64914892419422,
           34.355328993624546,
           1.6752289873211064,
           3.246617744353597,
           2.759966466358529,
           3.1605675732249203,
           1.278904126640293,
           17.165119196270986,
           74.69760837116635,
           31.24771840560539,
           1.2810911258404032,
           21.939650029846728,
           36.16786459070174,
           17.498179293818424,
           1.4038797551826168,
           16.942658643758783,
           21.05296250229311,
           13.039817021067279,
           0.27853561819881173,
           2.7454969103722955,
           1.2271046129253902,
           1.6954851022041135,
           3.4620388739445214,
           21.234939455463124,
           4.553912536162464,
           17.110382523943294,
           15.716597345370637,
           8.7782032246834,
           3.203361440332141,
           58.68184642782829,
           0.3715124114257049,
           10.453249679496176,
           13.475632341687469,
           29.28392573416819,
           9.882355430050655,
           1.2147123320669155,
           2.183591685790007,
           1.7116980788527258,
           3.875640065140524,
           6.041653235205652,
           0.9721154852694303,
           93.00674966498511,
           9.599933628425283,
           29.198029602849218,
           1.67233800232471
          ],
          "sizemode": "area",
          "sizeref": 0.038770326699119693
         },
         "mode": "markers",
         "name": "Americas",
         "text": [
          "Country: Anguilla<br>Number of events: 9623.0<br>Number of articles: 54931.0<br>Population: 14,909<br>",
          "Country: Antigua and Barbuda<br>Number of events: 33148.0<br>Number of articles: 180777.0<br>Population: 102,012<br>",
          "Country: Argentina<br>Number of events: 269552.0<br>Number of articles: 1224981.0<br>Population: 44,271,041<br>",
          "Country: Aruba<br>Number of events: 11988.0<br>Number of articles: 63551.0<br>Population: 105,264<br>",
          "Country: Bahamas<br>Number of events: 212221.0<br>Number of articles: 1078334.0<br>Population: 395,361<br>",
          "Country: Barbados<br>Number of events: 91924.0<br>Number of articles: 539148.0<br>Population: 285,719<br>",
          "Country: Belize<br>Number of events: 127535.0<br>Number of articles: 681964.0<br>Population: 374,681<br>",
          "Country: Bermuda<br>Number of events: 62150.0<br>Number of articles: 343817.0<br>Population: 61,349<br>",
          "Country: Bolivia (Plurinational State of)<br>Number of events: 76261.0<br>Number of articles: 369849.0<br>Population: 11,051,600<br>",
          "Country: Brazil<br>Number of events: 634409.0<br>Number of articles: 3339215.0<br>Population: 209,288,278<br>",
          "Country: Canada<br>Number of events: 4483920.0<br>Number of articles: 23220546.0<br>Population: 36,624,199<br>",
          "Country: Cayman Islands<br>Number of events: 39838.0<br>Number of articles: 213710.0<br>Population: 61,559<br>",
          "Country: Chile<br>Number of events: 220922.0<br>Number of articles: 1102443.0<br>Population: 18,054,726<br>",
          "Country: Colombia<br>Number of events: 340901.0<br>Number of articles: 1756025.0<br>Population: 49,065,615<br>",
          "Country: Cuba<br>Number of events: 691230.0<br>Number of articles: 3299680.0<br>Population: 11,484,636<br>",
          "Country: Dominica<br>Number of events: 21293.0<br>Number of articles: 125762.0<br>Population: 73,925<br>",
          "Country: Dominican Republic<br>Number of events: 81346.0<br>Number of articles: 397984.0<br>Population: 10,766,998<br>",
          "Country: Ecuador<br>Number of events: 123985.0<br>Number of articles: 611711.0<br>Population: 16,624,858<br>",
          "Country: El Salvador<br>Number of events: 94845.0<br>Number of articles: 451584.0<br>Population: 6,377,853<br>",
          "Country: Falkland Islands (Malvinas)<br>Number of events: 1565.0<br>Number of articles: 7177.0<br>Population: 2,910<br>",
          "Country: French Guiana<br>Number of events: 3503.0<br>Number of articles: 17767.0<br>Population: 282,731<br>",
          "Country: Greenland<br>Number of events: 29679.0<br>Number of articles: 153079.0<br>Population: 56,480<br>",
          "Country: Grenada<br>Number of events: 38488.0<br>Number of articles: 209385.0<br>Population: 107,825<br>",
          "Country: Guadeloupe<br>Number of events: 4356.0<br>Number of articles: 20251.0<br>Population: 449,568<br>",
          "Country: Guatemala<br>Number of events: 121593.0<br>Number of articles: 604672.0<br>Population: 16,913,503<br>",
          "Country: Guyana<br>Number of events: 181048.0<br>Number of articles: 959170.0<br>Population: 777,859<br>",
          "Country: Haiti<br>Number of events: 195835.0<br>Number of articles: 1039336.0<br>Population: 10,981,229<br>",
          "Country: Honduras<br>Number of events: 89412.0<br>Number of articles: 425400.0<br>Population: 9,265,067<br>",
          "Country: Jamaica<br>Number of events: 311825.0<br>Number of articles: 1722575.0<br>Population: 2,890,299<br>",
          "Country: Martinique<br>Number of events: 4174.0<br>Number of articles: 21121.0<br>Population: 384,896<br>",
          "Country: Mexico<br>Number of events: 1360467.0<br>Number of articles: 6365681.0<br>Population: 129,163,276<br>",
          "Country: Montserrat<br>Number of events: 4506.0<br>Number of articles: 25264.0<br>Population: 5,177<br>",
          "Country: Panama<br>Number of events: 215192.0<br>Number of articles: 1047318.0<br>Population: 4,098,587<br>",
          "Country: Paraguay<br>Number of events: 38062.0<br>Number of articles: 183767.0<br>Population: 6,811,297<br>",
          "Country: Peru<br>Number of events: 269870.0<br>Number of articles: 1343607.0<br>Population: 32,165,485<br>",
          "Country: Puerto Rico<br>Number of events: 145854.0<br>Number of articles: 777251.0<br>Population: 3,663,131<br>",
          "Country: Saint Kitts and Nevis<br>Number of events: 8031.0<br>Number of articles: 44833.0<br>Population: 55,345<br>",
          "Country: Saint Lucia<br>Number of events: 26278.0<br>Number of articles: 157263.0<br>Population: 178,844<br>",
          "Country: Saint Vincent and the Grenadines<br>Number of events: 16669.0<br>Number of articles: 79948.0<br>Population: 109,897<br>",
          "Country: Suriname<br>Number of events: 11651.0<br>Number of articles: 61789.0<br>Population: 563,402<br>",
          "Country: Trinidad and Tobago<br>Number of events: 190665.0<br>Number of articles: 955615.0<br>Population: 1,369,125<br>",
          "Country: Turks and Caicos Islands<br>Number of events: 1293.0<br>Number of articles: 6116.0<br>Population: 35,446<br>",
          "Country: United States of America<br>Number of events: 61962743.0<br>Number of articles: 288930710.0<br>Population: 324,459,463<br>",
          "Country: Uruguay<br>Number of events: 49825.0<br>Number of articles: 240069.0<br>Population: 3,456,750<br>",
          "Country: Venezuela (Bolivarian Republic of)<br>Number of events: 379791.0<br>Number of articles: 1802998.0<br>Population: 31,977,065<br>",
          "Country: Virgin Islands (British)<br>Number of events: 14873.0<br>Number of articles: 69777.0<br>Population: 104,901<br>"
         ],
         "type": "scatter",
         "uid": "d09b7839-efc9-4fd3-a3b4-3ebdf7caae37",
         "x": [
          9623,
          33148,
          269552,
          11988,
          212221,
          91924,
          127535,
          62150,
          76261,
          634409,
          4483920,
          39838,
          220922,
          340901,
          691230,
          21293,
          81346,
          123985,
          94845,
          1565,
          3503,
          29679,
          38488,
          4356,
          121593,
          181048,
          195835,
          89412,
          311825,
          4174,
          1360467,
          4506,
          215192,
          38062,
          269870,
          145854,
          8031,
          26278,
          16669,
          11651,
          190665,
          1293,
          61962743,
          49825,
          379791,
          14873
         ],
         "y": [
          54931,
          180777,
          1224981,
          63551,
          1078334,
          539148,
          681964,
          343817,
          369849,
          3339215,
          23220546,
          213710,
          1102443,
          1756025,
          3299680,
          125762,
          397984,
          611711,
          451584,
          7177,
          17767,
          153079,
          209385,
          20251,
          604672,
          959170,
          1039336,
          425400,
          1722575,
          21121,
          6365681,
          25264,
          1047318,
          183767,
          1343607,
          777251,
          44833,
          157263,
          79948,
          61789,
          955615,
          6116,
          288930710,
          240069,
          1802998,
          69777
         ]
        },
        {
         "marker": {
          "line": {
           "width": 2
          },
          "size": [
           30.77742937982143,
           8.838964762946555,
           16.186678373905703,
           6.308173586273391,
           66.25843275657286,
           4.640182785897223,
           3.3807220550993673,
           20.65699500655243,
           193.85163349559846,
           5.607801161590203,
           10.212617204059022,
           14.01254985128516,
           188.9529787049228,
           83.89365524224172,
           46.51710978278617,
           31.94402794732158,
           14.894875588732686,
           58.29923446379804,
           16.083211770972166,
           22.0304622813777,
           26.069180736608963,
           36.867490921141055,
           10.501521573401407,
           12.69511385312138,
           13.521910315973367,
           12.734156949691078,
           29.036512829739934,
           3.4106863391008404,
           9.055292622310622,
           37.72118468794721,
           27.951498309414497,
           11.117783941871053,
           72.47445259449883,
           11.453777647993233,
           52.888278684161264,
           8.388248753920399,
           29.63358956830939,
           23.59214490288363,
           22.069980501929088,
           25.097677567261613,
           15.422307681046497,
           42.901928395435874,
           46.39723691846496,
           12.390045560473263,
           15.830751112573981,
           29.167688198143615,
           27.443955036927168
          ],
          "sizemode": "area",
          "sizeref": 0.038770326699119693
         },
         "mode": "markers",
         "name": "Asia",
         "text": [
          "Country: Afghanistan<br>Number of events: 1872920.0<br>Number of articles: 8886424.0<br>Population: 35,530,081<br>",
          "Country: Armenia<br>Number of events: 483442.0<br>Number of articles: 2167105.0<br>Population: 2,930,450<br>",
          "Country: Azerbaijan<br>Number of events: 412025.0<br>Number of articles: 1917514.0<br>Population: 9,827,589<br>",
          "Country: Bahrain<br>Number of events: 237277.0<br>Number of articles: 1232467.0<br>Population: 1,492,584<br>",
          "Country: Bangladesh<br>Number of events: 1140310.0<br>Number of articles: 5950308.0<br>Population: 164,669,751<br>",
          "Country: Bhutan<br>Number of events: 68802.0<br>Number of articles: 361152.0<br>Population: 807,610<br>",
          "Country: Brunei Darussalam<br>Number of events: 199684.0<br>Number of articles: 790634.0<br>Population: 428,697<br>",
          "Country: Cambodia<br>Number of events: 329072.0<br>Number of articles: 1706027.0<br>Population: 16,005,373<br>",
          "Country: China<br>Number of events: 5138554.0<br>Number of articles: 24986512.0<br>Population: 1,409,517,397<br>",
          "Country: Cyprus<br>Number of events: 208360.0<br>Number of articles: 989487.0<br>Population: 1,179,551<br>",
          "Country: Georgia<br>Number of events: 86169.0<br>Number of articles: 386572.0<br>Population: 3,912,061<br>",
          "Country: Hong Kong<br>Number of events: 285191.0<br>Number of articles: 1576934.0<br>Population: 7,364,883<br>",
          "Country: India<br>Number of events: 7815392.0<br>Number of articles: 40624565.0<br>Population: 1,339,180,127<br>",
          "Country: Indonesia<br>Number of events: 1025338.0<br>Number of articles: 4967829.0<br>Population: 263,991,379<br>",
          "Country: Iran (Islamic Republic of)<br>Number of events: 2710326.0<br>Number of articles: 11894575.0<br>Population: 81,162,788<br>",
          "Country: Iraq<br>Number of events: 2018608.0<br>Number of articles: 9452345.0<br>Population: 38,274,618<br>",
          "Country: Israel<br>Number of events: 3719826.0<br>Number of articles: 15922357.0<br>Population: 8,321,570<br>",
          "Country: Japan<br>Number of events: 1836589.0<br>Number of articles: 9045102.0<br>Population: 127,484,450<br>",
          "Country: Jordan<br>Number of events: 495320.0<br>Number of articles: 2396328.0<br>Population: 9,702,353<br>",
          "Country: Kazakhstan<br>Number of events: 204892.0<br>Number of articles: 982243.0<br>Population: 18,204,499<br>",
          "Country: Korea (Democratic People's Republic of)<br>Number of events: 952512.0<br>Number of articles: 4505316.0<br>Population: 25,490,965<br>",
          "Country: Korea (Republic of)<br>Number of events: 1082162.0<br>Number of articles: 5422950.0<br>Population: 50,982,212<br>",
          "Country: Kuwait<br>Number of events: 235288.0<br>Number of articles: 1185104.0<br>Population: 4,136,528<br>",
          "Country: Kyrgyzstan<br>Number of events: 132737.0<br>Number of articles: 644571.0<br>Population: 6,045,117<br>",
          "Country: Lao People's Democratic Republic<br>Number of events: 115042.0<br>Number of articles: 518633.0<br>Population: 6,858,160<br>",
          "Country: Lebanon<br>Number of events: 593515.0<br>Number of articles: 2678911.0<br>Population: 6,082,357<br>",
          "Country: Malaysia<br>Number of events: 1285659.0<br>Number of articles: 6655439.0<br>Population: 31,624,264<br>",
          "Country: Maldives<br>Number of events: 79115.0<br>Number of articles: 446303.0<br>Population: 436,330<br>",
          "Country: Mongolia<br>Number of events: 70158.0<br>Number of articles: 363410.0<br>Population: 3,075,647<br>",
          "Country: Myanmar<br>Number of events: 401307.0<br>Number of articles: 1988261.0<br>Population: 53,370,609<br>",
          "Country: Nepal<br>Number of events: 491877.0<br>Number of articles: 2764564.0<br>Population: 29,304,998<br>",
          "Country: Oman<br>Number of events: 154586.0<br>Number of articles: 807025.0<br>Population: 4,636,262<br>",
          "Country: Pakistan<br>Number of events: 3692653.0<br>Number of articles: 17894942.0<br>Population: 197,015,955<br>",
          "Country: Palestine, State of<br>Number of events: 296280.0<br>Number of articles: 1058256.0<br>Population: 4,920,724<br>",
          "Country: Philippines<br>Number of events: 2382527.0<br>Number of articles: 10800643.0<br>Population: 104,918,090<br>",
          "Country: Qatar<br>Number of events: 486478.0<br>Number of articles: 2278313.0<br>Population: 2,639,211<br>",
          "Country: Saudi Arabia<br>Number of events: 1612745.0<br>Number of articles: 7052974.0<br>Population: 32,938,213<br>",
          "Country: Sri Lanka<br>Number of events: 662434.0<br>Number of articles: 3613513.0<br>Population: 20,876,917<br>",
          "Country: Syrian Arab Republic<br>Number of events: 3593007.0<br>Number of articles: 15768207.0<br>Population: 18,269,868<br>",
          "Country: Taiwan, Province of China<br>Number of events: 420857.0<br>Number of articles: 2143519.0<br>Population: 23,626,456<br>",
          "Country: Tajikistan<br>Number of events: 111515.0<br>Number of articles: 529456.0<br>Population: 8,921,343<br>",
          "Country: Thailand<br>Number of events: 804988.0<br>Number of articles: 4264591.0<br>Population: 69,037,513<br>",
          "Country: Turkey<br>Number of events: 2741337.0<br>Number of articles: 12383902.0<br>Population: 80,745,020<br>",
          "Country: Turkmenistan<br>Number of events: 83689.0<br>Number of articles: 384236.0<br>Population: 5,758,075<br>",
          "Country: United Arab Emirates<br>Number of events: 621345.0<br>Number of articles: 3004443.0<br>Population: 9,400,145<br>",
          "Country: Uzbekistan<br>Number of events: 136221.0<br>Number of articles: 632228.0<br>Population: 31,910,641<br>",
          "Country: Yemen<br>Number of events: 670288.0<br>Number of articles: 3243655.0<br>Population: 28,250,420<br>"
         ],
         "type": "scatter",
         "uid": "dd698bac-641e-4906-ac45-81ddeff66886",
         "x": [
          1872920,
          483442,
          412025,
          237277,
          1140310,
          68802,
          199684,
          329072,
          5138554,
          208360,
          86169,
          285191,
          7815392,
          1025338,
          2710326,
          2018608,
          3719826,
          1836589,
          495320,
          204892,
          952512,
          1082162,
          235288,
          132737,
          115042,
          593515,
          1285659,
          79115,
          70158,
          401307,
          491877,
          154586,
          3692653,
          296280,
          2382527,
          486478,
          1612745,
          662434,
          3593007,
          420857,
          111515,
          804988,
          2741337,
          83689,
          621345,
          136221,
          670288
         ],
         "y": [
          8886424,
          2167105,
          1917514,
          1232467,
          5950308,
          361152,
          790634,
          1706027,
          24986512,
          989487,
          386572,
          1576934,
          40624565,
          4967829,
          11894575,
          9452345,
          15922357,
          9045102,
          2396328,
          982243,
          4505316,
          5422950,
          1185104,
          644571,
          518633,
          2678911,
          6655439,
          446303,
          363410,
          1988261,
          2764564,
          807025,
          17894942,
          1058256,
          10800643,
          2278313,
          7052974,
          3613513,
          15768207,
          2143519,
          529456,
          4264591,
          12383902,
          384236,
          3004443,
          632228,
          3243655
         ]
        },
        {
         "marker": {
          "line": {
           "width": 2
          },
          "size": [
           8.838568117398479,
           1.432454649965442,
           15.260788039593598,
           15.88806914320113,
           17.456000466085897,
           9.66948135313958,
           13.743299888636123,
           10.568363019666625,
           16.825260683034656,
           12.363632418854058,
           5.90893052591097,
           1.1463405462990943,
           12.13475041585785,
           41.62196576944981,
           46.788965298060454,
           0.9600419618404866,
           17.24892067963224,
           2.0993703626812765,
           0.1453104459099217,
           16.09912241918587,
           2.988634824080831,
           11.267129834607402,
           1.4990445606439364,
           39.7814698100746,
           7.209660247906767,
           1.0054948756685902,
           8.778200187556534,
           3.9440092756459815,
           7.4523897287090435,
           3.389141748141386,
           10.39266025109686,
           1.01569115431506,
           4.094923170910459,
           21.31165956683669,
           11.893032766526643,
           31.900638462496595,
           16.5948763508496,
           22.905466124917695,
           61.95837795091193,
           0.943642468664231,
           15.308860365302758,
           12.051450510458706,
           7.446692258822713,
           35.15437301659946,
           16.25497970694476,
           15.03245272771277,
           34.336662906938464,
           42.0051777363138
          ],
          "sizemode": "area",
          "sizeref": 0.038770326699119693
         },
         "mode": "markers",
         "name": "Europe",
         "text": [
          "Country: Albania<br>Number of events: 124019.0<br>Number of articles: 621488.0<br>Population: 2,930,187<br>",
          "Country: Andorra<br>Number of events: 3420.0<br>Number of articles: 16620.0<br>Population: 76,965<br>",
          "Country: Austria<br>Number of events: 413563.0<br>Number of articles: 1953626.0<br>Population: 8,735,453<br>",
          "Country: Belarus<br>Number of events: 278185.0<br>Number of articles: 1282814.0<br>Population: 9,468,338<br>",
          "Country: Belgium<br>Number of events: 763121.0<br>Number of articles: 3506225.0<br>Population: 11,429,336<br>",
          "Country: Bosnia and Herzegovina<br>Number of events: 57039.0<br>Number of articles: 268103.0<br>Population: 3,507,017<br>",
          "Country: Bulgaria<br>Number of events: 249195.0<br>Number of articles: 1198936.0<br>Population: 7,084,571<br>",
          "Country: Croatia<br>Number of events: 136471.0<br>Number of articles: 653041.0<br>Population: 4,189,353<br>",
          "Country: Czechia<br>Number of events: 230297.0<br>Number of articles: 1122637.0<br>Population: 10,618,303<br>",
          "Country: Denmark<br>Number of events: nan<br>Number of articles: nan<br>Population: 5,733,551<br>",
          "Country: Estonia<br>Number of events: 110289.0<br>Number of articles: 529058.0<br>Population: 1,309,632<br>",
          "Country: Faroe Islands<br>Number of events: 3469.0<br>Number of articles: 19752.0<br>Population: 49,290<br>",
          "Country: Finland<br>Number of events: 184384.0<br>Number of articles: 948545.0<br>Population: 5,523,231<br>",
          "Country: France<br>Number of events: 2976218.0<br>Number of articles: 13579912.0<br>Population: 64,979,548<br>",
          "Country: Germany<br>Number of events: 2475702.0<br>Number of articles: 11645955.0<br>Population: 82,114,224<br>",
          "Country: Gibraltar<br>Number of events: 35719.0<br>Number of articles: 186855.0<br>Population: 34,571<br>",
          "Country: Greece<br>Number of events: 1009966.0<br>Number of articles: 5151674.0<br>Population: 11,159,773<br>",
          "Country: Guernsey<br>Number of events: 28939.0<br>Number of articles: 154163.0<br>Population: 165,314<br>",
          "Country: Holy See<br>Number of events: 65637.0<br>Number of articles: 297035.0<br>Population: 792<br>",
          "Country: Hungary<br>Number of events: 315886.0<br>Number of articles: 1614549.0<br>Population: 9,721,559<br>",
          "Country: Iceland<br>Number of events: 97141.0<br>Number of articles: 548521.0<br>Population: 335,025<br>",
          "Country: Ireland<br>Number of events: 1535669.0<br>Number of articles: 7699354.0<br>Population: 4,761,657<br>",
          "Country: Isle of Man<br>Number of events: 2364.0<br>Number of articles: 12929.0<br>Population: 84,287<br>",
          "Country: Italy<br>Number of events: 1412552.0<br>Number of articles: 6665704.0<br>Population: 59,359,900<br>",
          "Country: Latvia<br>Number of events: 96325.0<br>Number of articles: 491028.0<br>Population: 1,949,670<br>",
          "Country: Liechtenstein<br>Number of events: 5818.0<br>Number of articles: 28328.0<br>Population: 37,922<br>",
          "Country: Lithuania<br>Number of events: 110108.0<br>Number of articles: 525151.0<br>Population: 2,890,297<br>",
          "Country: Luxembourg<br>Number of events: 91843.0<br>Number of articles: 488599.0<br>Population: 583,455<br>",
          "Country: Macedonia (the former Yugoslav Republic of)<br>Number of events: 136834.0<br>Number of articles: 700638.0<br>Population: 2,083,160<br>",
          "Country: Malta<br>Number of events: 230702.0<br>Number of articles: 1230277.0<br>Population: 430,835<br>",
          "Country: Moldova (Republic of)<br>Number of events: 79798.0<br>Number of articles: 393991.0<br>Population: 4,051,212<br>",
          "Country: Monaco<br>Number of events: 33913.0<br>Number of articles: 169541.0<br>Population: 38,695<br>",
          "Country: Montenegro<br>Number of events: 28848.0<br>Number of articles: 148911.0<br>Population: 628,960<br>",
          "Country: Netherlands<br>Number of events: 643886.0<br>Number of articles: 3111929.0<br>Population: 17,035,938<br>",
          "Country: Norway<br>Number of events: 363336.0<br>Number of articles: 1798155.0<br>Population: 5,305,383<br>",
          "Country: Poland<br>Number of events: 525815.0<br>Number of articles: 2624273.0<br>Population: 38,170,712<br>",
          "Country: Portugal<br>Number of events: 224862.0<br>Number of articles: 1148197.0<br>Population: 10,329,506<br>",
          "Country: Romania<br>Number of events: 286007.0<br>Number of articles: 1557659.0<br>Population: 19,679,306<br>",
          "Country: Russian Federation<br>Number of events: 4554733.0<br>Number of articles: 19111535.0<br>Population: 143,989,754<br>",
          "Country: San Marino<br>Number of events: 2866.0<br>Number of articles: 14541.0<br>Population: 33,400<br>",
          "Country: Serbia<br>Number of events: 138508.0<br>Number of articles: 637917.0<br>Population: 8,790,574<br>",
          "Country: Slovakia<br>Number of events: 66908.0<br>Number of articles: 317607.0<br>Population: 5,447,662<br>",
          "Country: Slovenia<br>Number of events: 57832.0<br>Number of articles: 296964.0<br>Population: 2,079,976<br>",
          "Country: Spain<br>Number of events: 1009570.0<br>Number of articles: 4947518.0<br>Population: 46,354,321<br>",
          "Country: Sweden<br>Number of events: 511131.0<br>Number of articles: 2378677.0<br>Population: 9,910,701<br>",
          "Country: Switzerland<br>Number of events: 727432.0<br>Number of articles: 3508038.0<br>Population: 8,476,005<br>",
          "Country: Ukraine<br>Number of events: nan<br>Number of articles: nan<br>Population: 44,222,947<br>",
          "Country: United Kingdom of Great Britain and Northern Ireland<br>Number of events: 9149259.0<br>Number of articles: 45590433.0<br>Population: 66,181,585<br>"
         ],
         "type": "scatter",
         "uid": "8c52d8cf-2ac5-4401-b122-5bc55b7501d4",
         "x": [
          124019,
          3420,
          413563,
          278185,
          763121,
          57039,
          249195,
          136471,
          230297,
          null,
          110289,
          3469,
          184384,
          2976218,
          2475702,
          35719,
          1009966,
          28939,
          65637,
          315886,
          97141,
          1535669,
          2364,
          1412552,
          96325,
          5818,
          110108,
          91843,
          136834,
          230702,
          79798,
          33913,
          28848,
          643886,
          363336,
          525815,
          224862,
          286007,
          4554733,
          2866,
          138508,
          66908,
          57832,
          1009570,
          511131,
          727432,
          null,
          9149259
         ],
         "y": [
          621488,
          16620,
          1953626,
          1282814,
          3506225,
          268103,
          1198936,
          653041,
          1122637,
          null,
          529058,
          19752,
          948545,
          13579912,
          11645955,
          186855,
          5151674,
          154163,
          297035,
          1614549,
          548521,
          7699354,
          12929,
          6665704,
          491028,
          28328,
          525151,
          488599,
          700638,
          1230277,
          393991,
          169541,
          148911,
          3111929,
          1798155,
          2624273,
          1148197,
          1557659,
          19111535,
          14541,
          637917,
          317607,
          296964,
          4947518,
          2378677,
          3508038,
          null,
          45590433
         ]
        },
        {
         "marker": {
          "line": {
           "width": 2
          },
          "size": [
           1.217956305167456,
           25.53163685912223,
           0.6807052979473003,
           4.913364137767267,
           2.7468366508114066,
           2.0924696566327943,
           1.7615987917773155,
           1.1901231169660715,
           1.6774555443846635,
           2.7138717375046526,
           11.200871321784767,
           0.20769378613017916,
           1.2125045512145933,
           0.7611217184956988,
           14.831729685318082,
           2.2884909926734784,
           4.03716701804694,
           0.18616838052201523,
           1.6970175401810148,
           2.713817706109224
          ],
          "sizemode": "area",
          "sizeref": 0.038770326699119693
         },
         "mode": "markers",
         "name": "Oceania",
         "text": [
          "Country: American Samoa<br>Number of events: 9091.0<br>Number of articles: 50678.0<br>Population: 55,641<br>",
          "Country: Australia<br>Number of events: 4955224.0<br>Number of articles: 28611811.0<br>Population: 24,450,561<br>",
          "Country: Cook Islands<br>Number of events: 18993.0<br>Number of articles: 99447.0<br>Population: 17,380<br>",
          "Country: Fiji<br>Number of events: 207372.0<br>Number of articles: 1138879.0<br>Population: 905,502<br>",
          "Country: French Polynesia<br>Number of events: 8076.0<br>Number of articles: 38781.0<br>Population: 283,007<br>",
          "Country: Guam<br>Number of events: 96840.0<br>Number of articles: 537417.0<br>Population: 164,229<br>",
          "Country: Kiribati<br>Number of events: 11288.0<br>Number of articles: 59865.0<br>Population: 116,398<br>",
          "Country: Marshall Islands<br>Number of events: 19494.0<br>Number of articles: 98105.0<br>Population: 53,127<br>",
          "Country: Micronesia (Federated States of)<br>Number of events: 10508.0<br>Number of articles: 53858.0<br>Population: 105,544<br>",
          "Country: New Caledonia<br>Number of events: 7366.0<br>Number of articles: 36365.0<br>Population: 276,255<br>",
          "Country: New Zealand<br>Number of events: 964174.0<br>Number of articles: 5282195.0<br>Population: 4,705,818<br>",
          "Country: Niue<br>Number of events: 2298.0<br>Number of articles: 12914.0<br>Population: 1,618<br>",
          "Country: Northern Mariana Islands<br>Number of events: 1504.0<br>Number of articles: 8605.0<br>Population: 55,144<br>",
          "Country: Palau<br>Number of events: 9198.0<br>Number of articles: 45358.0<br>Population: 21,729<br>",
          "Country: Papua New Guinea<br>Number of events: 94575.0<br>Number of articles: 521362.0<br>Population: 8,251,162<br>",
          "Country: Samoa<br>Number of events: 64548.0<br>Number of articles: 344507.0<br>Population: 196,440<br>",
          "Country: Solomon Islands<br>Number of events: 28272.0<br>Number of articles: 151474.0<br>Population: 611,343<br>",
          "Country: Tokelau<br>Number of events: 1326.0<br>Number of articles: 6203.0<br>Population: 1,300<br>",
          "Country: Tonga<br>Number of events: 26107.0<br>Number of articles: 137595.0<br>Population: 108,020<br>",
          "Country: Vanuatu<br>Number of events: 33426.0<br>Number of articles: 184023.0<br>Population: 276,244<br>"
         ],
         "type": "scatter",
         "uid": "456ab0e6-0f69-40d0-9402-77b611097499",
         "x": [
          9091,
          4955224,
          18993,
          207372,
          8076,
          96840,
          11288,
          19494,
          10508,
          7366,
          964174,
          2298,
          1504,
          9198,
          94575,
          64548,
          28272,
          1326,
          26107,
          33426
         ],
         "y": [
          50678,
          28611811,
          99447,
          1138879,
          38781,
          537417,
          59865,
          98105,
          53858,
          36365,
          5282195,
          12914,
          8605,
          45358,
          521362,
          344507,
          151474,
          6203,
          137595,
          184023
         ]
        }
       ],
       "layout": {
        "paper_bgcolor": "rgb(243, 243, 243)",
        "plot_bgcolor": "rgb(243, 243, 243)",
        "title": "Number of Articles vs Number of Events",
        "xaxis": {
         "gridcolor": "rgb(255, 255, 255)",
         "gridwidth": 2,
         "range": [
          0,
          75000000
         ],
         "ticklen": 5,
         "title": "Number of Events",
         "zerolinewidth": 1
        },
        "yaxis": {
         "gridcolor": "rgb(255, 255, 255)",
         "gridwidth": 2,
         "range": [
          0,
          350000000
         ],
         "ticklen": 5,
         "title": "Number of Articles",
         "zerolinewidth": 1
        }
       }
      }
     },
     "metadata": {},
     "output_type": "display_data"
    }
   ],
   "source": [
    "data_q2_final = pd.read_csv(\"data_q2_final.csv\")\n",
    "visualization_q2(data_q2_final)"
   ]
  },
  {
   "cell_type": "markdown",
   "metadata": {},
   "source": [
    "Q4. **Do we have a saturation limit?** / Q5. **Who is more emotional?** <a id='Part3_Q4'></a>"
   ]
  },
  {
   "cell_type": "code",
   "execution_count": null,
   "metadata": {},
   "outputs": [],
   "source": [
    "# plot the top 10 most common emotions in 500 events (for each event)\n",
    "Top_Emotions_GCAM = dict_top_feelings(df_ID_Emotions,Emotions_dictionary,1,500)\n",
    "plot_commom_emotion(tuple_list = None, dictionary = Top_Emotions_GCAM, dictionary_flag=True)"
   ]
  },
  {
   "cell_type": "markdown",
   "metadata": {},
   "source": [
    "> With this analysis we wanted to see if there are recurrent emotions in the news or speeches. Clearly there are. There might be some reasons to that, such as the dictionaries being so large that there are always a lot of words that belong to them or that in fact the words in those dictionaries are common. We will take this knowledge into account when attributing the emotions to countries or people (also because there are words that can belong to different dictionaries that have different meanings). For these feelings (when not obvious, such as \"POSITIVE\"), we went into extra efforts to understand what they mean."
   ]
  }
 ],
 "metadata": {
  "kernelspec": {
   "display_name": "Python 3",
   "language": "python",
   "name": "python3"
  },
  "language_info": {
   "codemirror_mode": {
    "name": "ipython",
    "version": 3
   },
   "file_extension": ".py",
   "mimetype": "text/x-python",
   "name": "python",
   "nbconvert_exporter": "python",
   "pygments_lexer": "ipython3",
   "version": "3.6.4"
  }
 },
 "nbformat": 4,
 "nbformat_minor": 2
}
